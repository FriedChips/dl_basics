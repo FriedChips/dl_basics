{
 "cells": [
  {
   "cell_type": "code",
   "execution_count": 1,
   "metadata": {},
   "outputs": [
    {
     "name": "stderr",
     "output_type": "stream",
     "text": [
      "2023-04-06 17:45:51.237066: I tensorflow/core/platform/cpu_feature_guard.cc:193] This TensorFlow binary is optimized with oneAPI Deep Neural Network Library (oneDNN) to use the following CPU instructions in performance-critical operations:  SSE4.1 SSE4.2 AVX\n",
      "To enable them in other operations, rebuild TensorFlow with the appropriate compiler flags.\n"
     ]
    }
   ],
   "source": [
    "import numpy as np\n",
    "import matplotlib.pyplot as plt\n",
    "import importlib # for reloading modules during development\n",
    " \n",
    "import rnn\n",
    "import mlp"
   ]
  },
  {
   "cell_type": "code",
   "execution_count": 24,
   "metadata": {},
   "outputs": [
    {
     "name": "stdout",
     "output_type": "stream",
     "text": [
      "Model: \"gru_01\"\n",
      "_________________________________________________________________\n",
      " Layer (type)                Output Shape              Param #   \n",
      "=================================================================\n",
      " input (InputLayer)          [(None, 32, 64)]          0         \n",
      "                                                                 \n",
      " gru_0 (GRU)                 (None, 32, 16)            3936      \n",
      "                                                                 \n",
      " gru_1 (GRU)                 (None, 32, 16)            1632      \n",
      "                                                                 \n",
      " gru_final (GRU)             (None, 16)                1632      \n",
      "                                                                 \n",
      " linear_final (Dense)        (None, 1)                 17        \n",
      "                                                                 \n",
      "=================================================================\n",
      "Total params: 7,217\n",
      "Trainable params: 7,217\n",
      "Non-trainable params: 0\n",
      "_________________________________________________________________\n"
     ]
    }
   ],
   "source": [
    "importlib.reload(rnn);\n",
    "\n",
    "rnn.build_model_gru_01(\n",
    "    gru_units=16,\n",
    "    num_outputs=1,\n",
    "    input_shape=(32,64),\n",
    "    num_hidden_gru=2,\n",
    "    use_embedding=False,\n",
    "    #vocab_size=256,\n",
    "    #embedding_dim=64\n",
    ").summary()"
   ]
  },
  {
   "cell_type": "code",
   "execution_count": 4,
   "metadata": {},
   "outputs": [
    {
     "name": "stdout",
     "output_type": "stream",
     "text": [
      "Model: \"mlp_2d_01\"\n",
      "_________________________________________________________________\n",
      " Layer (type)                Output Shape              Param #   \n",
      "=================================================================\n",
      " input (InputLayer)          [(None, 28, 28)]          0         \n",
      "                                                                 \n",
      " tf.expand_dims (TFOpLambda)  (None, 28, 28, 1)        0         \n",
      "                                                                 \n",
      " dense_0 (Conv2D)            (None, 1, 1, 32)          25120     \n",
      "                                                                 \n",
      " flatten_0 (Flatten)         (None, 32)                0         \n",
      "                                                                 \n",
      " tf.nn.relu_4 (TFOpLambda)   (None, 32)                0         \n",
      "                                                                 \n",
      " dense_1 (Dense)             (None, 16)                528       \n",
      "                                                                 \n",
      " tf.nn.relu_5 (TFOpLambda)   (None, 16)                0         \n",
      "                                                                 \n",
      " dense_2 (Dense)             (None, 8)                 136       \n",
      "                                                                 \n",
      "=================================================================\n",
      "Total params: 25,784\n",
      "Trainable params: 25,784\n",
      "Non-trainable params: 0\n",
      "_________________________________________________________________\n"
     ]
    }
   ],
   "source": [
    "importlib.reload(mlp);\n",
    "\n",
    "mlp.build_model_mlp_2d_01(\n",
    "    input_shape=(28,28),\n",
    "    layer_units=[32,16,8]\n",
    ").summary()"
   ]
  },
  {
   "cell_type": "code",
   "execution_count": null,
   "metadata": {},
   "outputs": [],
   "source": []
  }
 ],
 "metadata": {
  "kernelspec": {
   "display_name": "dl_basics",
   "language": "python",
   "name": "python3"
  },
  "language_info": {
   "codemirror_mode": {
    "name": "ipython",
    "version": 3
   },
   "file_extension": ".py",
   "mimetype": "text/x-python",
   "name": "python",
   "nbconvert_exporter": "python",
   "pygments_lexer": "ipython3",
   "version": "3.10.10"
  },
  "orig_nbformat": 4
 },
 "nbformat": 4,
 "nbformat_minor": 2
}
