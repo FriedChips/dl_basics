{
  "cells": [
    {
      "cell_type": "code",
      "execution_count": 1,
      "metadata": {
        "colab": {
          "base_uri": "https://localhost:8080/"
        },
        "id": "yxFdHosMSc5M",
        "outputId": "180c9260-ac77-4e06-dff8-4db77794e63f"
      },
      "outputs": [
        {
          "output_type": "stream",
          "name": "stdout",
          "text": [
            "Running in Colab.\n",
            "Mounted at /content/gdrive\n",
            "Cloning into 'dl_basics'...\n",
            "remote: Enumerating objects: 351, done.\u001b[K\n",
            "remote: Counting objects: 100% (66/66), done.\u001b[K\n",
            "remote: Compressing objects: 100% (50/50), done.\u001b[K\n",
            "remote: Total 351 (delta 29), reused 35 (delta 16), pack-reused 285\u001b[K\n",
            "Receiving objects: 100% (351/351), 15.79 MiB | 23.36 MiB/s, done.\n",
            "Resolving deltas: 100% (162/162), done.\n",
            "Found GPU: Tesla T4.\n"
          ]
        }
      ],
      "source": [
        "import numpy as np\n",
        "import pandas as pd\n",
        "import matplotlib.pyplot as plt\n",
        "import seaborn as sns\n",
        "import os\n",
        "import sys\n",
        "import datetime\n",
        "import json\n",
        "import tensorflow as tf\n",
        "from tqdm.keras import TqdmCallback\n",
        "from tensorflow.keras.optimizers import Adam, SGD\n",
        "from tensorflow.keras.optimizers.experimental import AdamW\n",
        "from tensorflow.keras.losses import SparseCategoricalCrossentropy\n",
        "\n",
        "sns.set_theme()\n",
        "\n",
        "try: # are we in Colab?\n",
        "    import google.colab\n",
        "    COMPUTE_ENV = 'colab'\n",
        "    print('Running in Colab.')\n",
        "    google.colab.drive.mount('/content/gdrive')\n",
        "    OUTPUT_DIR = \"/content/gdrive/My Drive/output\"\n",
        "    !git clone https://github.com/FriedChips/dl_basics.git\n",
        "    sys.path.insert(0,'/content/dl_basics')\n",
        "except: # if not...\n",
        "    if \"kaggle\" in os.environ[\"PWD\"]: # are we in Kaggle?\n",
        "        COMPUTE_ENV = 'kaggle'\n",
        "        print('Running in Kaggle.')\n",
        "        !git clone https://github.com/FriedChips/dl_basics.git\n",
        "        sys.path.insert(0,'../working/dl_basics')    \n",
        "        OUTPUT_DIR = \"./\"\n",
        "    else: # we're local\n",
        "        COMPUTE_ENV = os.uname()[1]\n",
        "        print(f\"Running locally on {COMPUTE_ENV}.\")\n",
        "        sys.path.insert(0,'./../')\n",
        "        OUTPUT_DIR = \"../output/\"\n",
        "\n",
        "for gpu in tf.config.list_physical_devices(\"GPU\"):\n",
        "    print(f\"Found GPU: {tf.config.experimental.get_device_details(gpu)['device_name']}.\")"
      ]
    },
    {
      "cell_type": "code",
      "execution_count": 2,
      "metadata": {
        "id": "9kRbLzj4Sc5S"
      },
      "outputs": [],
      "source": [
        "from data_gen.modulo_arithmetic import addition_modulo_data\n",
        "#import models\n",
        "import utils"
      ]
    },
    {
      "cell_type": "code",
      "execution_count": 3,
      "metadata": {
        "colab": {
          "base_uri": "https://localhost:8080/"
        },
        "id": "jazWXg9PSc5T",
        "outputId": "143323fd-2710-45be-e4bc-eca84c937d04"
      },
      "outputs": [
        {
          "output_type": "stream",
          "name": "stdout",
          "text": [
            "(3830, 2) (8939, 2) (3830,) (8939,)\n",
            "int32 int32 int32 int32\n",
            "[24 37] 61\n"
          ]
        }
      ],
      "source": [
        "P = {}\n",
        "\n",
        "P[\"addition_modulo_data\"] = {\n",
        "    \"p_max\" : 113,\n",
        "    \"train_size\" : 0.3,\n",
        "    \"add_equal_sign\" : False,\n",
        "    \"seed\" : 42,\n",
        "}\n",
        "\n",
        "x_train, x_val, y_train, y_val = addition_modulo_data(**P[\"addition_modulo_data\"])\n",
        "print(x_train.shape, x_val.shape, y_train.shape, y_val.shape)\n",
        "print(x_train.dtype, x_val.dtype, y_train.dtype, y_val.dtype)\n",
        "print(x_train[0], y_train[0])"
      ]
    },
    {
      "cell_type": "code",
      "execution_count": 33,
      "metadata": {
        "id": "JvItixB8nZFk"
      },
      "outputs": [],
      "source": [
        "import tensorflow as tf\n",
        "from tensorflow.keras import Model, Input\n",
        "from tensorflow.keras.layers import Embedding, Dense, Conv2D, Flatten\n",
        "from tensorflow.keras.regularizers import L2\n",
        "from models.transformers import transformer_block\n",
        "\n",
        "def mlp_mod_arith(\n",
        "        seq_len,\n",
        "        vocab_size,\n",
        "        embed_dim,\n",
        "        mlp_dim,\n",
        "        regularizer=None,\n",
        "):\n",
        "    if regularizer is not None:\n",
        "        regularizer = eval(regularizer)\n",
        "\n",
        "    embed = Embedding(vocab_size, embed_dim, input_length=seq_len, embeddings_regularizer=regularizer, name=\"embedding\")\n",
        "    unemb = Dense(vocab_size, use_bias=False, kernel_regularizer=regularizer, name=\"unembedding\")\n",
        "\n",
        "    inp = Input(shape=(seq_len,), dtype=np.int32, name=\"input\")\n",
        "    x = embed(inp)\n",
        "    x = tf.expand_dims(x, -1)\n",
        "    x = Conv2D(mlp_dim, kernel_size=(seq_len, embed_dim), use_bias=False, kernel_regularizer=regularizer, name=\"mlp\")(x)\n",
        "    x = tf.nn.gelu(x)\n",
        "    x = Flatten()(x)\n",
        "    x = unemb(x)\n",
        "    out = x\n",
        "    \n",
        "    model = Model(inp, out, name=\"mlp_mod_arith\")\n",
        "\n",
        "    emb_loss = lambda: 0.01 * tf.reduce_sum(tf.square(embed.weights[0] - tf.transpose(unemb.weights[0])))\n",
        "    model.add_loss(emb_loss)\n",
        "\n",
        "    return model\n",
        "\n",
        "\n",
        "def transf_mod_arith(\n",
        "        seq_len,\n",
        "        vocab_size,\n",
        "        embed_dim,\n",
        "        use_bias=False,\n",
        "):\n",
        "    inp = Input(shape=(seq_len,), dtype=np.int32, name=\"input\")\n",
        "    x = Embedding(vocab_size, embed_dim, input_length=seq_len, name=\"embedding\")(inp)\n",
        "    x = transformer_block(x, num_heads=1, use_mlp=True, mlp_factor=1, use_bias=use_bias)\n",
        "    x = Dense(vocab_size, use_bias=use_bias, name=\"unembedding\")(x)\n",
        "    out = x[..., -1, :]\n",
        "\n",
        "    model = Model(inp, out, name=\"transf_mod_arith\")\n",
        "    return model"
      ]
    },
    {
      "cell_type": "code",
      "execution_count": 34,
      "metadata": {
        "colab": {
          "base_uri": "https://localhost:8080/"
        },
        "id": "waHGL1srSc5T",
        "outputId": "006b44ae-fee9-4ed3-8e95-d8c29cecf8a7"
      },
      "outputs": [
        {
          "output_type": "stream",
          "name": "stdout",
          "text": [
            "Model: \"mlp_mod_arith\"\n",
            "_________________________________________________________________\n",
            " Layer (type)                Output Shape              Param #   \n",
            "=================================================================\n",
            " input (InputLayer)          [(None, 2)]               0         \n",
            "                                                                 \n",
            " embedding (Embedding)       (None, 2, 128)            14464     \n",
            "                                                                 \n",
            " tf.expand_dims (TFOpLambda)  (None, 2, 128, 1)        0         \n",
            "                                                                 \n",
            " mlp (Conv2D)                (None, 1, 1, 128)         32768     \n",
            "                                                                 \n",
            " tf.nn.gelu (TFOpLambda)     (None, 1, 1, 128)         0         \n",
            "                                                                 \n",
            " flatten (Flatten)           (None, 128)               0         \n",
            "                                                                 \n",
            " unembedding (Dense)         (None, 113)               14464     \n",
            "                                                                 \n",
            "=================================================================\n",
            "Total params: 61,696\n",
            "Trainable params: 61,696\n",
            "Non-trainable params: 0\n",
            "_________________________________________________________________\n",
            "Log dir : /content/gdrive/My Drive/output/mlp_mod_arith-230420-164816\n"
          ]
        }
      ],
      "source": [
        "# init new run\n",
        "\n",
        "'''\n",
        "P[\"model_name\"] = \"gru_01\"\n",
        "P[\"model_build_params\"] = {\n",
        "    \"gru_units\" : 128,\n",
        "    \"num_outputs\" : P[\"addition_modulo_data\"][\"p_max\"],\n",
        "    \"input_shape\" : (2,),\n",
        "    \"num_hidden_gru\" : 0,\n",
        "    \"use_embedding\" : True,\n",
        "    \"vocab_size\" : P[\"addition_modulo_data\"][\"p_max\"],\n",
        "    \"embedding_dim\" : 128,\n",
        "    \"return_final_hidden\" : True,\n",
        "}\n",
        "\n",
        "P[\"model_name\"] = \"transformer_01\"\n",
        "P[\"model_build_params\"] = {\n",
        "    \"input_shape\" : (3,),\n",
        "    \"num_heads\" : 4,\n",
        "    \"num_tokens\" : P[\"addition_modulo_data\"][\"p_max\"] + 1, # + 1 for the \"=\" sign\n",
        "    \"embedding_dim\" : 128,\n",
        "    \"return_final_token_only\" : True,\n",
        "}\n",
        "'''\n",
        "\n",
        "P[\"model_name\"] = \"mlp_mod_arith\"\n",
        "P[\"model_build_params\"] = {\n",
        "    \"seq_len\" : 2,\n",
        "    \"vocab_size\" : P[\"addition_modulo_data\"][\"p_max\"],\n",
        "    \"embed_dim\" : 128,\n",
        "    \"mlp_dim\" : 128,\n",
        "    \"regularizer\" : None,\n",
        "}\n",
        "\n",
        "'''\n",
        "P[\"model_name\"] = \"transf_mod_arith\"\n",
        "P[\"model_build_params\"] = {\n",
        "    \"seq_len\" : 2,\n",
        "    \"vocab_size\" : P[\"addition_modulo_data\"][\"p_max\"],\n",
        "    \"embed_dim\" : 128,\n",
        "    \"use_bias\" : False,\n",
        "}\n",
        "'''\n",
        "\n",
        "P[\"random_seed\"] = 42\n",
        "utils.tf_keras_random_seed(P[\"random_seed\"])\n",
        "\n",
        "#model = eval(\"models.\" + P[\"model_name\"])(**P[\"model_build_params\"])\n",
        "model = eval(P[\"model_name\"])(**P[\"model_build_params\"])\n",
        "model.summary()\n",
        "\n",
        "P[\"loss\"] = \"SparseCategoricalCrossentropy(from_logits=True)\"\n",
        "P[\"optimizer\"] = \"AdamW(1e-3, weight_decay=1)\"\n",
        "#P[\"optimizer\"] = \"SGD(1e-0, momentum=0.9)\"\n",
        "P[\"metrics\"] = [ \"accuracy\" ]\n",
        "model.compile(loss = eval(P[\"loss\"]), optimizer = eval(P[\"optimizer\"]), metrics = P[\"metrics\"])\n",
        "\n",
        "P[\"run_dir\"] = model.name + datetime.datetime.now().strftime('-%y%m%d-%H%M%S')\n",
        "LOG_DIR = os.path.join(OUTPUT_DIR, P[\"run_dir\"])\n",
        "\n",
        "print(\"Log dir :\", LOG_DIR)\n",
        "\n",
        "run = utils.TrainingRun()\n",
        "weight_norm_logger = utils.LogWeightNorms()\n",
        "weight_logger = utils.SaveWeightsPower2(LOG_DIR)"
      ]
    },
    {
      "cell_type": "code",
      "source": [
        "model.losses"
      ],
      "metadata": {
        "id": "0H_o94fPgqZX",
        "outputId": "ee746896-eefd-45ba-d617-dfdbfce454c9",
        "colab": {
          "base_uri": "https://localhost:8080/"
        }
      },
      "execution_count": 35,
      "outputs": [
        {
          "output_type": "execute_result",
          "data": {
            "text/plain": [
              "[<tf.Tensor: shape=(), dtype=float32, numpy=13.102881>]"
            ]
          },
          "metadata": {},
          "execution_count": 35
        }
      ]
    },
    {
      "cell_type": "code",
      "execution_count": 36,
      "metadata": {
        "colab": {
          "base_uri": "https://localhost:8080/",
          "height": 49,
          "referenced_widgets": [
            "d8d49c2b9d3f434a8209063c955fa0b8",
            "0de912bcc8794f80820840dd2b4d97d5",
            "03cc57458c704bf4aaa6b040e7886789",
            "13a1d699296840d9b5dd68ac794f832b",
            "f9e2d2bf1efe4983860e1ce0510f861d",
            "7a24d5fe21574e96936cfd6b50aa9370",
            "df587d8ae1ce43ea97581f97e17c7430",
            "83a2e33f519347c38d19365e65e9948d",
            "cf785c1bea294bdaa4467c4382094764",
            "fc94500e679f40be817287b27ef6d022",
            "82e3bf061da040699c99efbbf0a2cfaf"
          ]
        },
        "id": "-IJSW5stSc5U",
        "outputId": "f7e2b1c5-1be4-486d-9b53-6f806dbb6ae6"
      },
      "outputs": [
        {
          "output_type": "display_data",
          "data": {
            "text/plain": [
              "0epoch [00:00, ?epoch/s]"
            ],
            "application/vnd.jupyter.widget-view+json": {
              "version_major": 2,
              "version_minor": 0,
              "model_id": "d8d49c2b9d3f434a8209063c955fa0b8"
            }
          },
          "metadata": {}
        }
      ],
      "source": [
        "NUM_EPOCHS = 1024 * 1\n",
        "\n",
        "history = model.fit(\n",
        "    x_train, y_train,\n",
        "    initial_epoch = run.current_epoch,\n",
        "    epochs = run.current_epoch + NUM_EPOCHS,\n",
        "    batch_size = len(x_train) // 10,\n",
        "    validation_data = (x_val, y_val),\n",
        "    callbacks=[\n",
        "        TqdmCallback(verbose=0),\n",
        "        weight_norm_logger,\n",
        "        weight_logger,\n",
        "    ],        \n",
        "    verbose=0)\n",
        "\n",
        "run.update_history(history)"
      ]
    },
    {
      "cell_type": "code",
      "execution_count": 37,
      "metadata": {
        "colab": {
          "base_uri": "https://localhost:8080/",
          "height": 279
        },
        "id": "d5IcAVmMSc5V",
        "outputId": "f7dd96b6-b8bc-401e-c996-2684865e2ce0"
      },
      "outputs": [
        {
          "output_type": "display_data",
          "data": {
            "text/plain": [
              "<Figure size 2500x300 with 3 Axes>"
            ],
            "image/png": "[encoded data removed]"
          },
          "metadata": {}
        }
      ],
      "source": [
        "fig, axs = plt.subplots(1, 3, figsize=(25,3))\n",
        "\n",
        "sns.lineplot(data=run.history[[\"loss\", \"val_loss\"]], ax=axs[0], dashes=False);\n",
        "axs[0].set_yscale(\"log\");\n",
        "\n",
        "sns.lineplot(data=run.history[[\"accuracy\", \"val_accuracy\"]], ax=axs[1], dashes=False);\n",
        "\n",
        "sns.lineplot(data=weight_norm_logger.norms_dataframe(), ax=axs[2], dashes=False);"
      ]
    },
    {
      "cell_type": "code",
      "execution_count": 30,
      "metadata": {
        "id": "orakCTxiXOdh"
      },
      "outputs": [],
      "source": [
        "run.save_state(LOG_DIR, P, model)\n",
        "weight_norm_logger.norms_to_csv(LOG_DIR)"
      ]
    },
    {
      "cell_type": "code",
      "execution_count": null,
      "metadata": {
        "id": "vaLuwpB5d7yB"
      },
      "outputs": [],
      "source": []
    }
  ],
  "metadata": {
    "accelerator": "GPU",
    "colab": {
      "provenance": []
    },
    "gpuClass": "standard",
    "kernelspec": {
      "display_name": "dl_basics",
      "language": "python",
      "name": "python3"
    },
    "language_info": {
      "codemirror_mode": {
        "name": "ipython",
        "version": 3
      },
      "file_extension": ".py",
      "mimetype": "text/x-python",
      "name": "python",
      "nbconvert_exporter": "python",
      "pygments_lexer": "ipython3",
      "version": "3.10.10"
    },
    "orig_nbformat": 4,
    "widgets": {
      "application/vnd.jupyter.widget-state+json": {
        "d8d49c2b9d3f434a8209063c955fa0b8": {
          "model_module": "@jupyter-widgets/controls",
          "model_name": "HBoxModel",
          "model_module_version": "1.5.0",
          "state": {
            "_dom_classes": [],
            "_model_module": "@jupyter-widgets/controls",
            "_model_module_version": "1.5.0",
            "_model_name": "HBoxModel",
            "_view_count": null,
            "_view_module": "@jupyter-widgets/controls",
            "_view_module_version": "1.5.0",
            "_view_name": "HBoxView",
            "box_style": "",
            "children": [
              "IPY_MODEL_0de912bcc8794f80820840dd2b4d97d5",
              "IPY_MODEL_03cc57458c704bf4aaa6b040e7886789",
              "IPY_MODEL_13a1d699296840d9b5dd68ac794f832b"
            ],
            "layout": "IPY_MODEL_f9e2d2bf1efe4983860e1ce0510f861d"
          }
        },
        "0de912bcc8794f80820840dd2b4d97d5": {
          "model_module": "@jupyter-widgets/controls",
          "model_name": "HTMLModel",
          "model_module_version": "1.5.0",
          "state": {
            "_dom_classes": [],
            "_model_module": "@jupyter-widgets/controls",
            "_model_module_version": "1.5.0",
            "_model_name": "HTMLModel",
            "_view_count": null,
            "_view_module": "@jupyter-widgets/controls",
            "_view_module_version": "1.5.0",
            "_view_name": "HTMLView",
            "description": "",
            "description_tooltip": null,
            "layout": "IPY_MODEL_7a24d5fe21574e96936cfd6b50aa9370",
            "placeholder": "​",
            "style": "IPY_MODEL_df587d8ae1ce43ea97581f97e17c7430",
            "value": "100%"
          }
        },
        "03cc57458c704bf4aaa6b040e7886789": {
          "model_module": "@jupyter-widgets/controls",
          "model_name": "FloatProgressModel",
          "model_module_version": "1.5.0",
          "state": {
            "_dom_classes": [],
            "_model_module": "@jupyter-widgets/controls",
            "_model_module_version": "1.5.0",
            "_model_name": "FloatProgressModel",
            "_view_count": null,
            "_view_module": "@jupyter-widgets/controls",
            "_view_module_version": "1.5.0",
            "_view_name": "ProgressView",
            "bar_style": "success",
            "description": "",
            "description_tooltip": null,
            "layout": "IPY_MODEL_83a2e33f519347c38d19365e65e9948d",
            "max": 1024,
            "min": 0,
            "orientation": "horizontal",
            "style": "IPY_MODEL_cf785c1bea294bdaa4467c4382094764",
            "value": 1024
          }
        },
        "13a1d699296840d9b5dd68ac794f832b": {
          "model_module": "@jupyter-widgets/controls",
          "model_name": "HTMLModel",
          "model_module_version": "1.5.0",
          "state": {
            "_dom_classes": [],
            "_model_module": "@jupyter-widgets/controls",
            "_model_module_version": "1.5.0",
            "_model_name": "HTMLModel",
            "_view_count": null,
            "_view_module": "@jupyter-widgets/controls",
            "_view_module_version": "1.5.0",
            "_view_name": "HTMLView",
            "description": "",
            "description_tooltip": null,
            "layout": "IPY_MODEL_fc94500e679f40be817287b27ef6d022",
            "placeholder": "​",
            "style": "IPY_MODEL_82e3bf061da040699c99efbbf0a2cfaf",
            "value": " 1024/1024 [02:26&lt;00:00,  7.02epoch/s, loss=0.521, accuracy=1, val_loss=2.54, val_accuracy=0.138]"
          }
        },
        "f9e2d2bf1efe4983860e1ce0510f861d": {
          "model_module": "@jupyter-widgets/base",
          "model_name": "LayoutModel",
          "model_module_version": "1.2.0",
          "state": {
            "_model_module": "@jupyter-widgets/base",
            "_model_module_version": "1.2.0",
            "_model_name": "LayoutModel",
            "_view_count": null,
            "_view_module": "@jupyter-widgets/base",
            "_view_module_version": "1.2.0",
            "_view_name": "LayoutView",
            "align_content": null,
            "align_items": null,
            "align_self": null,
            "border": null,
            "bottom": null,
            "display": null,
            "flex": null,
            "flex_flow": null,
            "grid_area": null,
            "grid_auto_columns": null,
            "grid_auto_flow": null,
            "grid_auto_rows": null,
            "grid_column": null,
            "grid_gap": null,
            "grid_row": null,
            "grid_template_areas": null,
            "grid_template_columns": null,
            "grid_template_rows": null,
            "height": null,
            "justify_content": null,
            "justify_items": null,
            "left": null,
            "margin": null,
            "max_height": null,
            "max_width": null,
            "min_height": null,
            "min_width": null,
            "object_fit": null,
            "object_position": null,
            "order": null,
            "overflow": null,
            "overflow_x": null,
            "overflow_y": null,
            "padding": null,
            "right": null,
            "top": null,
            "visibility": null,
            "width": null
          }
        },
        "7a24d5fe21574e96936cfd6b50aa9370": {
          "model_module": "@jupyter-widgets/base",
          "model_name": "LayoutModel",
          "model_module_version": "1.2.0",
          "state": {
            "_model_module": "@jupyter-widgets/base",
            "_model_module_version": "1.2.0",
            "_model_name": "LayoutModel",
            "_view_count": null,
            "_view_module": "@jupyter-widgets/base",
            "_view_module_version": "1.2.0",
            "_view_name": "LayoutView",
            "align_content": null,
            "align_items": null,
            "align_self": null,
            "border": null,
            "bottom": null,
            "display": null,
            "flex": null,
            "flex_flow": null,
            "grid_area": null,
            "grid_auto_columns": null,
            "grid_auto_flow": null,
            "grid_auto_rows": null,
            "grid_column": null,
            "grid_gap": null,
            "grid_row": null,
            "grid_template_areas": null,
            "grid_template_columns": null,
            "grid_template_rows": null,
            "height": null,
            "justify_content": null,
            "justify_items": null,
            "left": null,
            "margin": null,
            "max_height": null,
            "max_width": null,
            "min_height": null,
            "min_width": null,
            "object_fit": null,
            "object_position": null,
            "order": null,
            "overflow": null,
            "overflow_x": null,
            "overflow_y": null,
            "padding": null,
            "right": null,
            "top": null,
            "visibility": null,
            "width": null
          }
        },
        "df587d8ae1ce43ea97581f97e17c7430": {
          "model_module": "@jupyter-widgets/controls",
          "model_name": "DescriptionStyleModel",
          "model_module_version": "1.5.0",
          "state": {
            "_model_module": "@jupyter-widgets/controls",
            "_model_module_version": "1.5.0",
            "_model_name": "DescriptionStyleModel",
            "_view_count": null,
            "_view_module": "@jupyter-widgets/base",
            "_view_module_version": "1.2.0",
            "_view_name": "StyleView",
            "description_width": ""
          }
        },
        "83a2e33f519347c38d19365e65e9948d": {
          "model_module": "@jupyter-widgets/base",
          "model_name": "LayoutModel",
          "model_module_version": "1.2.0",
          "state": {
            "_model_module": "@jupyter-widgets/base",
            "_model_module_version": "1.2.0",
            "_model_name": "LayoutModel",
            "_view_count": null,
            "_view_module": "@jupyter-widgets/base",
            "_view_module_version": "1.2.0",
            "_view_name": "LayoutView",
            "align_content": null,
            "align_items": null,
            "align_self": null,
            "border": null,
            "bottom": null,
            "display": null,
            "flex": null,
            "flex_flow": null,
            "grid_area": null,
            "grid_auto_columns": null,
            "grid_auto_flow": null,
            "grid_auto_rows": null,
            "grid_column": null,
            "grid_gap": null,
            "grid_row": null,
            "grid_template_areas": null,
            "grid_template_columns": null,
            "grid_template_rows": null,
            "height": null,
            "justify_content": null,
            "justify_items": null,
            "left": null,
            "margin": null,
            "max_height": null,
            "max_width": null,
            "min_height": null,
            "min_width": null,
            "object_fit": null,
            "object_position": null,
            "order": null,
            "overflow": null,
            "overflow_x": null,
            "overflow_y": null,
            "padding": null,
            "right": null,
            "top": null,
            "visibility": null,
            "width": null
          }
        },
        "cf785c1bea294bdaa4467c4382094764": {
          "model_module": "@jupyter-widgets/controls",
          "model_name": "ProgressStyleModel",
          "model_module_version": "1.5.0",
          "state": {
            "_model_module": "@jupyter-widgets/controls",
            "_model_module_version": "1.5.0",
            "_model_name": "ProgressStyleModel",
            "_view_count": null,
            "_view_module": "@jupyter-widgets/base",
            "_view_module_version": "1.2.0",
            "_view_name": "StyleView",
            "bar_color": null,
            "description_width": ""
          }
        },
        "fc94500e679f40be817287b27ef6d022": {
          "model_module": "@jupyter-widgets/base",
          "model_name": "LayoutModel",
          "model_module_version": "1.2.0",
          "state": {
            "_model_module": "@jupyter-widgets/base",
            "_model_module_version": "1.2.0",
            "_model_name": "LayoutModel",
            "_view_count": null,
            "_view_module": "@jupyter-widgets/base",
            "_view_module_version": "1.2.0",
            "_view_name": "LayoutView",
            "align_content": null,
            "align_items": null,
            "align_self": null,
            "border": null,
            "bottom": null,
            "display": null,
            "flex": null,
            "flex_flow": null,
            "grid_area": null,
            "grid_auto_columns": null,
            "grid_auto_flow": null,
            "grid_auto_rows": null,
            "grid_column": null,
            "grid_gap": null,
            "grid_row": null,
            "grid_template_areas": null,
            "grid_template_columns": null,
            "grid_template_rows": null,
            "height": null,
            "justify_content": null,
            "justify_items": null,
            "left": null,
            "margin": null,
            "max_height": null,
            "max_width": null,
            "min_height": null,
            "min_width": null,
            "object_fit": null,
            "object_position": null,
            "order": null,
            "overflow": null,
            "overflow_x": null,
            "overflow_y": null,
            "padding": null,
            "right": null,
            "top": null,
            "visibility": null,
            "width": null
          }
        },
        "82e3bf061da040699c99efbbf0a2cfaf": {
          "model_module": "@jupyter-widgets/controls",
          "model_name": "DescriptionStyleModel",
          "model_module_version": "1.5.0",
          "state": {
            "_model_module": "@jupyter-widgets/controls",
            "_model_module_version": "1.5.0",
            "_model_name": "DescriptionStyleModel",
            "_view_count": null,
            "_view_module": "@jupyter-widgets/base",
            "_view_module_version": "1.2.0",
            "_view_name": "StyleView",
            "description_width": ""
          }
        }
      }
    }
  },
  "nbformat": 4,
  "nbformat_minor": 0
}