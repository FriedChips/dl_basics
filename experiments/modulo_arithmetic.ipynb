{
  "cells": [
    {
      "cell_type": "code",
      "execution_count": 1,
      "metadata": {
        "colab": {
          "base_uri": "https://localhost:8080/"
        },
        "id": "yxFdHosMSc5M",
        "outputId": "b928003b-b4c2-4795-e9cf-48170abf6ebd"
      },
      "outputs": [
        {
          "output_type": "stream",
          "name": "stdout",
          "text": [
            "Running in Colab.\n",
            "Mounted at /content/gdrive\n",
            "Cloning into 'dl_basics'...\n",
            "remote: Enumerating objects: 347, done.\u001b[K\n",
            "remote: Counting objects: 100% (62/62), done.\u001b[K\n",
            "remote: Compressing objects: 100% (46/46), done.\u001b[K\n",
            "remote: Total 347 (delta 27), reused 37 (delta 16), pack-reused 285\u001b[K\n",
            "Receiving objects: 100% (347/347), 15.71 MiB | 26.73 MiB/s, done.\n",
            "Resolving deltas: 100% (160/160), done.\n",
            "Found GPU: Tesla T4.\n"
          ]
        }
      ],
      "source": [
        "import numpy as np\n",
        "import pandas as pd\n",
        "import matplotlib.pyplot as plt\n",
        "import seaborn as sns\n",
        "import os\n",
        "import sys\n",
        "import datetime\n",
        "import json\n",
        "import tensorflow as tf\n",
        "from tqdm.keras import TqdmCallback\n",
        "from tensorflow.keras.optimizers import Adam, SGD\n",
        "from tensorflow.keras.optimizers.experimental import AdamW\n",
        "from tensorflow.keras.losses import SparseCategoricalCrossentropy\n",
        "\n",
        "sns.set_theme()\n",
        "\n",
        "try: # are we in Colab?\n",
        "    import google.colab\n",
        "    COMPUTE_ENV = 'colab'\n",
        "    print('Running in Colab.')\n",
        "    google.colab.drive.mount('/content/gdrive')\n",
        "    OUTPUT_DIR = \"/content/gdrive/My Drive/output\"\n",
        "    !git clone https://github.com/FriedChips/dl_basics.git\n",
        "    sys.path.insert(0,'/content/dl_basics')\n",
        "except: # if not...\n",
        "    if \"kaggle\" in os.environ[\"PWD\"]: # are we in Kaggle?\n",
        "        COMPUTE_ENV = 'kaggle'\n",
        "        print('Running in Kaggle.')\n",
        "        !git clone https://github.com/FriedChips/dl_basics.git\n",
        "        sys.path.insert(0,'../working/dl_basics')    \n",
        "        OUTPUT_DIR = \"./\"\n",
        "    else: # we're local\n",
        "        COMPUTE_ENV = os.uname()[1]\n",
        "        print(f\"Running locally on {COMPUTE_ENV}.\")\n",
        "        sys.path.insert(0,'./../')\n",
        "        OUTPUT_DIR = \"../output/\"\n",
        "\n",
        "for gpu in tf.config.list_physical_devices(\"GPU\"):\n",
        "    print(f\"Found GPU: {tf.config.experimental.get_device_details(gpu)['device_name']}.\")"
      ]
    },
    {
      "cell_type": "code",
      "execution_count": 2,
      "metadata": {
        "id": "9kRbLzj4Sc5S"
      },
      "outputs": [],
      "source": [
        "from data_gen.modulo_arithmetic import addition_modulo_data\n",
        "#import models\n",
        "import utils"
      ]
    },
    {
      "cell_type": "code",
      "execution_count": 3,
      "metadata": {
        "colab": {
          "base_uri": "https://localhost:8080/"
        },
        "id": "jazWXg9PSc5T",
        "outputId": "ce5065de-1438-4a26-acdf-d669f62ae871"
      },
      "outputs": [
        {
          "output_type": "stream",
          "name": "stdout",
          "text": [
            "(3830, 2) (8939, 2) (3830,) (8939,)\n",
            "int32 int32 int32 int32\n",
            "[24 37] 61\n"
          ]
        }
      ],
      "source": [
        "P = {}\n",
        "\n",
        "P[\"addition_modulo_data\"] = {\n",
        "    \"p_max\" : 113,\n",
        "    \"train_size\" : 0.3,\n",
        "    \"add_equal_sign\" : False,\n",
        "    \"seed\" : 42,\n",
        "}\n",
        "\n",
        "x_train, x_val, y_train, y_val = addition_modulo_data(**P[\"addition_modulo_data\"])\n",
        "print(x_train.shape, x_val.shape, y_train.shape, y_val.shape)\n",
        "print(x_train.dtype, x_val.dtype, y_train.dtype, y_val.dtype)\n",
        "print(x_train[0], y_train[0])"
      ]
    },
    {
      "cell_type": "code",
      "execution_count": 4,
      "metadata": {
        "id": "JvItixB8nZFk"
      },
      "outputs": [],
      "source": [
        "import tensorflow as tf\n",
        "from tensorflow.keras import Model, Input\n",
        "from tensorflow.keras.layers import Embedding, Dense, Conv2D, Flatten\n",
        "from tensorflow.keras.regularizers import L2\n",
        "from models.transformers import transformer_block\n",
        "\n",
        "def mlp_mod_arith(\n",
        "        seq_len,\n",
        "        vocab_size,\n",
        "        embed_dim,\n",
        "        mlp_dim,\n",
        "        regularizer=None,\n",
        "):\n",
        "    if regularizer is not None:\n",
        "        regularizer = eval(regularizer)\n",
        "\n",
        "    inp = Input(shape=(seq_len,), dtype=np.int32, name=\"input\")\n",
        "    x = Embedding(vocab_size, embed_dim, input_length=seq_len, embeddings_regularizer=regularizer, name=\"embedding\")(inp)\n",
        "    x = tf.expand_dims(x, -1)\n",
        "    x = Conv2D(mlp_dim, kernel_size=(seq_len, embed_dim), use_bias=False, kernel_regularizer=regularizer, name=\"mlp\")(x)\n",
        "    x = tf.nn.gelu(x)\n",
        "    x = Flatten()(x)\n",
        "    x = Dense(vocab_size, use_bias=False, kernel_regularizer=regularizer, name=\"unembedding\")(x)\n",
        "    out = x\n",
        "    \n",
        "    model = Model(inp, out, name=\"mlp_mod_arith\")\n",
        "    return model\n",
        "\n",
        "\n",
        "def transf_mod_arith(\n",
        "        seq_len,\n",
        "        vocab_size,\n",
        "        embed_dim,\n",
        "        use_bias=False,\n",
        "):\n",
        "    inp = Input(shape=(seq_len,), dtype=np.int32, name=\"input\")\n",
        "    x = Embedding(vocab_size, embed_dim, input_length=seq_len, name=\"embedding\")(inp)\n",
        "    x = transformer_block(x, num_heads=1, use_mlp=True, mlp_factor=1, use_bias=use_bias)\n",
        "    x = Dense(vocab_size, use_bias=use_bias, name=\"unembedding\")(x)\n",
        "    out = x[..., -1, :]\n",
        "\n",
        "    model = Model(inp, out, name=\"transf_mod_arith\")\n",
        "    return model"
      ]
    },
    {
      "cell_type": "code",
      "execution_count": 8,
      "metadata": {
        "colab": {
          "base_uri": "https://localhost:8080/"
        },
        "id": "waHGL1srSc5T",
        "outputId": "915930f9-177e-4abc-b488-a18287b6e377"
      },
      "outputs": [
        {
          "output_type": "stream",
          "name": "stdout",
          "text": [
            "Model: \"mlp_mod_arith\"\n",
            "_________________________________________________________________\n",
            " Layer (type)                Output Shape              Param #   \n",
            "=================================================================\n",
            " input (InputLayer)          [(None, 2)]               0         \n",
            "                                                                 \n",
            " embedding (Embedding)       (None, 2, 128)            14464     \n",
            "                                                                 \n",
            " tf.expand_dims (TFOpLambda)  (None, 2, 128, 1)        0         \n",
            "                                                                 \n",
            " mlp (Conv2D)                (None, 1, 1, 128)         32768     \n",
            "                                                                 \n",
            " tf.nn.gelu (TFOpLambda)     (None, 1, 1, 128)         0         \n",
            "                                                                 \n",
            " flatten (Flatten)           (None, 128)               0         \n",
            "                                                                 \n",
            " unembedding (Dense)         (None, 113)               14464     \n",
            "                                                                 \n",
            "=================================================================\n",
            "Total params: 61,696\n",
            "Trainable params: 61,696\n",
            "Non-trainable params: 0\n",
            "_________________________________________________________________\n",
            "Log dir : /content/gdrive/My Drive/output/mlp_mod_arith-230420-150737\n"
          ]
        }
      ],
      "source": [
        "# init new run\n",
        "\n",
        "'''\n",
        "P[\"model_name\"] = \"gru_01\"\n",
        "P[\"model_build_params\"] = {\n",
        "    \"gru_units\" : 128,\n",
        "    \"num_outputs\" : P[\"addition_modulo_data\"][\"p_max\"],\n",
        "    \"input_shape\" : (2,),\n",
        "    \"num_hidden_gru\" : 0,\n",
        "    \"use_embedding\" : True,\n",
        "    \"vocab_size\" : P[\"addition_modulo_data\"][\"p_max\"],\n",
        "    \"embedding_dim\" : 128,\n",
        "    \"return_final_hidden\" : True,\n",
        "}\n",
        "\n",
        "P[\"model_name\"] = \"transformer_01\"\n",
        "P[\"model_build_params\"] = {\n",
        "    \"input_shape\" : (3,),\n",
        "    \"num_heads\" : 4,\n",
        "    \"num_tokens\" : P[\"addition_modulo_data\"][\"p_max\"] + 1, # + 1 for the \"=\" sign\n",
        "    \"embedding_dim\" : 128,\n",
        "    \"return_final_token_only\" : True,\n",
        "}\n",
        "'''\n",
        "\n",
        "P[\"model_name\"] = \"mlp_mod_arith\"\n",
        "P[\"model_build_params\"] = {\n",
        "    \"seq_len\" : 2,\n",
        "    \"vocab_size\" : P[\"addition_modulo_data\"][\"p_max\"],\n",
        "    \"embed_dim\" : 128,\n",
        "    \"mlp_dim\" : 128,\n",
        "    \"regularizer\" : None,\n",
        "}\n",
        "\n",
        "'''\n",
        "P[\"model_name\"] = \"transf_mod_arith\"\n",
        "P[\"model_build_params\"] = {\n",
        "    \"seq_len\" : 2,\n",
        "    \"vocab_size\" : P[\"addition_modulo_data\"][\"p_max\"],\n",
        "    \"embed_dim\" : 128,\n",
        "    \"use_bias\" : False,\n",
        "}\n",
        "'''\n",
        "\n",
        "P[\"random_seed\"] = 42\n",
        "utils.tf_keras_random_seed(P[\"random_seed\"])\n",
        "\n",
        "#model = eval(\"models.\" + P[\"model_name\"])(**P[\"model_build_params\"])\n",
        "model = eval(P[\"model_name\"])(**P[\"model_build_params\"])\n",
        "model.summary()\n",
        "\n",
        "P[\"loss\"] = \"SparseCategoricalCrossentropy(from_logits=True)\"\n",
        "P[\"optimizer\"] = \"AdamW(1e-3, weight_decay=1)\"\n",
        "#P[\"optimizer\"] = \"SGD(1e-0, momentum=0.9)\"\n",
        "P[\"metrics\"] = [ \"accuracy\" ]\n",
        "model.compile(loss = eval(P[\"loss\"]), optimizer = eval(P[\"optimizer\"]), metrics = P[\"metrics\"])\n",
        "\n",
        "P[\"run_dir\"] = model.name + datetime.datetime.now().strftime('-%y%m%d-%H%M%S')\n",
        "LOG_DIR = os.path.join(OUTPUT_DIR, P[\"run_dir\"])\n",
        "\n",
        "print(\"Log dir :\", LOG_DIR)\n",
        "\n",
        "run = utils.TrainingRun()\n",
        "weight_norm_logger = utils.LogWeightNorms()\n",
        "weight_logger = utils.SaveWeightsPower2(LOG_DIR)"
      ]
    },
    {
      "cell_type": "code",
      "execution_count": 9,
      "metadata": {
        "colab": {
          "base_uri": "https://localhost:8080/",
          "height": 49,
          "referenced_widgets": [
            "7f36cf4a23bd49c9bd91341591f5799e",
            "ac5d1b3e77d04459ae8cdb4d19e3d83e",
            "bedc1910fc4a4946b25c5dbafd390d17",
            "77a1944cdcc44a0cb38bbb37a1f25969",
            "5bc7e31537e64f8bb063069dce9b350b",
            "5904e6e9537d4a0585f9f61b1c2b6301",
            "26c9682d8b79470180de5df29295325b",
            "41e3774295004c7baaabbf98ed4edb54",
            "568b29d7f24a44ecb03e2da0165ea4da",
            "620428f67b8843438e47e38c53dcc53e",
            "4df5b2d96db947779d0a8b97c7656074"
          ]
        },
        "id": "-IJSW5stSc5U",
        "outputId": "a5bf0d15-69a8-4fbb-979f-bf33716d6cf1"
      },
      "outputs": [
        {
          "output_type": "display_data",
          "data": {
            "text/plain": [
              "0epoch [00:00, ?epoch/s]"
            ],
            "application/vnd.jupyter.widget-view+json": {
              "version_major": 2,
              "version_minor": 0,
              "model_id": "7f36cf4a23bd49c9bd91341591f5799e"
            }
          },
          "metadata": {}
        }
      ],
      "source": [
        "NUM_EPOCHS = 1024 * 1\n",
        "\n",
        "history = model.fit(\n",
        "    x_train, y_train,\n",
        "    initial_epoch = run.current_epoch,\n",
        "    epochs = run.current_epoch + NUM_EPOCHS,\n",
        "    batch_size = len(x_train) // 10,\n",
        "    validation_data = (x_val, y_val),\n",
        "    callbacks=[\n",
        "        TqdmCallback(verbose=0),\n",
        "        weight_norm_logger,\n",
        "        weight_logger,\n",
        "    ],        \n",
        "    verbose=0)\n",
        "\n",
        "run.update_history(history)"
      ]
    },
    {
      "cell_type": "code",
      "execution_count": 10,
      "metadata": {
        "colab": {
          "base_uri": "https://localhost:8080/",
          "height": 278
        },
        "id": "d5IcAVmMSc5V",
        "outputId": "48cb084d-7874-43f2-9522-568ef01afde3"
      },
      "outputs": [
        {
          "output_type": "display_data",
          "data": {
            "text/plain": [
              "<Figure size 2500x300 with 3 Axes>"
            ],
            "image/png": "[encoded data removed]"
          },
          "metadata": {}
        }
      ],
      "source": [
        "fig, axs = plt.subplots(1, 3, figsize=(25,3))\n",
        "\n",
        "sns.lineplot(data=run.history[[\"loss\", \"val_loss\"]], ax=axs[0], dashes=False);\n",
        "axs[0].set_yscale(\"log\");\n",
        "\n",
        "sns.lineplot(data=run.history[[\"accuracy\", \"val_accuracy\"]], ax=axs[1], dashes=False);\n",
        "\n",
        "sns.lineplot(data=weight_norm_logger.norms_dataframe(), ax=axs[2], dashes=False);"
      ]
    },
    {
      "cell_type": "code",
      "execution_count": 11,
      "metadata": {
        "id": "orakCTxiXOdh"
      },
      "outputs": [],
      "source": [
        "run.save_state(LOG_DIR, P, model)\n",
        "weight_norm_logger.norms_to_csv(LOG_DIR)"
      ]
    },
    {
      "cell_type": "code",
      "execution_count": null,
      "metadata": {
        "id": "vaLuwpB5d7yB"
      },
      "outputs": [],
      "source": []
    }
  ],
  "metadata": {
    "accelerator": "GPU",
    "colab": {
      "provenance": []
    },
    "gpuClass": "standard",
    "kernelspec": {
      "display_name": "dl_basics",
      "language": "python",
      "name": "python3"
    },
    "language_info": {
      "codemirror_mode": {
        "name": "ipython",
        "version": 3
      },
      "file_extension": ".py",
      "mimetype": "text/x-python",
      "name": "python",
      "nbconvert_exporter": "python",
      "pygments_lexer": "ipython3",
      "version": "3.10.10"
    },
    "orig_nbformat": 4,
    "widgets": {
      "application/vnd.jupyter.widget-state+json": {
        "7f36cf4a23bd49c9bd91341591f5799e": {
          "model_module": "@jupyter-widgets/controls",
          "model_name": "HBoxModel",
          "model_module_version": "1.5.0",
          "state": {
            "_dom_classes": [],
            "_model_module": "@jupyter-widgets/controls",
            "_model_module_version": "1.5.0",
            "_model_name": "HBoxModel",
            "_view_count": null,
            "_view_module": "@jupyter-widgets/controls",
            "_view_module_version": "1.5.0",
            "_view_name": "HBoxView",
            "box_style": "",
            "children": [
              "IPY_MODEL_ac5d1b3e77d04459ae8cdb4d19e3d83e",
              "IPY_MODEL_bedc1910fc4a4946b25c5dbafd390d17",
              "IPY_MODEL_77a1944cdcc44a0cb38bbb37a1f25969"
            ],
            "layout": "IPY_MODEL_5bc7e31537e64f8bb063069dce9b350b"
          }
        },
        "ac5d1b3e77d04459ae8cdb4d19e3d83e": {
          "model_module": "@jupyter-widgets/controls",
          "model_name": "HTMLModel",
          "model_module_version": "1.5.0",
          "state": {
            "_dom_classes": [],
            "_model_module": "@jupyter-widgets/controls",
            "_model_module_version": "1.5.0",
            "_model_name": "HTMLModel",
            "_view_count": null,
            "_view_module": "@jupyter-widgets/controls",
            "_view_module_version": "1.5.0",
            "_view_name": "HTMLView",
            "description": "",
            "description_tooltip": null,
            "layout": "IPY_MODEL_5904e6e9537d4a0585f9f61b1c2b6301",
            "placeholder": "​",
            "style": "IPY_MODEL_26c9682d8b79470180de5df29295325b",
            "value": "100%"
          }
        },
        "bedc1910fc4a4946b25c5dbafd390d17": {
          "model_module": "@jupyter-widgets/controls",
          "model_name": "FloatProgressModel",
          "model_module_version": "1.5.0",
          "state": {
            "_dom_classes": [],
            "_model_module": "@jupyter-widgets/controls",
            "_model_module_version": "1.5.0",
            "_model_name": "FloatProgressModel",
            "_view_count": null,
            "_view_module": "@jupyter-widgets/controls",
            "_view_module_version": "1.5.0",
            "_view_name": "ProgressView",
            "bar_style": "success",
            "description": "",
            "description_tooltip": null,
            "layout": "IPY_MODEL_41e3774295004c7baaabbf98ed4edb54",
            "max": 1024,
            "min": 0,
            "orientation": "horizontal",
            "style": "IPY_MODEL_568b29d7f24a44ecb03e2da0165ea4da",
            "value": 1024
          }
        },
        "77a1944cdcc44a0cb38bbb37a1f25969": {
          "model_module": "@jupyter-widgets/controls",
          "model_name": "HTMLModel",
          "model_module_version": "1.5.0",
          "state": {
            "_dom_classes": [],
            "_model_module": "@jupyter-widgets/controls",
            "_model_module_version": "1.5.0",
            "_model_name": "HTMLModel",
            "_view_count": null,
            "_view_module": "@jupyter-widgets/controls",
            "_view_module_version": "1.5.0",
            "_view_name": "HTMLView",
            "description": "",
            "description_tooltip": null,
            "layout": "IPY_MODEL_620428f67b8843438e47e38c53dcc53e",
            "placeholder": "​",
            "style": "IPY_MODEL_4df5b2d96db947779d0a8b97c7656074",
            "value": " 1024/1024 [02:15&lt;00:00,  8.79epoch/s, loss=0.0386, accuracy=1, val_loss=0.0928, val_accuracy=1]"
          }
        },
        "5bc7e31537e64f8bb063069dce9b350b": {
          "model_module": "@jupyter-widgets/base",
          "model_name": "LayoutModel",
          "model_module_version": "1.2.0",
          "state": {
            "_model_module": "@jupyter-widgets/base",
            "_model_module_version": "1.2.0",
            "_model_name": "LayoutModel",
            "_view_count": null,
            "_view_module": "@jupyter-widgets/base",
            "_view_module_version": "1.2.0",
            "_view_name": "LayoutView",
            "align_content": null,
            "align_items": null,
            "align_self": null,
            "border": null,
            "bottom": null,
            "display": null,
            "flex": null,
            "flex_flow": null,
            "grid_area": null,
            "grid_auto_columns": null,
            "grid_auto_flow": null,
            "grid_auto_rows": null,
            "grid_column": null,
            "grid_gap": null,
            "grid_row": null,
            "grid_template_areas": null,
            "grid_template_columns": null,
            "grid_template_rows": null,
            "height": null,
            "justify_content": null,
            "justify_items": null,
            "left": null,
            "margin": null,
            "max_height": null,
            "max_width": null,
            "min_height": null,
            "min_width": null,
            "object_fit": null,
            "object_position": null,
            "order": null,
            "overflow": null,
            "overflow_x": null,
            "overflow_y": null,
            "padding": null,
            "right": null,
            "top": null,
            "visibility": null,
            "width": null
          }
        },
        "5904e6e9537d4a0585f9f61b1c2b6301": {
          "model_module": "@jupyter-widgets/base",
          "model_name": "LayoutModel",
          "model_module_version": "1.2.0",
          "state": {
            "_model_module": "@jupyter-widgets/base",
            "_model_module_version": "1.2.0",
            "_model_name": "LayoutModel",
            "_view_count": null,
            "_view_module": "@jupyter-widgets/base",
            "_view_module_version": "1.2.0",
            "_view_name": "LayoutView",
            "align_content": null,
            "align_items": null,
            "align_self": null,
            "border": null,
            "bottom": null,
            "display": null,
            "flex": null,
            "flex_flow": null,
            "grid_area": null,
            "grid_auto_columns": null,
            "grid_auto_flow": null,
            "grid_auto_rows": null,
            "grid_column": null,
            "grid_gap": null,
            "grid_row": null,
            "grid_template_areas": null,
            "grid_template_columns": null,
            "grid_template_rows": null,
            "height": null,
            "justify_content": null,
            "justify_items": null,
            "left": null,
            "margin": null,
            "max_height": null,
            "max_width": null,
            "min_height": null,
            "min_width": null,
            "object_fit": null,
            "object_position": null,
            "order": null,
            "overflow": null,
            "overflow_x": null,
            "overflow_y": null,
            "padding": null,
            "right": null,
            "top": null,
            "visibility": null,
            "width": null
          }
        },
        "26c9682d8b79470180de5df29295325b": {
          "model_module": "@jupyter-widgets/controls",
          "model_name": "DescriptionStyleModel",
          "model_module_version": "1.5.0",
          "state": {
            "_model_module": "@jupyter-widgets/controls",
            "_model_module_version": "1.5.0",
            "_model_name": "DescriptionStyleModel",
            "_view_count": null,
            "_view_module": "@jupyter-widgets/base",
            "_view_module_version": "1.2.0",
            "_view_name": "StyleView",
            "description_width": ""
          }
        },
        "41e3774295004c7baaabbf98ed4edb54": {
          "model_module": "@jupyter-widgets/base",
          "model_name": "LayoutModel",
          "model_module_version": "1.2.0",
          "state": {
            "_model_module": "@jupyter-widgets/base",
            "_model_module_version": "1.2.0",
            "_model_name": "LayoutModel",
            "_view_count": null,
            "_view_module": "@jupyter-widgets/base",
            "_view_module_version": "1.2.0",
            "_view_name": "LayoutView",
            "align_content": null,
            "align_items": null,
            "align_self": null,
            "border": null,
            "bottom": null,
            "display": null,
            "flex": null,
            "flex_flow": null,
            "grid_area": null,
            "grid_auto_columns": null,
            "grid_auto_flow": null,
            "grid_auto_rows": null,
            "grid_column": null,
            "grid_gap": null,
            "grid_row": null,
            "grid_template_areas": null,
            "grid_template_columns": null,
            "grid_template_rows": null,
            "height": null,
            "justify_content": null,
            "justify_items": null,
            "left": null,
            "margin": null,
            "max_height": null,
            "max_width": null,
            "min_height": null,
            "min_width": null,
            "object_fit": null,
            "object_position": null,
            "order": null,
            "overflow": null,
            "overflow_x": null,
            "overflow_y": null,
            "padding": null,
            "right": null,
            "top": null,
            "visibility": null,
            "width": null
          }
        },
        "568b29d7f24a44ecb03e2da0165ea4da": {
          "model_module": "@jupyter-widgets/controls",
          "model_name": "ProgressStyleModel",
          "model_module_version": "1.5.0",
          "state": {
            "_model_module": "@jupyter-widgets/controls",
            "_model_module_version": "1.5.0",
            "_model_name": "ProgressStyleModel",
            "_view_count": null,
            "_view_module": "@jupyter-widgets/base",
            "_view_module_version": "1.2.0",
            "_view_name": "StyleView",
            "bar_color": null,
            "description_width": ""
          }
        },
        "620428f67b8843438e47e38c53dcc53e": {
          "model_module": "@jupyter-widgets/base",
          "model_name": "LayoutModel",
          "model_module_version": "1.2.0",
          "state": {
            "_model_module": "@jupyter-widgets/base",
            "_model_module_version": "1.2.0",
            "_model_name": "LayoutModel",
            "_view_count": null,
            "_view_module": "@jupyter-widgets/base",
            "_view_module_version": "1.2.0",
            "_view_name": "LayoutView",
            "align_content": null,
            "align_items": null,
            "align_self": null,
            "border": null,
            "bottom": null,
            "display": null,
            "flex": null,
            "flex_flow": null,
            "grid_area": null,
            "grid_auto_columns": null,
            "grid_auto_flow": null,
            "grid_auto_rows": null,
            "grid_column": null,
            "grid_gap": null,
            "grid_row": null,
            "grid_template_areas": null,
            "grid_template_columns": null,
            "grid_template_rows": null,
            "height": null,
            "justify_content": null,
            "justify_items": null,
            "left": null,
            "margin": null,
            "max_height": null,
            "max_width": null,
            "min_height": null,
            "min_width": null,
            "object_fit": null,
            "object_position": null,
            "order": null,
            "overflow": null,
            "overflow_x": null,
            "overflow_y": null,
            "padding": null,
            "right": null,
            "top": null,
            "visibility": null,
            "width": null
          }
        },
        "4df5b2d96db947779d0a8b97c7656074": {
          "model_module": "@jupyter-widgets/controls",
          "model_name": "DescriptionStyleModel",
          "model_module_version": "1.5.0",
          "state": {
            "_model_module": "@jupyter-widgets/controls",
            "_model_module_version": "1.5.0",
            "_model_name": "DescriptionStyleModel",
            "_view_count": null,
            "_view_module": "@jupyter-widgets/base",
            "_view_module_version": "1.2.0",
            "_view_name": "StyleView",
            "description_width": ""
          }
        }
      }
    }
  },
  "nbformat": 4,
  "nbformat_minor": 0
}