{
  "cells": [
    {
      "cell_type": "code",
      "execution_count": 1,
      "metadata": {
        "colab": {
          "base_uri": "https://localhost:8080/"
        },
        "id": "yxFdHosMSc5M",
        "outputId": "ac364e0c-4062-4d84-f9cb-c90cb27f0c67"
      },
      "outputs": [
        {
          "output_type": "stream",
          "name": "stdout",
          "text": [
            "Running in Colab.\n",
            "Mounted at /content/gdrive\n",
            "Cloning into 'dl_basics'...\n",
            "remote: Enumerating objects: 214, done.\u001b[K\n",
            "remote: Counting objects: 100% (214/214), done.\u001b[K\n",
            "remote: Compressing objects: 100% (171/171), done.\u001b[K\n",
            "remote: Total 214 (delta 92), reused 127 (delta 42), pack-reused 0\u001b[K\n",
            "Receiving objects: 100% (214/214), 7.92 MiB | 25.34 MiB/s, done.\n",
            "Resolving deltas: 100% (92/92), done.\n",
            "Found GPU: Tesla T4.\n"
          ]
        }
      ],
      "source": [
        "import numpy as np\n",
        "import pandas as pd\n",
        "import matplotlib.pyplot as plt\n",
        "import seaborn as sns\n",
        "import os\n",
        "import sys\n",
        "import datetime\n",
        "import json\n",
        "import tensorflow as tf\n",
        "from tqdm.keras import TqdmCallback\n",
        "\n",
        "sns.set_theme()\n",
        "\n",
        "try: # are we in Colab?\n",
        "    import google.colab\n",
        "    COMPUTE_ENV = 'colab'\n",
        "    print('Running in Colab.')\n",
        "    google.colab.drive.mount('/content/gdrive')\n",
        "    OUTPUT_DIR = \"/content/gdrive/My Drive/output\"\n",
        "    !git clone https://github.com/FriedChips/dl_basics.git\n",
        "    sys.path.insert(0,'/content/dl_basics')\n",
        "except: # if not...\n",
        "    if \"kaggle\" in os.environ[\"PWD\"]: # are we in Kaggle?\n",
        "        COMPUTE_ENV = 'kaggle'\n",
        "        print('Running in Kaggle.')\n",
        "        !git clone https://github.com/FriedChips/dl_basics.git\n",
        "        sys.path.insert(0,'../working/dl_basics')    \n",
        "        OUTPUT_DIR = \"./\"\n",
        "    else: # we're local\n",
        "        COMPUTE_ENV = os.uname()[1]\n",
        "        print(f\"Running locally on {COMPUTE_ENV}.\")\n",
        "        sys.path.insert(0,'./../')\n",
        "        OUTPUT_DIR = \"../output/\"\n",
        "\n",
        "for gpu in tf.config.list_physical_devices(\"GPU\"):\n",
        "    print(f\"Found GPU: {tf.config.experimental.get_device_details(gpu)['device_name']}.\")"
      ]
    },
    {
      "cell_type": "code",
      "execution_count": 2,
      "metadata": {
        "id": "9kRbLzj4Sc5S"
      },
      "outputs": [],
      "source": [
        "from data_gen.modulo_arithmetic import addition_modulo_data\n",
        "#import models\n",
        "import utils"
      ]
    },
    {
      "cell_type": "code",
      "execution_count": 3,
      "metadata": {
        "colab": {
          "base_uri": "https://localhost:8080/"
        },
        "id": "jazWXg9PSc5T",
        "outputId": "b53c242e-f9b0-430e-ffb7-a380c74a5d7f"
      },
      "outputs": [
        {
          "output_type": "stream",
          "name": "stdout",
          "text": [
            "(3830, 2) (8939, 2) (3830,) (8939,)\n",
            "int32 int32 int32 int32\n",
            "[24 37] 61\n"
          ]
        }
      ],
      "source": [
        "P = {}\n",
        "\n",
        "P[\"addition_modulo_data\"] = {\n",
        "    \"p_max\" : 113,\n",
        "    \"train_size\" : 0.3,\n",
        "    \"add_equal_sign\" : False,\n",
        "    \"seed\" : 42,\n",
        "}\n",
        "\n",
        "x_train, x_val, y_train, y_val = addition_modulo_data(**P[\"addition_modulo_data\"])\n",
        "print(x_train.shape, x_val.shape, y_train.shape, y_val.shape)\n",
        "print(x_train.dtype, x_val.dtype, y_train.dtype, y_val.dtype)\n",
        "print(x_train[0], y_train[0])"
      ]
    },
    {
      "cell_type": "code",
      "execution_count": 11,
      "metadata": {
        "id": "JvItixB8nZFk"
      },
      "outputs": [],
      "source": [
        "import tensorflow as tf\n",
        "from tensorflow.keras import Model, Input\n",
        "from tensorflow.keras.layers import Embedding, Dense, Conv2D, Flatten\n",
        "\n",
        "\n",
        "def build_model(\n",
        "        seq_len,\n",
        "        vocab_size,\n",
        "        embed_dim,\n",
        "        mlp_dim,\n",
        "):\n",
        "    embedding_layer = Embedding(vocab_size, embed_dim, input_length=seq_len)\n",
        "\n",
        "    inp = Input(shape=(seq_len,), dtype=np.int32)\n",
        "    x = embedding_layer(inp)\n",
        "    x = tf.expand_dims(x, -1)\n",
        "    x = Conv2D(mlp_dim, kernel_size=(seq_len, embed_dim), use_bias=False)(x)\n",
        "    x = tf.nn.gelu(x)\n",
        "    x = Flatten()(x)\n",
        "    #x = Dense(vocab_size, use_bias=False)(x)\n",
        "    x = Dense(embed_dim, use_bias=False)(x)\n",
        "    x = x @ tf.transpose(embedding_layer.weights[0])\n",
        "    out = x\n",
        "    \n",
        "    model = Model(inp, out, name=\"mlp_grokking\")\n",
        "    return model"
      ]
    },
    {
      "cell_type": "code",
      "execution_count": 12,
      "metadata": {
        "colab": {
          "base_uri": "https://localhost:8080/"
        },
        "id": "waHGL1srSc5T",
        "outputId": "f546327e-c2f7-46fb-f1a9-8bc33353b5fe"
      },
      "outputs": [
        {
          "output_type": "stream",
          "name": "stdout",
          "text": [
            "Model: \"mlp_grokking\"\n",
            "_________________________________________________________________\n",
            " Layer (type)                Output Shape              Param #   \n",
            "=================================================================\n",
            " input_2 (InputLayer)        [(None, 2)]               0         \n",
            "                                                                 \n",
            " embedding_1 (Embedding)     (None, 2, 128)            14464     \n",
            "                                                                 \n",
            " tf.expand_dims_1 (TFOpLambd  (None, 2, 128, 1)        0         \n",
            " a)                                                              \n",
            "                                                                 \n",
            " conv2d_1 (Conv2D)           (None, 1, 1, 128)         32768     \n",
            "                                                                 \n",
            " tf.nn.gelu_1 (TFOpLambda)   (None, 1, 1, 128)         0         \n",
            "                                                                 \n",
            " flatten_1 (Flatten)         (None, 128)               0         \n",
            "                                                                 \n",
            " dense (Dense)               (None, 128)               16384     \n",
            "                                                                 \n",
            " tf.linalg.matmul_1 (TFOpLam  (None, 113)              0         \n",
            " bda)                                                            \n",
            "                                                                 \n",
            "=================================================================\n",
            "Total params: 63,616\n",
            "Trainable params: 63,616\n",
            "Non-trainable params: 0\n",
            "_________________________________________________________________\n",
            "Run dir : mlp_grokking-230415-145554\n"
          ]
        }
      ],
      "source": [
        "# init new run\n",
        "\n",
        "'''\n",
        "P[\"model_name\"] = \"gru_01\"\n",
        "P[\"model_build_params\"] = {\n",
        "    \"gru_units\" : 128,\n",
        "    \"num_outputs\" : P[\"addition_modulo_data\"][\"p_max\"],\n",
        "    \"input_shape\" : (2,),\n",
        "    \"num_hidden_gru\" : 0,\n",
        "    \"use_embedding\" : True,\n",
        "    \"vocab_size\" : P[\"addition_modulo_data\"][\"p_max\"],\n",
        "    \"embedding_dim\" : 128,\n",
        "    \"return_final_hidden\" : True,\n",
        "}\n",
        "\n",
        "P[\"model_name\"] = \"transformer_01\"\n",
        "P[\"model_build_params\"] = {\n",
        "    \"input_shape\" : (3,),\n",
        "    \"num_heads\" : 4,\n",
        "    \"num_tokens\" : P[\"addition_modulo_data\"][\"p_max\"] + 1, # + 1 for the \"=\" sign\n",
        "    \"embedding_dim\" : 128,\n",
        "    \"return_final_token_only\" : True,\n",
        "}\n",
        "\n",
        "model = eval(\"models.\" + P[\"model_name\"])(**P[\"model_build_params\"])\n",
        "'''\n",
        "\n",
        "P[\"model_build_params\"] = {\n",
        "    \"seq_len\" : 2,\n",
        "    \"vocab_size\" : P[\"addition_modulo_data\"][\"p_max\"],\n",
        "    \"embed_dim\" : 128,\n",
        "    \"mlp_dim\" : 128,\n",
        "}\n",
        "\n",
        "model = build_model(**P[\"model_build_params\"])\n",
        "\n",
        "model.compile(\n",
        "    loss = tf.keras.losses.SparseCategoricalCrossentropy(from_logits=True),\n",
        "    #optimizer = tf.keras.optimizers.Adam(learning_rate=1e-3),\n",
        "    optimizer = tf.keras.optimizers.experimental.AdamW(learning_rate=1e-2, weight_decay=1),\n",
        "    metrics = [ \"accuracy\" ]\n",
        ")\n",
        "\n",
        "model.summary()\n",
        "\n",
        "P[\"run_dir\"] = model.name + datetime.datetime.now().strftime('-%y%m%d-%H%M%S')\n",
        "print(\"Run dir :\", P[\"run_dir\"])\n",
        "\n",
        "run = utils.TrainingRun()\n",
        "weight_norm_logger = utils.LogWeightNorms()"
      ]
    },
    {
      "cell_type": "code",
      "execution_count": 17,
      "metadata": {
        "colab": {
          "base_uri": "https://localhost:8080/",
          "height": 49,
          "referenced_widgets": [
            "8a89ee15965a4083a4f37d72c2680788",
            "7fe48bb8743743fdaf78bc6862bfcd3c",
            "62f30a4e4f1a420db7b2c4d4b6471e27",
            "d1de5d173686418a891ee3c6f67faf4a",
            "e702ac0645e44e34a9960589bb7dbd60",
            "62d2ea4728d04e87a2712b1454937f97",
            "387810d0436c4706943b9c2021ee47f2",
            "563b89631b9242659de8505c8209b50e",
            "a5fd086df6144c129bba06ba1ae2047f",
            "dfa97a9f5ce3439cb38e562271288a0d",
            "b92e8afd29374c9894ecc929fba0bf8e"
          ]
        },
        "id": "-IJSW5stSc5U",
        "outputId": "eeb927d8-8607-4fb9-b448-57542c9287c8"
      },
      "outputs": [
        {
          "output_type": "display_data",
          "data": {
            "text/plain": [
              "0epoch [00:00, ?epoch/s]"
            ],
            "application/vnd.jupyter.widget-view+json": {
              "version_major": 2,
              "version_minor": 0,
              "model_id": "8a89ee15965a4083a4f37d72c2680788"
            }
          },
          "metadata": {}
        }
      ],
      "source": [
        "NUM_EPOCHS = 1024 * 12\n",
        "#lr_sched = utils.Schedule_ExpCos_Segments([[-3,-3, NUM_EPOCHS]])\n",
        "\n",
        "history = model.fit(\n",
        "    x_train, y_train,\n",
        "    epochs = NUM_EPOCHS,\n",
        "    batch_size = len(x_train),\n",
        "    validation_data = (x_val, y_val),\n",
        "    callbacks=[\n",
        "        TqdmCallback(verbose=0),\n",
        "        weight_norm_logger,\n",
        "    ],        \n",
        "    verbose=0)\n",
        "\n",
        "run.update_history(history)"
      ]
    },
    {
      "cell_type": "code",
      "execution_count": 18,
      "metadata": {
        "colab": {
          "base_uri": "https://localhost:8080/",
          "height": 278
        },
        "id": "d5IcAVmMSc5V",
        "outputId": "3828f094-c2b9-44a7-ed19-94bbda94eb60"
      },
      "outputs": [
        {
          "output_type": "display_data",
          "data": {
            "text/plain": [
              "<Figure size 2500x300 with 3 Axes>"
            ],
            "image/png": "[encoded data removed]"
          },
          "metadata": {}
        }
      ],
      "source": [
        "fig, axs = plt.subplots(1, 3, figsize=(25,3))\n",
        "\n",
        "sns.lineplot(data=run.history[[\"loss\", \"val_loss\"]], ax=axs[0], dashes=False);\n",
        "axs[0].set_yscale(\"log\");\n",
        "\n",
        "sns.lineplot(data=run.history[[\"accuracy\", \"val_accuracy\"]], ax=axs[1], dashes=False);\n",
        "\n",
        "sns.lineplot(data=weight_norm_logger.norms_dataframe(), ax=axs[2], dashes=False);"
      ]
    },
    {
      "cell_type": "code",
      "execution_count": 19,
      "metadata": {
        "id": "orakCTxiXOdh"
      },
      "outputs": [],
      "source": [
        "log_dir = os.path.join(OUTPUT_DIR, P[\"run_dir\"])\n",
        "run.save_state(log_dir, P, model)\n",
        "weight_norm_logger.norms_to_csv(log_dir)"
      ]
    },
    {
      "cell_type": "code",
      "execution_count": null,
      "metadata": {
        "id": "Dk6FxiyjXOdg"
      },
      "outputs": [],
      "source": [
        "#P, model = run.load_state(\"../output/gru_01-230407-220913\")"
      ]
    },
    {
      "cell_type": "code",
      "execution_count": null,
      "metadata": {
        "id": "vaLuwpB5d7yB"
      },
      "outputs": [],
      "source": []
    }
  ],
  "metadata": {
    "accelerator": "GPU",
    "colab": {
      "provenance": []
    },
    "gpuClass": "standard",
    "kernelspec": {
      "display_name": "dl_basics",
      "language": "python",
      "name": "python3"
    },
    "language_info": {
      "codemirror_mode": {
        "name": "ipython",
        "version": 3
      },
      "file_extension": ".py",
      "mimetype": "text/x-python",
      "name": "python",
      "nbconvert_exporter": "python",
      "pygments_lexer": "ipython3",
      "version": "3.10.10"
    },
    "orig_nbformat": 4,
    "widgets": {
      "application/vnd.jupyter.widget-state+json": {
        "8a89ee15965a4083a4f37d72c2680788": {
          "model_module": "@jupyter-widgets/controls",
          "model_name": "HBoxModel",
          "model_module_version": "1.5.0",
          "state": {
            "_dom_classes": [],
            "_model_module": "@jupyter-widgets/controls",
            "_model_module_version": "1.5.0",
            "_model_name": "HBoxModel",
            "_view_count": null,
            "_view_module": "@jupyter-widgets/controls",
            "_view_module_version": "1.5.0",
            "_view_name": "HBoxView",
            "box_style": "",
            "children": [
              "IPY_MODEL_7fe48bb8743743fdaf78bc6862bfcd3c",
              "IPY_MODEL_62f30a4e4f1a420db7b2c4d4b6471e27",
              "IPY_MODEL_d1de5d173686418a891ee3c6f67faf4a"
            ],
            "layout": "IPY_MODEL_e702ac0645e44e34a9960589bb7dbd60"
          }
        },
        "7fe48bb8743743fdaf78bc6862bfcd3c": {
          "model_module": "@jupyter-widgets/controls",
          "model_name": "HTMLModel",
          "model_module_version": "1.5.0",
          "state": {
            "_dom_classes": [],
            "_model_module": "@jupyter-widgets/controls",
            "_model_module_version": "1.5.0",
            "_model_name": "HTMLModel",
            "_view_count": null,
            "_view_module": "@jupyter-widgets/controls",
            "_view_module_version": "1.5.0",
            "_view_name": "HTMLView",
            "description": "",
            "description_tooltip": null,
            "layout": "IPY_MODEL_62d2ea4728d04e87a2712b1454937f97",
            "placeholder": "​",
            "style": "IPY_MODEL_387810d0436c4706943b9c2021ee47f2",
            "value": "100%"
          }
        },
        "62f30a4e4f1a420db7b2c4d4b6471e27": {
          "model_module": "@jupyter-widgets/controls",
          "model_name": "FloatProgressModel",
          "model_module_version": "1.5.0",
          "state": {
            "_dom_classes": [],
            "_model_module": "@jupyter-widgets/controls",
            "_model_module_version": "1.5.0",
            "_model_name": "FloatProgressModel",
            "_view_count": null,
            "_view_module": "@jupyter-widgets/controls",
            "_view_module_version": "1.5.0",
            "_view_name": "ProgressView",
            "bar_style": "success",
            "description": "",
            "description_tooltip": null,
            "layout": "IPY_MODEL_563b89631b9242659de8505c8209b50e",
            "max": 12288,
            "min": 0,
            "orientation": "horizontal",
            "style": "IPY_MODEL_a5fd086df6144c129bba06ba1ae2047f",
            "value": 12288
          }
        },
        "d1de5d173686418a891ee3c6f67faf4a": {
          "model_module": "@jupyter-widgets/controls",
          "model_name": "HTMLModel",
          "model_module_version": "1.5.0",
          "state": {
            "_dom_classes": [],
            "_model_module": "@jupyter-widgets/controls",
            "_model_module_version": "1.5.0",
            "_model_name": "HTMLModel",
            "_view_count": null,
            "_view_module": "@jupyter-widgets/controls",
            "_view_module_version": "1.5.0",
            "_view_name": "HTMLView",
            "description": "",
            "description_tooltip": null,
            "layout": "IPY_MODEL_dfa97a9f5ce3439cb38e562271288a0d",
            "placeholder": "​",
            "style": "IPY_MODEL_b92e8afd29374c9894ecc929fba0bf8e",
            "value": " 12288/12288 [10:40&lt;00:00, 21.34epoch/s, loss=5.34e-5, accuracy=1, val_loss=0.000582, val_accuracy=1]"
          }
        },
        "e702ac0645e44e34a9960589bb7dbd60": {
          "model_module": "@jupyter-widgets/base",
          "model_name": "LayoutModel",
          "model_module_version": "1.2.0",
          "state": {
            "_model_module": "@jupyter-widgets/base",
            "_model_module_version": "1.2.0",
            "_model_name": "LayoutModel",
            "_view_count": null,
            "_view_module": "@jupyter-widgets/base",
            "_view_module_version": "1.2.0",
            "_view_name": "LayoutView",
            "align_content": null,
            "align_items": null,
            "align_self": null,
            "border": null,
            "bottom": null,
            "display": null,
            "flex": null,
            "flex_flow": null,
            "grid_area": null,
            "grid_auto_columns": null,
            "grid_auto_flow": null,
            "grid_auto_rows": null,
            "grid_column": null,
            "grid_gap": null,
            "grid_row": null,
            "grid_template_areas": null,
            "grid_template_columns": null,
            "grid_template_rows": null,
            "height": null,
            "justify_content": null,
            "justify_items": null,
            "left": null,
            "margin": null,
            "max_height": null,
            "max_width": null,
            "min_height": null,
            "min_width": null,
            "object_fit": null,
            "object_position": null,
            "order": null,
            "overflow": null,
            "overflow_x": null,
            "overflow_y": null,
            "padding": null,
            "right": null,
            "top": null,
            "visibility": null,
            "width": null
          }
        },
        "62d2ea4728d04e87a2712b1454937f97": {
          "model_module": "@jupyter-widgets/base",
          "model_name": "LayoutModel",
          "model_module_version": "1.2.0",
          "state": {
            "_model_module": "@jupyter-widgets/base",
            "_model_module_version": "1.2.0",
            "_model_name": "LayoutModel",
            "_view_count": null,
            "_view_module": "@jupyter-widgets/base",
            "_view_module_version": "1.2.0",
            "_view_name": "LayoutView",
            "align_content": null,
            "align_items": null,
            "align_self": null,
            "border": null,
            "bottom": null,
            "display": null,
            "flex": null,
            "flex_flow": null,
            "grid_area": null,
            "grid_auto_columns": null,
            "grid_auto_flow": null,
            "grid_auto_rows": null,
            "grid_column": null,
            "grid_gap": null,
            "grid_row": null,
            "grid_template_areas": null,
            "grid_template_columns": null,
            "grid_template_rows": null,
            "height": null,
            "justify_content": null,
            "justify_items": null,
            "left": null,
            "margin": null,
            "max_height": null,
            "max_width": null,
            "min_height": null,
            "min_width": null,
            "object_fit": null,
            "object_position": null,
            "order": null,
            "overflow": null,
            "overflow_x": null,
            "overflow_y": null,
            "padding": null,
            "right": null,
            "top": null,
            "visibility": null,
            "width": null
          }
        },
        "387810d0436c4706943b9c2021ee47f2": {
          "model_module": "@jupyter-widgets/controls",
          "model_name": "DescriptionStyleModel",
          "model_module_version": "1.5.0",
          "state": {
            "_model_module": "@jupyter-widgets/controls",
            "_model_module_version": "1.5.0",
            "_model_name": "DescriptionStyleModel",
            "_view_count": null,
            "_view_module": "@jupyter-widgets/base",
            "_view_module_version": "1.2.0",
            "_view_name": "StyleView",
            "description_width": ""
          }
        },
        "563b89631b9242659de8505c8209b50e": {
          "model_module": "@jupyter-widgets/base",
          "model_name": "LayoutModel",
          "model_module_version": "1.2.0",
          "state": {
            "_model_module": "@jupyter-widgets/base",
            "_model_module_version": "1.2.0",
            "_model_name": "LayoutModel",
            "_view_count": null,
            "_view_module": "@jupyter-widgets/base",
            "_view_module_version": "1.2.0",
            "_view_name": "LayoutView",
            "align_content": null,
            "align_items": null,
            "align_self": null,
            "border": null,
            "bottom": null,
            "display": null,
            "flex": null,
            "flex_flow": null,
            "grid_area": null,
            "grid_auto_columns": null,
            "grid_auto_flow": null,
            "grid_auto_rows": null,
            "grid_column": null,
            "grid_gap": null,
            "grid_row": null,
            "grid_template_areas": null,
            "grid_template_columns": null,
            "grid_template_rows": null,
            "height": null,
            "justify_content": null,
            "justify_items": null,
            "left": null,
            "margin": null,
            "max_height": null,
            "max_width": null,
            "min_height": null,
            "min_width": null,
            "object_fit": null,
            "object_position": null,
            "order": null,
            "overflow": null,
            "overflow_x": null,
            "overflow_y": null,
            "padding": null,
            "right": null,
            "top": null,
            "visibility": null,
            "width": null
          }
        },
        "a5fd086df6144c129bba06ba1ae2047f": {
          "model_module": "@jupyter-widgets/controls",
          "model_name": "ProgressStyleModel",
          "model_module_version": "1.5.0",
          "state": {
            "_model_module": "@jupyter-widgets/controls",
            "_model_module_version": "1.5.0",
            "_model_name": "ProgressStyleModel",
            "_view_count": null,
            "_view_module": "@jupyter-widgets/base",
            "_view_module_version": "1.2.0",
            "_view_name": "StyleView",
            "bar_color": null,
            "description_width": ""
          }
        },
        "dfa97a9f5ce3439cb38e562271288a0d": {
          "model_module": "@jupyter-widgets/base",
          "model_name": "LayoutModel",
          "model_module_version": "1.2.0",
          "state": {
            "_model_module": "@jupyter-widgets/base",
            "_model_module_version": "1.2.0",
            "_model_name": "LayoutModel",
            "_view_count": null,
            "_view_module": "@jupyter-widgets/base",
            "_view_module_version": "1.2.0",
            "_view_name": "LayoutView",
            "align_content": null,
            "align_items": null,
            "align_self": null,
            "border": null,
            "bottom": null,
            "display": null,
            "flex": null,
            "flex_flow": null,
            "grid_area": null,
            "grid_auto_columns": null,
            "grid_auto_flow": null,
            "grid_auto_rows": null,
            "grid_column": null,
            "grid_gap": null,
            "grid_row": null,
            "grid_template_areas": null,
            "grid_template_columns": null,
            "grid_template_rows": null,
            "height": null,
            "justify_content": null,
            "justify_items": null,
            "left": null,
            "margin": null,
            "max_height": null,
            "max_width": null,
            "min_height": null,
            "min_width": null,
            "object_fit": null,
            "object_position": null,
            "order": null,
            "overflow": null,
            "overflow_x": null,
            "overflow_y": null,
            "padding": null,
            "right": null,
            "top": null,
            "visibility": null,
            "width": null
          }
        },
        "b92e8afd29374c9894ecc929fba0bf8e": {
          "model_module": "@jupyter-widgets/controls",
          "model_name": "DescriptionStyleModel",
          "model_module_version": "1.5.0",
          "state": {
            "_model_module": "@jupyter-widgets/controls",
            "_model_module_version": "1.5.0",
            "_model_name": "DescriptionStyleModel",
            "_view_count": null,
            "_view_module": "@jupyter-widgets/base",
            "_view_module_version": "1.2.0",
            "_view_name": "StyleView",
            "description_width": ""
          }
        }
      }
    }
  },
  "nbformat": 4,
  "nbformat_minor": 0
}