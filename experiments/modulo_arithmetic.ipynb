{
  "cells": [
    {
      "cell_type": "code",
      "execution_count": 1,
      "metadata": {
        "colab": {
          "base_uri": "https://localhost:8080/"
        },
        "id": "yxFdHosMSc5M",
        "outputId": "fad838b7-8714-47ea-cd9f-aad86d20de7a"
      },
      "outputs": [
        {
          "name": "stdout",
          "output_type": "stream",
          "text": [
            "Running in Colab.\n",
            "Mounted at /content/gdrive\n",
            "Cloning into 'dl_basics'...\n",
            "remote: Enumerating objects: 359, done.\u001b[K\n",
            "remote: Counting objects: 100% (74/74), done.\u001b[K\n",
            "remote: Compressing objects: 100% (58/58), done.\u001b[K\n",
            "remote: Total 359 (delta 33), reused 35 (delta 16), pack-reused 285\u001b[K\n",
            "Receiving objects: 100% (359/359), 15.93 MiB | 24.57 MiB/s, done.\n",
            "Resolving deltas: 100% (166/166), done.\n",
            "Found GPU: Tesla T4.\n"
          ]
        }
      ],
      "source": [
        "import numpy as np\n",
        "import pandas as pd\n",
        "import matplotlib.pyplot as plt\n",
        "import seaborn as sns\n",
        "import os\n",
        "import sys\n",
        "import datetime\n",
        "import json\n",
        "import tensorflow as tf\n",
        "\n",
        "try: # are we in Colab?\n",
        "    import google.colab\n",
        "    COMPUTE_ENV = 'colab'\n",
        "    print('Running in Colab.')\n",
        "    google.colab.drive.mount('/content/gdrive')\n",
        "    OUTPUT_DIR = \"/content/gdrive/My Drive/output\"\n",
        "    !git clone https://github.com/FriedChips/dl_basics.git\n",
        "    sys.path.insert(0,'/content/dl_basics')\n",
        "except: # if not...\n",
        "    if \"kaggle\" in os.environ[\"PWD\"]: # are we in Kaggle?\n",
        "        COMPUTE_ENV = 'kaggle'\n",
        "        print('Running in Kaggle.')\n",
        "        !git clone https://github.com/FriedChips/dl_basics.git\n",
        "        sys.path.insert(0,'../working/dl_basics')    \n",
        "        OUTPUT_DIR = \"./\"\n",
        "    else: # we're local\n",
        "        COMPUTE_ENV = os.uname()[1]\n",
        "        print(f\"Running locally on {COMPUTE_ENV}.\")\n",
        "        sys.path.insert(0,'./../')\n",
        "        OUTPUT_DIR = \"../output/\"\n",
        "\n",
        "for gpu in tf.config.list_physical_devices(\"GPU\"):\n",
        "    print(f\"Found GPU: {tf.config.experimental.get_device_details(gpu)['device_name']}.\")"
      ]
    },
    {
      "cell_type": "code",
      "execution_count": 2,
      "metadata": {
        "id": "9kRbLzj4Sc5S"
      },
      "outputs": [],
      "source": [
        "from data_gen.modulo_arithmetic import addition_modulo_data\n",
        "#import models\n",
        "import utils\n",
        "\n",
        "from tensorflow.keras import Model, Input\n",
        "from tensorflow.keras.layers import Embedding, Dense, Conv2D, Flatten\n",
        "from tensorflow.keras.regularizers import L2\n",
        "from models.transformers import transformer_block\n",
        "\n",
        "from tqdm.keras import TqdmCallback\n",
        "from tensorflow.keras.optimizers import Adam, SGD\n",
        "from tensorflow.keras.optimizers.experimental import AdamW\n",
        "from tensorflow.keras.losses import SparseCategoricalCrossentropy"
      ]
    },
    {
      "cell_type": "code",
      "execution_count": 76,
      "metadata": {
        "id": "JvItixB8nZFk"
      },
      "outputs": [],
      "source": [
        "import tensorflow as tf\n",
        "from tensorflow.keras import Model, Input\n",
        "from tensorflow.keras.layers import Embedding, Dense, Conv2D, Flatten\n",
        "from tensorflow.keras.regularizers import L2\n",
        "from models.transformers import transformer_block\n",
        "\n",
        "def mlp_mod_arith(\n",
        "        seq_len,\n",
        "        vocab_size,\n",
        "        embed_dim,\n",
        "        mlp_dim,\n",
        "        regularizer = None,\n",
        "        lambda_emb_loss = 0.01,\n",
        "):\n",
        "    if regularizer is not None:\n",
        "        regularizer = eval(regularizer)\n",
        "\n",
        "    embed = Embedding(vocab_size, embed_dim, input_length=seq_len, embeddings_regularizer=regularizer, name=\"embedding\")\n",
        "    unemb = Dense(vocab_size, use_bias=False, kernel_regularizer=regularizer, name=\"unembedding\")\n",
        "\n",
        "    inp = Input(shape=(seq_len,), dtype=np.int32, name=\"input\")\n",
        "    x = embed(inp)\n",
        "    x = Dense(mlp_dim, use_bias=False, kernel_regularizer=regularizer, name=\"mlp\")(x)\n",
        "    #x = tf.expand_dims(x, -1)\n",
        "    #x = Conv2D(mlp_dim, kernel_size=(seq_len, embed_dim), use_bias=False, kernel_regularizer=regularizer, name=\"mlp\")(x)\n",
        "    x = tf.math.reduce_sum(x, axis=-2)\n",
        "    x = tf.nn.gelu(x)\n",
        "    #x = Flatten()(x)\n",
        "    x = unemb(x)\n",
        "    out = x\n",
        "    \n",
        "    model = Model(inp, out, name=\"mlp_mod_arith\")\n",
        "\n",
        "    emb_loss = lambda: lambda_emb_loss * tf.reduce_sum(tf.square(embed.weights[0] - tf.transpose(unemb.weights[0])))\n",
        "    model.add_loss(emb_loss)\n",
        "\n",
        "    return model\n",
        "\n",
        "\n",
        "def transf_mod_arith(\n",
        "        seq_len,\n",
        "        vocab_size,\n",
        "        embed_dim,\n",
        "        use_bias=False,\n",
        "):\n",
        "    inp = Input(shape=(seq_len,), dtype=np.int32, name=\"input\")\n",
        "    x = Embedding(vocab_size, embed_dim, input_length=seq_len, name=\"embedding\")(inp)\n",
        "    x = transformer_block(x, num_heads=1, use_mlp=True, mlp_factor=1, use_bias=use_bias)\n",
        "    x = Dense(vocab_size, use_bias=use_bias, name=\"unembedding\")(x)\n",
        "    out = x[..., -1, :]\n",
        "\n",
        "    model = Model(inp, out, name=\"transf_mod_arith\")\n",
        "    return model"
      ]
    },
    {
      "cell_type": "code",
      "execution_count": 72,
      "metadata": {
        "colab": {
          "base_uri": "https://localhost:8080/"
        },
        "id": "jazWXg9PSc5T",
        "outputId": "353233a1-a0b4-41aa-c792-4a7241b074aa"
      },
      "outputs": [
        {
          "name": "stdout",
          "output_type": "stream",
          "text": [
            "(3830, 2) (8939, 2) (3830,) (8939,)\n",
            "int32 int32 int32 int32\n",
            "[24 37] 61\n"
          ]
        }
      ],
      "source": [
        "P = {}\n",
        "\n",
        "P[\"addition_modulo_data\"] = {\n",
        "    \"p_max\" : 113,\n",
        "    \"train_size\" : 0.3,\n",
        "    \"add_equal_sign\" : False,\n",
        "    \"seed\" : 42,\n",
        "}\n",
        "\n",
        "x_train, x_val, y_train, y_val = addition_modulo_data(**P[\"addition_modulo_data\"])\n",
        "print(x_train.shape, x_val.shape, y_train.shape, y_val.shape)\n",
        "print(x_train.dtype, x_val.dtype, y_train.dtype, y_val.dtype)\n",
        "print(x_train[0], y_train[0])"
      ]
    },
    {
      "cell_type": "code",
      "execution_count": 77,
      "metadata": {
        "colab": {
          "base_uri": "https://localhost:8080/"
        },
        "id": "waHGL1srSc5T",
        "outputId": "f5025ec2-744b-4da3-cd38-cba24b6a48d5"
      },
      "outputs": [
        {
          "name": "stdout",
          "output_type": "stream",
          "text": [
            "Model: \"mlp_mod_arith\"\n",
            "_________________________________________________________________\n",
            " Layer (type)                Output Shape              Param #   \n",
            "=================================================================\n",
            " input (InputLayer)          [(None, 2)]               0         \n",
            "                                                                 \n",
            " embedding (Embedding)       (None, 2, 128)            14464     \n",
            "                                                                 \n",
            " mlp (Dense)                 (None, 2, 128)            16384     \n",
            "                                                                 \n",
            " tf.math.reduce_sum (TFOpLam  (None, 128)              0         \n",
            " bda)                                                            \n",
            "                                                                 \n",
            " tf.nn.gelu (TFOpLambda)     (None, 128)               0         \n",
            "                                                                 \n",
            " unembedding (Dense)         (None, 113)               14464     \n",
            "                                                                 \n",
            "=================================================================\n",
            "Total params: 45,312\n",
            "Trainable params: 45,312\n",
            "Non-trainable params: 0\n",
            "_________________________________________________________________\n",
            "Log dir : /content/gdrive/My Drive/output/mlp_mod_arith-230421-075337\n"
          ]
        }
      ],
      "source": [
        "# init new run\n",
        "\n",
        "'''\n",
        "P[\"model_name\"] = \"gru_01\"\n",
        "P[\"model_build_params\"] = {\n",
        "    \"gru_units\" : 128,\n",
        "    \"num_outputs\" : P[\"addition_modulo_data\"][\"p_max\"],\n",
        "    \"input_shape\" : (2,),\n",
        "    \"num_hidden_gru\" : 0,\n",
        "    \"use_embedding\" : True,\n",
        "    \"vocab_size\" : P[\"addition_modulo_data\"][\"p_max\"],\n",
        "    \"embedding_dim\" : 128,\n",
        "    \"return_final_hidden\" : True,\n",
        "}\n",
        "\n",
        "P[\"model_name\"] = \"transformer_01\"\n",
        "P[\"model_build_params\"] = {\n",
        "    \"input_shape\" : (3,),\n",
        "    \"num_heads\" : 4,\n",
        "    \"num_tokens\" : P[\"addition_modulo_data\"][\"p_max\"] + 1, # + 1 for the \"=\" sign\n",
        "    \"embedding_dim\" : 128,\n",
        "    \"return_final_token_only\" : True,\n",
        "}\n",
        "'''\n",
        "\n",
        "P[\"model_name\"] = \"mlp_mod_arith\"\n",
        "P[\"model_build_params\"] = {\n",
        "    \"seq_len\" : 2,\n",
        "    \"vocab_size\" : P[\"addition_modulo_data\"][\"p_max\"],\n",
        "    \"embed_dim\" : 128,\n",
        "    \"mlp_dim\" : 128,\n",
        "    \"regularizer\" : None,\n",
        "    \"lambda_emb_loss\" : 0.01,\n",
        "}\n",
        "\n",
        "'''\n",
        "P[\"model_name\"] = \"transf_mod_arith\"\n",
        "P[\"model_build_params\"] = {\n",
        "    \"seq_len\" : 2,\n",
        "    \"vocab_size\" : P[\"addition_modulo_data\"][\"p_max\"],\n",
        "    \"embed_dim\" : 128,\n",
        "    \"use_bias\" : False,\n",
        "}\n",
        "'''\n",
        "\n",
        "P[\"random_seed\"] = 42\n",
        "utils.tf_keras_random_seed(P[\"random_seed\"])\n",
        "\n",
        "#model = eval(\"models.\" + P[\"model_name\"])(**P[\"model_build_params\"])\n",
        "model = eval(P[\"model_name\"])(**P[\"model_build_params\"])\n",
        "model.summary()\n",
        "\n",
        "P[\"loss\"] = \"SparseCategoricalCrossentropy(from_logits=True)\"\n",
        "P[\"optimizer\"] = \"AdamW(1e-3, weight_decay=1)\"\n",
        "#P[\"optimizer\"] = \"SGD(1e-0, momentum=0.9)\"\n",
        "P[\"metrics\"] = [ \"accuracy\" ]\n",
        "model.compile(loss = eval(P[\"loss\"]), optimizer = eval(P[\"optimizer\"]), metrics = P[\"metrics\"])\n",
        "\n",
        "P[\"run_dir\"] = model.name + datetime.datetime.now().strftime('-%y%m%d-%H%M%S')\n",
        "LOG_DIR = os.path.join(OUTPUT_DIR, P[\"run_dir\"])\n",
        "\n",
        "print(\"Log dir :\", LOG_DIR)\n",
        "\n",
        "run = utils.TrainingRun()\n",
        "weight_norm_logger = utils.LogWeightNorms()\n",
        "weight_logger = utils.SaveWeightsPower2(LOG_DIR)"
      ]
    },
    {
      "cell_type": "code",
      "execution_count": 78,
      "metadata": {
        "colab": {
          "base_uri": "https://localhost:8080/",
          "height": 49,
          "referenced_widgets": [
            "02e31af00d404f85b973dc26660778c8",
            "c2b4bceae31a42c486b74c803f595213",
            "a3a717d2c77041b0b732cf9b67ee55ee",
            "39e93e24b4fd4548b6383dc0da61a3fe",
            "862412f29e63454388f54d3f212c0638",
            "18fc59ae939a46f0bfa57cf432e2e653",
            "c213f1a76c3749f389c67ecf206ba5e6",
            "5657ebbe143a45f684e2eb1f2b6f570d",
            "bb5dba29429d41778351ef501a7cb2c4",
            "715945156cd540a4bcdb0c761c521759",
            "0a46d36fab3544fe8b7f8cadefcce6b2"
          ]
        },
        "id": "-IJSW5stSc5U",
        "outputId": "5fd37273-ad54-45d6-a6f3-0ce14e9aef71"
      },
      "outputs": [
        {
          "data": {
            "application/vnd.jupyter.widget-view+json": {
              "model_id": "02e31af00d404f85b973dc26660778c8",
              "version_major": 2,
              "version_minor": 0
            },
            "text/plain": [
              "0epoch [00:00, ?epoch/s]"
            ]
          },
          "metadata": {},
          "output_type": "display_data"
        }
      ],
      "source": [
        "NUM_EPOCHS = 1024 * 2\n",
        "\n",
        "history = model.fit(\n",
        "    x_train, y_train,\n",
        "    initial_epoch = run.current_epoch,\n",
        "    epochs = run.current_epoch + NUM_EPOCHS,\n",
        "    batch_size = len(x_train) // 10,\n",
        "    validation_data = (x_val, y_val),\n",
        "    callbacks=[\n",
        "        TqdmCallback(verbose=0),\n",
        "        weight_norm_logger,\n",
        "        weight_logger,\n",
        "    ],        \n",
        "    verbose=0)\n",
        "\n",
        "run.update_history(history)"
      ]
    },
    {
      "cell_type": "code",
      "execution_count": 79,
      "metadata": {
        "colab": {
          "base_uri": "https://localhost:8080/",
          "height": 281
        },
        "id": "d5IcAVmMSc5V",
        "outputId": "626f763e-8e69-41cf-9144-91d41aea0639"
      },
      "outputs": [
        {
          "data": {
            "image/png": "[encoded data removed]",
            "text/plain": [
              "<Figure size 2500x300 with 3 Axes>"
            ]
          },
          "metadata": {},
          "output_type": "display_data"
        }
      ],
      "source": [
        "fig, axs = plt.subplots(1, 3, figsize=(25,3)) \n",
        "\n",
        "with sns.axes_style(\"darkgrid\"):\n",
        "    sns.lineplot(data=run.history[[\"loss\", \"val_loss\"]], ax=axs[0], dashes=False);\n",
        "    axs[0].set_yscale(\"log\");\n",
        "\n",
        "    sns.lineplot(data=run.history[[\"accuracy\", \"val_accuracy\"]], ax=axs[1], dashes=False);\n",
        "\n",
        "    sns.lineplot(data=weight_norm_logger.norms_dataframe(), ax=axs[2], dashes=False);"
      ]
    },
    {
      "cell_type": "code",
      "execution_count": 80,
      "metadata": {
        "id": "orakCTxiXOdh"
      },
      "outputs": [],
      "source": [
        "run.save_state(LOG_DIR, P, model)\n",
        "weight_norm_logger.norms_to_csv(LOG_DIR)"
      ]
    },
    {
      "cell_type": "code",
      "execution_count": null,
      "metadata": {
        "id": "vaLuwpB5d7yB"
      },
      "outputs": [],
      "source": []
    }
  ],
  "metadata": {
    "accelerator": "GPU",
    "colab": {
      "provenance": []
    },
    "gpuClass": "standard",
    "kernelspec": {
      "display_name": "dl_basics",
      "language": "python",
      "name": "python3"
    },
    "language_info": {
      "codemirror_mode": {
        "name": "ipython",
        "version": 3
      },
      "file_extension": ".py",
      "mimetype": "text/x-python",
      "name": "python",
      "nbconvert_exporter": "python",
      "pygments_lexer": "ipython3",
      "version": "3.10.10"
    },
    "orig_nbformat": 4,
    "widgets": {
      "application/vnd.jupyter.widget-state+json": {
        "02e31af00d404f85b973dc26660778c8": {
          "model_module": "@jupyter-widgets/controls",
          "model_module_version": "1.5.0",
          "model_name": "HBoxModel",
          "state": {
            "_dom_classes": [],
            "_model_module": "@jupyter-widgets/controls",
            "_model_module_version": "1.5.0",
            "_model_name": "HBoxModel",
            "_view_count": null,
            "_view_module": "@jupyter-widgets/controls",
            "_view_module_version": "1.5.0",
            "_view_name": "HBoxView",
            "box_style": "",
            "children": [
              "IPY_MODEL_c2b4bceae31a42c486b74c803f595213",
              "IPY_MODEL_a3a717d2c77041b0b732cf9b67ee55ee",
              "IPY_MODEL_39e93e24b4fd4548b6383dc0da61a3fe"
            ],
            "layout": "IPY_MODEL_862412f29e63454388f54d3f212c0638"
          }
        },
        "0a46d36fab3544fe8b7f8cadefcce6b2": {
          "model_module": "@jupyter-widgets/controls",
          "model_module_version": "1.5.0",
          "model_name": "DescriptionStyleModel",
          "state": {
            "_model_module": "@jupyter-widgets/controls",
            "_model_module_version": "1.5.0",
            "_model_name": "DescriptionStyleModel",
            "_view_count": null,
            "_view_module": "@jupyter-widgets/base",
            "_view_module_version": "1.2.0",
            "_view_name": "StyleView",
            "description_width": ""
          }
        },
        "18fc59ae939a46f0bfa57cf432e2e653": {
          "model_module": "@jupyter-widgets/base",
          "model_module_version": "1.2.0",
          "model_name": "LayoutModel",
          "state": {
            "_model_module": "@jupyter-widgets/base",
            "_model_module_version": "1.2.0",
            "_model_name": "LayoutModel",
            "_view_count": null,
            "_view_module": "@jupyter-widgets/base",
            "_view_module_version": "1.2.0",
            "_view_name": "LayoutView",
            "align_content": null,
            "align_items": null,
            "align_self": null,
            "border": null,
            "bottom": null,
            "display": null,
            "flex": null,
            "flex_flow": null,
            "grid_area": null,
            "grid_auto_columns": null,
            "grid_auto_flow": null,
            "grid_auto_rows": null,
            "grid_column": null,
            "grid_gap": null,
            "grid_row": null,
            "grid_template_areas": null,
            "grid_template_columns": null,
            "grid_template_rows": null,
            "height": null,
            "justify_content": null,
            "justify_items": null,
            "left": null,
            "margin": null,
            "max_height": null,
            "max_width": null,
            "min_height": null,
            "min_width": null,
            "object_fit": null,
            "object_position": null,
            "order": null,
            "overflow": null,
            "overflow_x": null,
            "overflow_y": null,
            "padding": null,
            "right": null,
            "top": null,
            "visibility": null,
            "width": null
          }
        },
        "39e93e24b4fd4548b6383dc0da61a3fe": {
          "model_module": "@jupyter-widgets/controls",
          "model_module_version": "1.5.0",
          "model_name": "HTMLModel",
          "state": {
            "_dom_classes": [],
            "_model_module": "@jupyter-widgets/controls",
            "_model_module_version": "1.5.0",
            "_model_name": "HTMLModel",
            "_view_count": null,
            "_view_module": "@jupyter-widgets/controls",
            "_view_module_version": "1.5.0",
            "_view_name": "HTMLView",
            "description": "",
            "description_tooltip": null,
            "layout": "IPY_MODEL_715945156cd540a4bcdb0c761c521759",
            "placeholder": "​",
            "style": "IPY_MODEL_0a46d36fab3544fe8b7f8cadefcce6b2",
            "value": " 2048/2048 [04:39&lt;00:00,  8.65epoch/s, loss=0.00166, accuracy=1, val_loss=0.0052, val_accuracy=1]"
          }
        },
        "5657ebbe143a45f684e2eb1f2b6f570d": {
          "model_module": "@jupyter-widgets/base",
          "model_module_version": "1.2.0",
          "model_name": "LayoutModel",
          "state": {
            "_model_module": "@jupyter-widgets/base",
            "_model_module_version": "1.2.0",
            "_model_name": "LayoutModel",
            "_view_count": null,
            "_view_module": "@jupyter-widgets/base",
            "_view_module_version": "1.2.0",
            "_view_name": "LayoutView",
            "align_content": null,
            "align_items": null,
            "align_self": null,
            "border": null,
            "bottom": null,
            "display": null,
            "flex": null,
            "flex_flow": null,
            "grid_area": null,
            "grid_auto_columns": null,
            "grid_auto_flow": null,
            "grid_auto_rows": null,
            "grid_column": null,
            "grid_gap": null,
            "grid_row": null,
            "grid_template_areas": null,
            "grid_template_columns": null,
            "grid_template_rows": null,
            "height": null,
            "justify_content": null,
            "justify_items": null,
            "left": null,
            "margin": null,
            "max_height": null,
            "max_width": null,
            "min_height": null,
            "min_width": null,
            "object_fit": null,
            "object_position": null,
            "order": null,
            "overflow": null,
            "overflow_x": null,
            "overflow_y": null,
            "padding": null,
            "right": null,
            "top": null,
            "visibility": null,
            "width": null
          }
        },
        "715945156cd540a4bcdb0c761c521759": {
          "model_module": "@jupyter-widgets/base",
          "model_module_version": "1.2.0",
          "model_name": "LayoutModel",
          "state": {
            "_model_module": "@jupyter-widgets/base",
            "_model_module_version": "1.2.0",
            "_model_name": "LayoutModel",
            "_view_count": null,
            "_view_module": "@jupyter-widgets/base",
            "_view_module_version": "1.2.0",
            "_view_name": "LayoutView",
            "align_content": null,
            "align_items": null,
            "align_self": null,
            "border": null,
            "bottom": null,
            "display": null,
            "flex": null,
            "flex_flow": null,
            "grid_area": null,
            "grid_auto_columns": null,
            "grid_auto_flow": null,
            "grid_auto_rows": null,
            "grid_column": null,
            "grid_gap": null,
            "grid_row": null,
            "grid_template_areas": null,
            "grid_template_columns": null,
            "grid_template_rows": null,
            "height": null,
            "justify_content": null,
            "justify_items": null,
            "left": null,
            "margin": null,
            "max_height": null,
            "max_width": null,
            "min_height": null,
            "min_width": null,
            "object_fit": null,
            "object_position": null,
            "order": null,
            "overflow": null,
            "overflow_x": null,
            "overflow_y": null,
            "padding": null,
            "right": null,
            "top": null,
            "visibility": null,
            "width": null
          }
        },
        "862412f29e63454388f54d3f212c0638": {
          "model_module": "@jupyter-widgets/base",
          "model_module_version": "1.2.0",
          "model_name": "LayoutModel",
          "state": {
            "_model_module": "@jupyter-widgets/base",
            "_model_module_version": "1.2.0",
            "_model_name": "LayoutModel",
            "_view_count": null,
            "_view_module": "@jupyter-widgets/base",
            "_view_module_version": "1.2.0",
            "_view_name": "LayoutView",
            "align_content": null,
            "align_items": null,
            "align_self": null,
            "border": null,
            "bottom": null,
            "display": null,
            "flex": null,
            "flex_flow": null,
            "grid_area": null,
            "grid_auto_columns": null,
            "grid_auto_flow": null,
            "grid_auto_rows": null,
            "grid_column": null,
            "grid_gap": null,
            "grid_row": null,
            "grid_template_areas": null,
            "grid_template_columns": null,
            "grid_template_rows": null,
            "height": null,
            "justify_content": null,
            "justify_items": null,
            "left": null,
            "margin": null,
            "max_height": null,
            "max_width": null,
            "min_height": null,
            "min_width": null,
            "object_fit": null,
            "object_position": null,
            "order": null,
            "overflow": null,
            "overflow_x": null,
            "overflow_y": null,
            "padding": null,
            "right": null,
            "top": null,
            "visibility": null,
            "width": null
          }
        },
        "a3a717d2c77041b0b732cf9b67ee55ee": {
          "model_module": "@jupyter-widgets/controls",
          "model_module_version": "1.5.0",
          "model_name": "FloatProgressModel",
          "state": {
            "_dom_classes": [],
            "_model_module": "@jupyter-widgets/controls",
            "_model_module_version": "1.5.0",
            "_model_name": "FloatProgressModel",
            "_view_count": null,
            "_view_module": "@jupyter-widgets/controls",
            "_view_module_version": "1.5.0",
            "_view_name": "ProgressView",
            "bar_style": "success",
            "description": "",
            "description_tooltip": null,
            "layout": "IPY_MODEL_5657ebbe143a45f684e2eb1f2b6f570d",
            "max": 2048,
            "min": 0,
            "orientation": "horizontal",
            "style": "IPY_MODEL_bb5dba29429d41778351ef501a7cb2c4",
            "value": 2048
          }
        },
        "bb5dba29429d41778351ef501a7cb2c4": {
          "model_module": "@jupyter-widgets/controls",
          "model_module_version": "1.5.0",
          "model_name": "ProgressStyleModel",
          "state": {
            "_model_module": "@jupyter-widgets/controls",
            "_model_module_version": "1.5.0",
            "_model_name": "ProgressStyleModel",
            "_view_count": null,
            "_view_module": "@jupyter-widgets/base",
            "_view_module_version": "1.2.0",
            "_view_name": "StyleView",
            "bar_color": null,
            "description_width": ""
          }
        },
        "c213f1a76c3749f389c67ecf206ba5e6": {
          "model_module": "@jupyter-widgets/controls",
          "model_module_version": "1.5.0",
          "model_name": "DescriptionStyleModel",
          "state": {
            "_model_module": "@jupyter-widgets/controls",
            "_model_module_version": "1.5.0",
            "_model_name": "DescriptionStyleModel",
            "_view_count": null,
            "_view_module": "@jupyter-widgets/base",
            "_view_module_version": "1.2.0",
            "_view_name": "StyleView",
            "description_width": ""
          }
        },
        "c2b4bceae31a42c486b74c803f595213": {
          "model_module": "@jupyter-widgets/controls",
          "model_module_version": "1.5.0",
          "model_name": "HTMLModel",
          "state": {
            "_dom_classes": [],
            "_model_module": "@jupyter-widgets/controls",
            "_model_module_version": "1.5.0",
            "_model_name": "HTMLModel",
            "_view_count": null,
            "_view_module": "@jupyter-widgets/controls",
            "_view_module_version": "1.5.0",
            "_view_name": "HTMLView",
            "description": "",
            "description_tooltip": null,
            "layout": "IPY_MODEL_18fc59ae939a46f0bfa57cf432e2e653",
            "placeholder": "​",
            "style": "IPY_MODEL_c213f1a76c3749f389c67ecf206ba5e6",
            "value": "100%"
          }
        }
      }
    }
  },
  "nbformat": 4,
  "nbformat_minor": 0
}
