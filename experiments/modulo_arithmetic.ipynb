{
  "cells": [
    {
      "cell_type": "code",
      "execution_count": 1,
      "metadata": {
        "colab": {
          "base_uri": "https://localhost:8080/"
        },
        "id": "yxFdHosMSc5M",
        "outputId": "f95f9c3d-e612-498d-df46-45c362561ac3"
      },
      "outputs": [
        {
          "name": "stderr",
          "output_type": "stream",
          "text": [
            "2023-05-05 10:12:20.575427: I tensorflow/core/platform/cpu_feature_guard.cc:193] This TensorFlow binary is optimized with oneAPI Deep Neural Network Library (oneDNN) to use the following CPU instructions in performance-critical operations:  SSE4.1 SSE4.2 AVX\n",
            "To enable them in other operations, rebuild TensorFlow with the appropriate compiler flags.\n"
          ]
        },
        {
          "name": "stdout",
          "output_type": "stream",
          "text": [
            "Running locally on beta.\n"
          ]
        }
      ],
      "source": [
        "import numpy as np\n",
        "import pandas as pd\n",
        "import matplotlib.pyplot as plt\n",
        "import seaborn as sns\n",
        "import os\n",
        "import sys\n",
        "import datetime\n",
        "import json\n",
        "import tensorflow as tf\n",
        "from tqdm.keras import TqdmCallback\n",
        "\n",
        "try: # are we in Colab?\n",
        "    import google.colab\n",
        "    COMPUTE_ENV = 'colab'\n",
        "    print('Running in Colab.')\n",
        "    google.colab.drive.mount('/content/gdrive')\n",
        "    OUTPUT_DIR = \"/content/gdrive/My Drive/output\"\n",
        "    !git clone https://github.com/FriedChips/dl_basics.git\n",
        "    sys.path.insert(0,'/content/dl_basics')\n",
        "except: # if not...\n",
        "    if \"kaggle\" in os.environ[\"PWD\"]: # are we in Kaggle?\n",
        "        COMPUTE_ENV = 'kaggle'\n",
        "        print('Running in Kaggle.')\n",
        "        !git clone https://github.com/FriedChips/dl_basics.git\n",
        "        sys.path.insert(0,'../working/dl_basics')    \n",
        "        OUTPUT_DIR = \"./\"\n",
        "    else: # we're local\n",
        "        COMPUTE_ENV = os.uname()[1]\n",
        "        print(f\"Running locally on {COMPUTE_ENV}.\")\n",
        "        sys.path.insert(0,'./../')\n",
        "        OUTPUT_DIR = \"../output/\"\n",
        "\n",
        "for gpu in tf.config.list_physical_devices(\"GPU\"):\n",
        "    print(f\"Found GPU: {tf.config.experimental.get_device_details(gpu)['device_name']}.\")"
      ]
    },
    {
      "cell_type": "code",
      "execution_count": 2,
      "metadata": {
        "id": "9kRbLzj4Sc5S"
      },
      "outputs": [],
      "source": [
        "import keras_utils as ku"
      ]
    },
    {
      "cell_type": "code",
      "execution_count": 3,
      "metadata": {
        "id": "JvItixB8nZFk"
      },
      "outputs": [],
      "source": [
        "from tensorflow.keras.optimizers import Adam, SGD\n",
        "from tensorflow.keras.optimizers.experimental import AdamW\n",
        "from tensorflow.keras.losses import SparseCategoricalCrossentropy\n",
        "from tensorflow.keras import Model, Input\n",
        "from tensorflow.keras.layers import Embedding, Dense, Conv2D, Flatten\n",
        "from tensorflow.keras.regularizers import L2\n",
        "from models.transformers import transformer_block\n",
        "\n",
        "\n",
        "def build_model(model_name, model_build_params):\n",
        "    if model_name == \"mod_add_mlp\":\n",
        "        return mod_add_mlp(**model_build_params)\n",
        "    elif model_name == \"mod_add_transf\":\n",
        "        return mod_add_transf(**model_build_params)\n",
        "    else:\n",
        "        raise ValueError(\"Unknown model.\")\n",
        "\n",
        "\n",
        "def mod_add_mlp(\n",
        "        seq_len,\n",
        "        vocab_size,\n",
        "        embed_dim,\n",
        "        mlp_dim,\n",
        "        use_conv2d = False,\n",
        "        regularizer = None,\n",
        "        use_bias = False,\n",
        "):\n",
        "    if regularizer is not None:\n",
        "        regularizer = eval(regularizer)\n",
        "\n",
        "    embed = Embedding(vocab_size, embed_dim, input_length=seq_len, embeddings_regularizer=regularizer, name=\"embedding\")\n",
        "    unemb = Dense(vocab_size, use_bias=use_bias, kernel_regularizer=regularizer, name=\"unembedding\")\n",
        "\n",
        "    inp = Input(shape=(seq_len,), dtype=np.int32, name=\"input\")\n",
        "    x = embed(inp)\n",
        "    if use_conv2d:\n",
        "        x = tf.expand_dims(x, -1)\n",
        "        x = Conv2D(mlp_dim, kernel_size=(seq_len, embed_dim), use_bias=use_bias, kernel_regularizer=regularizer, name=\"mlp_1\")(x)\n",
        "        x = Flatten()(x)\n",
        "    else:\n",
        "        x = Dense(mlp_dim, use_bias=use_bias, kernel_regularizer=regularizer, name=\"mlp_1\")(x)\n",
        "        x = tf.math.reduce_sum(x, axis=-2)\n",
        "    x = tf.nn.relu(x)\n",
        "    out = unemb(x)\n",
        "    \n",
        "    model = Model(inp, out, name=\"mod_add_mlp\")\n",
        "\n",
        "    return model\n",
        "\n",
        "\n",
        "def mod_add_transf(\n",
        "        seq_len,\n",
        "        vocab_size,\n",
        "        embed_dim,\n",
        "        use_bias=False,\n",
        "):\n",
        "    inp = Input(shape=(seq_len,), dtype=np.int32, name=\"input\")\n",
        "    x = Embedding(vocab_size, embed_dim, input_length=seq_len, name=\"embedding\")(inp)\n",
        "    x = transformer_block(x, num_heads=1, use_mlp=True, mlp_factor=1, use_bias=use_bias)\n",
        "    x = Dense(vocab_size, use_bias=use_bias, name=\"unembedding\")(x)\n",
        "    out = x[..., -1, :]\n",
        "\n",
        "    model = Model(inp, out, name=\"mod_add_transf\")\n",
        "    return model"
      ]
    },
    {
      "cell_type": "code",
      "execution_count": 4,
      "metadata": {
        "colab": {
          "base_uri": "https://localhost:8080/"
        },
        "id": "jazWXg9PSc5T",
        "outputId": "8af8abf9-6bfb-4bf2-ea3a-afcf74b31c15"
      },
      "outputs": [],
      "source": [
        "from sklearn.model_selection import train_test_split\n",
        "\n",
        "def addition_modulo_data(p_max, train_size, add_equal_sign=False, seed=42):\n",
        "\n",
        "    x_full = np.array([ [i, j, p_max] for i in range(p_max) for j in range(p_max) ]).astype(np.int32)\n",
        "    y_full = (np.sum(x_full[:, :-1], axis=-1) % p_max).astype(np.int32)\n",
        "\n",
        "    if not add_equal_sign:\n",
        "        x_full = x_full[:, :-1]\n",
        "\n",
        "    x_train, x_val, y_train, y_val = train_test_split(x_full, y_full, train_size=train_size, random_state=seed)\n",
        "    return x_train, x_val, y_train, y_val"
      ]
    },
    {
      "cell_type": "code",
      "execution_count": 5,
      "metadata": {},
      "outputs": [
        {
          "name": "stderr",
          "output_type": "stream",
          "text": [
            "2023-05-05 10:13:22.864022: I tensorflow/core/platform/cpu_feature_guard.cc:193] This TensorFlow binary is optimized with oneAPI Deep Neural Network Library (oneDNN) to use the following CPU instructions in performance-critical operations:  SSE4.1 SSE4.2 AVX\n",
            "To enable them in other operations, rebuild TensorFlow with the appropriate compiler flags.\n",
            "2023-05-05 10:13:22.865899: I tensorflow/core/common_runtime/process_util.cc:146] Creating new thread pool with default inter op setting: 2. Tune using inter_op_parallelism_threads for best performance.\n"
          ]
        },
        {
          "name": "stdout",
          "output_type": "stream",
          "text": [
            "{'project': 'modulo_add', 'addition_modulo_data': {'p_max': 113, 'train_size': 0.3, 'add_equal_sign': False, 'seed': 42}, 'model_name': 'mod_add_mlp', 'model_build_params': {'seq_len': 2, 'vocab_size': 113, 'embed_dim': 128, 'mlp_dim': 256, 'use_conv2d': False, 'regularizer': None, 'use_bias': False}, 'random_seed': 42, 'loss': 'SparseCategoricalCrossentropy(from_logits=True)', 'optimizer': 'AdamW(1e-3, weight_decay=1)', 'metrics': ['accuracy'], 'run_dir': 'mod_add_mlp-230505-100234'}\n",
            "Model: \"mod_add_mlp\"\n",
            "_________________________________________________________________\n",
            " Layer (type)                Output Shape              Param #   \n",
            "=================================================================\n",
            " input (InputLayer)          [(None, 2)]               0         \n",
            "                                                                 \n",
            " embedding (Embedding)       (None, 2, 128)            14464     \n",
            "                                                                 \n",
            " mlp_1 (Dense)               (None, 2, 256)            32768     \n",
            "                                                                 \n",
            " tf.math.reduce_sum (TFOpLam  (None, 256)              0         \n",
            " bda)                                                            \n",
            "                                                                 \n",
            " tf.nn.relu (TFOpLambda)     (None, 256)               0         \n",
            "                                                                 \n",
            " unembedding (Dense)         (None, 113)               28928     \n",
            "                                                                 \n",
            "=================================================================\n",
            "Total params: 76,160\n",
            "Trainable params: 76,160\n",
            "Non-trainable params: 0\n",
            "_________________________________________________________________\n",
            "8\n"
          ]
        }
      ],
      "source": [
        "#RUN_DIR = \"NEW\"\n",
        "RUN_DIR = \"mod_add_mlp-230505-100234\"\n",
        "run = ku.training.TrainingRun()\n",
        "weight_norm_logger = ku.callbacks.LogWeightNorms()\n",
        "\n",
        "if RUN_DIR == \"NEW\":\n",
        "\n",
        "    P = {\"project\" : \"modulo_add\" }\n",
        "\n",
        "    P[\"addition_modulo_data\"] = {\n",
        "        \"p_max\" : 113,\n",
        "        \"train_size\" : 0.3,\n",
        "        \"add_equal_sign\" : False,\n",
        "        \"seed\" : 42,\n",
        "    }\n",
        "    x_train, x_val, y_train, y_val = addition_modulo_data(**P[\"addition_modulo_data\"])\n",
        "\n",
        "    P[\"model_name\"] = \"mod_add_mlp\"\n",
        "    P[\"model_build_params\"] = {\n",
        "        \"seq_len\" : 2,\n",
        "        \"vocab_size\" : P[\"addition_modulo_data\"][\"p_max\"],\n",
        "        \"embed_dim\" : 128,\n",
        "        \"mlp_dim\" : 256,\n",
        "        \"use_conv2d\" : False,\n",
        "        \"regularizer\" : None,\n",
        "        \"use_bias\" : False,\n",
        "    }\n",
        "\n",
        "    P[\"random_seed\"] = 42\n",
        "    ku.training.tf_keras_random_seed(P[\"random_seed\"])\n",
        "\n",
        "    model = build_model(P[\"model_name\"], P[\"model_build_params\"])\n",
        "    model.summary()\n",
        "\n",
        "    P[\"loss\"] = \"SparseCategoricalCrossentropy(from_logits=True)\"\n",
        "    P[\"optimizer\"] = \"AdamW(1e-3, weight_decay=1)\"\n",
        "    #P[\"optimizer\"] = \"SGD(1e-0, momentum=0.9)\"\n",
        "    P[\"metrics\"] = [ \"accuracy\" ]\n",
        "    model.compile(loss = eval(P[\"loss\"]), optimizer = eval(P[\"optimizer\"]), metrics = P[\"metrics\"])\n",
        "\n",
        "    P[\"run_dir\"] = model.name + datetime.datetime.now().strftime('-%y%m%d-%H%M%S')\n",
        "    LOG_DIR = os.path.join(OUTPUT_DIR, P[\"run_dir\"])\n",
        "    print(\"Log dir :\", LOG_DIR)\n",
        "\n",
        "else:\n",
        "    \n",
        "    LOG_DIR = os.path.join(OUTPUT_DIR, RUN_DIR)\n",
        "    P, model = run.load_state(LOG_DIR)\n",
        "    x_train, x_val, y_train, y_val = addition_modulo_data(**P[\"addition_modulo_data\"])\n",
        "    print(P)\n",
        "    model.summary()\n",
        "    print(run.current_epoch)"
      ]
    },
    {
      "cell_type": "code",
      "execution_count": 6,
      "metadata": {
        "colab": {
          "base_uri": "https://localhost:8080/",
          "height": 49,
          "referenced_widgets": [
            "9491bdf587344103bfa60b3816eed187",
            "2b5b8682eeef456cb934d00297c438e3",
            "b7976e53063a4762963862d3704355c1",
            "dee960346c9e48cdbd9acce7d048c610",
            "e477652b6c2f4ace92ffd3272b73fad5",
            "b060a4cb48084b8cb34e305fec19e6e4",
            "6a79aa6b80954541a3e895ebadefe81b",
            "936973afd080452f81b83f8ab426b17f",
            "dd24bc42b8714e92b9d62c503a7e00ed",
            "5588288e7a754d6283f9340c6fd9a668",
            "3d51a0b2e29e45c699ab29a6338c10af"
          ]
        },
        "id": "-IJSW5stSc5U",
        "outputId": "e0d1512d-2e08-457c-e843-aa28cde1f8e2"
      },
      "outputs": [
        {
          "data": {
            "application/vnd.jupyter.widget-view+json": {
              "model_id": "cd73cf6f6a3245a79a55952331f27478",
              "version_major": 2,
              "version_minor": 0
            },
            "text/plain": [
              "0epoch [00:00, ?epoch/s]"
            ]
          },
          "metadata": {},
          "output_type": "display_data"
        }
      ],
      "source": [
        "NUM_EPOCHS = 4\n",
        "\n",
        "history = model.fit(\n",
        "    x_train, y_train,\n",
        "    initial_epoch = run.current_epoch,\n",
        "    epochs = run.current_epoch + NUM_EPOCHS,\n",
        "    batch_size = 128,\n",
        "    validation_data = (x_val, y_val),\n",
        "    callbacks=[\n",
        "        TqdmCallback(verbose=0),\n",
        "        weight_norm_logger,\n",
        "        #weight_logger,\n",
        "    ],        \n",
        "    verbose=0)\n",
        "\n",
        "run.update_history(history.history | weight_norm_logger.history)"
      ]
    },
    {
      "cell_type": "code",
      "execution_count": 8,
      "metadata": {
        "colab": {
          "base_uri": "https://localhost:8080/",
          "height": 270
        },
        "id": "d5IcAVmMSc5V",
        "outputId": "0ebff5a9-2886-4608-e656-12568e6fd13f"
      },
      "outputs": [
        {
          "data": {
            "image/png": "[encoded data removed]",
            "text/plain": [
              "<Figure size 2500x300 with 3 Axes>"
            ]
          },
          "metadata": {},
          "output_type": "display_data"
        }
      ],
      "source": [
        "with sns.axes_style(\"darkgrid\"):\n",
        "    fig, axs = plt.subplots(1, 3, figsize=(25,3))\n",
        "    sns.lineplot(data=run.history[[\"loss\", \"val_loss\"]], ax=axs[0], dashes=False);\n",
        "    axs[0].set_yscale(\"log\");\n",
        "    sns.lineplot(data=run.history[[\"accuracy\", \"val_accuracy\"]], ax=axs[1], dashes=False);\n",
        "    sns.lineplot(data=run.history.loc[:,\"w_norm_000\":], ax=axs[2], dashes=False);"
      ]
    },
    {
      "cell_type": "code",
      "execution_count": 9,
      "metadata": {
        "id": "orakCTxiXOdh"
      },
      "outputs": [],
      "source": [
        "run.save_state(LOG_DIR, P, model)"
      ]
    },
    {
      "cell_type": "code",
      "execution_count": null,
      "metadata": {
        "id": "vaLuwpB5d7yB"
      },
      "outputs": [],
      "source": []
    }
  ],
  "metadata": {
    "accelerator": "GPU",
    "colab": {
      "provenance": []
    },
    "gpuClass": "standard",
    "kernelspec": {
      "display_name": "dl_basics",
      "language": "python",
      "name": "python3"
    },
    "language_info": {
      "codemirror_mode": {
        "name": "ipython",
        "version": 3
      },
      "file_extension": ".py",
      "mimetype": "text/x-python",
      "name": "python",
      "nbconvert_exporter": "python",
      "pygments_lexer": "ipython3",
      "version": "3.10.10"
    },
    "orig_nbformat": 4,
    "widgets": {
      "application/vnd.jupyter.widget-state+json": {
        "2b5b8682eeef456cb934d00297c438e3": {
          "model_module": "@jupyter-widgets/controls",
          "model_module_version": "1.5.0",
          "model_name": "HTMLModel",
          "state": {
            "_dom_classes": [],
            "_model_module": "@jupyter-widgets/controls",
            "_model_module_version": "1.5.0",
            "_model_name": "HTMLModel",
            "_view_count": null,
            "_view_module": "@jupyter-widgets/controls",
            "_view_module_version": "1.5.0",
            "_view_name": "HTMLView",
            "description": "",
            "description_tooltip": null,
            "layout": "IPY_MODEL_b060a4cb48084b8cb34e305fec19e6e4",
            "placeholder": "​",
            "style": "IPY_MODEL_6a79aa6b80954541a3e895ebadefe81b",
            "value": "100%"
          }
        },
        "3d51a0b2e29e45c699ab29a6338c10af": {
          "model_module": "@jupyter-widgets/controls",
          "model_module_version": "1.5.0",
          "model_name": "DescriptionStyleModel",
          "state": {
            "_model_module": "@jupyter-widgets/controls",
            "_model_module_version": "1.5.0",
            "_model_name": "DescriptionStyleModel",
            "_view_count": null,
            "_view_module": "@jupyter-widgets/base",
            "_view_module_version": "1.2.0",
            "_view_name": "StyleView",
            "description_width": ""
          }
        },
        "5588288e7a754d6283f9340c6fd9a668": {
          "model_module": "@jupyter-widgets/base",
          "model_module_version": "1.2.0",
          "model_name": "LayoutModel",
          "state": {
            "_model_module": "@jupyter-widgets/base",
            "_model_module_version": "1.2.0",
            "_model_name": "LayoutModel",
            "_view_count": null,
            "_view_module": "@jupyter-widgets/base",
            "_view_module_version": "1.2.0",
            "_view_name": "LayoutView",
            "align_content": null,
            "align_items": null,
            "align_self": null,
            "border": null,
            "bottom": null,
            "display": null,
            "flex": null,
            "flex_flow": null,
            "grid_area": null,
            "grid_auto_columns": null,
            "grid_auto_flow": null,
            "grid_auto_rows": null,
            "grid_column": null,
            "grid_gap": null,
            "grid_row": null,
            "grid_template_areas": null,
            "grid_template_columns": null,
            "grid_template_rows": null,
            "height": null,
            "justify_content": null,
            "justify_items": null,
            "left": null,
            "margin": null,
            "max_height": null,
            "max_width": null,
            "min_height": null,
            "min_width": null,
            "object_fit": null,
            "object_position": null,
            "order": null,
            "overflow": null,
            "overflow_x": null,
            "overflow_y": null,
            "padding": null,
            "right": null,
            "top": null,
            "visibility": null,
            "width": null
          }
        },
        "6a79aa6b80954541a3e895ebadefe81b": {
          "model_module": "@jupyter-widgets/controls",
          "model_module_version": "1.5.0",
          "model_name": "DescriptionStyleModel",
          "state": {
            "_model_module": "@jupyter-widgets/controls",
            "_model_module_version": "1.5.0",
            "_model_name": "DescriptionStyleModel",
            "_view_count": null,
            "_view_module": "@jupyter-widgets/base",
            "_view_module_version": "1.2.0",
            "_view_name": "StyleView",
            "description_width": ""
          }
        },
        "936973afd080452f81b83f8ab426b17f": {
          "model_module": "@jupyter-widgets/base",
          "model_module_version": "1.2.0",
          "model_name": "LayoutModel",
          "state": {
            "_model_module": "@jupyter-widgets/base",
            "_model_module_version": "1.2.0",
            "_model_name": "LayoutModel",
            "_view_count": null,
            "_view_module": "@jupyter-widgets/base",
            "_view_module_version": "1.2.0",
            "_view_name": "LayoutView",
            "align_content": null,
            "align_items": null,
            "align_self": null,
            "border": null,
            "bottom": null,
            "display": null,
            "flex": null,
            "flex_flow": null,
            "grid_area": null,
            "grid_auto_columns": null,
            "grid_auto_flow": null,
            "grid_auto_rows": null,
            "grid_column": null,
            "grid_gap": null,
            "grid_row": null,
            "grid_template_areas": null,
            "grid_template_columns": null,
            "grid_template_rows": null,
            "height": null,
            "justify_content": null,
            "justify_items": null,
            "left": null,
            "margin": null,
            "max_height": null,
            "max_width": null,
            "min_height": null,
            "min_width": null,
            "object_fit": null,
            "object_position": null,
            "order": null,
            "overflow": null,
            "overflow_x": null,
            "overflow_y": null,
            "padding": null,
            "right": null,
            "top": null,
            "visibility": null,
            "width": null
          }
        },
        "9491bdf587344103bfa60b3816eed187": {
          "model_module": "@jupyter-widgets/controls",
          "model_module_version": "1.5.0",
          "model_name": "HBoxModel",
          "state": {
            "_dom_classes": [],
            "_model_module": "@jupyter-widgets/controls",
            "_model_module_version": "1.5.0",
            "_model_name": "HBoxModel",
            "_view_count": null,
            "_view_module": "@jupyter-widgets/controls",
            "_view_module_version": "1.5.0",
            "_view_name": "HBoxView",
            "box_style": "",
            "children": [
              "IPY_MODEL_2b5b8682eeef456cb934d00297c438e3",
              "IPY_MODEL_b7976e53063a4762963862d3704355c1",
              "IPY_MODEL_dee960346c9e48cdbd9acce7d048c610"
            ],
            "layout": "IPY_MODEL_e477652b6c2f4ace92ffd3272b73fad5"
          }
        },
        "b060a4cb48084b8cb34e305fec19e6e4": {
          "model_module": "@jupyter-widgets/base",
          "model_module_version": "1.2.0",
          "model_name": "LayoutModel",
          "state": {
            "_model_module": "@jupyter-widgets/base",
            "_model_module_version": "1.2.0",
            "_model_name": "LayoutModel",
            "_view_count": null,
            "_view_module": "@jupyter-widgets/base",
            "_view_module_version": "1.2.0",
            "_view_name": "LayoutView",
            "align_content": null,
            "align_items": null,
            "align_self": null,
            "border": null,
            "bottom": null,
            "display": null,
            "flex": null,
            "flex_flow": null,
            "grid_area": null,
            "grid_auto_columns": null,
            "grid_auto_flow": null,
            "grid_auto_rows": null,
            "grid_column": null,
            "grid_gap": null,
            "grid_row": null,
            "grid_template_areas": null,
            "grid_template_columns": null,
            "grid_template_rows": null,
            "height": null,
            "justify_content": null,
            "justify_items": null,
            "left": null,
            "margin": null,
            "max_height": null,
            "max_width": null,
            "min_height": null,
            "min_width": null,
            "object_fit": null,
            "object_position": null,
            "order": null,
            "overflow": null,
            "overflow_x": null,
            "overflow_y": null,
            "padding": null,
            "right": null,
            "top": null,
            "visibility": null,
            "width": null
          }
        },
        "b7976e53063a4762963862d3704355c1": {
          "model_module": "@jupyter-widgets/controls",
          "model_module_version": "1.5.0",
          "model_name": "FloatProgressModel",
          "state": {
            "_dom_classes": [],
            "_model_module": "@jupyter-widgets/controls",
            "_model_module_version": "1.5.0",
            "_model_name": "FloatProgressModel",
            "_view_count": null,
            "_view_module": "@jupyter-widgets/controls",
            "_view_module_version": "1.5.0",
            "_view_name": "ProgressView",
            "bar_style": "success",
            "description": "",
            "description_tooltip": null,
            "layout": "IPY_MODEL_936973afd080452f81b83f8ab426b17f",
            "max": 2048,
            "min": 0,
            "orientation": "horizontal",
            "style": "IPY_MODEL_dd24bc42b8714e92b9d62c503a7e00ed",
            "value": 2048
          }
        },
        "dd24bc42b8714e92b9d62c503a7e00ed": {
          "model_module": "@jupyter-widgets/controls",
          "model_module_version": "1.5.0",
          "model_name": "ProgressStyleModel",
          "state": {
            "_model_module": "@jupyter-widgets/controls",
            "_model_module_version": "1.5.0",
            "_model_name": "ProgressStyleModel",
            "_view_count": null,
            "_view_module": "@jupyter-widgets/base",
            "_view_module_version": "1.2.0",
            "_view_name": "StyleView",
            "bar_color": null,
            "description_width": ""
          }
        },
        "dee960346c9e48cdbd9acce7d048c610": {
          "model_module": "@jupyter-widgets/controls",
          "model_module_version": "1.5.0",
          "model_name": "HTMLModel",
          "state": {
            "_dom_classes": [],
            "_model_module": "@jupyter-widgets/controls",
            "_model_module_version": "1.5.0",
            "_model_name": "HTMLModel",
            "_view_count": null,
            "_view_module": "@jupyter-widgets/controls",
            "_view_module_version": "1.5.0",
            "_view_name": "HTMLView",
            "description": "",
            "description_tooltip": null,
            "layout": "IPY_MODEL_5588288e7a754d6283f9340c6fd9a668",
            "placeholder": "​",
            "style": "IPY_MODEL_3d51a0b2e29e45c699ab29a6338c10af",
            "value": " 2048/2048 [10:35&lt;00:00,  3.72epoch/s, loss=1.01, accuracy=1, val_loss=1.74, val_accuracy=0.948]"
          }
        },
        "e477652b6c2f4ace92ffd3272b73fad5": {
          "model_module": "@jupyter-widgets/base",
          "model_module_version": "1.2.0",
          "model_name": "LayoutModel",
          "state": {
            "_model_module": "@jupyter-widgets/base",
            "_model_module_version": "1.2.0",
            "_model_name": "LayoutModel",
            "_view_count": null,
            "_view_module": "@jupyter-widgets/base",
            "_view_module_version": "1.2.0",
            "_view_name": "LayoutView",
            "align_content": null,
            "align_items": null,
            "align_self": null,
            "border": null,
            "bottom": null,
            "display": null,
            "flex": null,
            "flex_flow": null,
            "grid_area": null,
            "grid_auto_columns": null,
            "grid_auto_flow": null,
            "grid_auto_rows": null,
            "grid_column": null,
            "grid_gap": null,
            "grid_row": null,
            "grid_template_areas": null,
            "grid_template_columns": null,
            "grid_template_rows": null,
            "height": null,
            "justify_content": null,
            "justify_items": null,
            "left": null,
            "margin": null,
            "max_height": null,
            "max_width": null,
            "min_height": null,
            "min_width": null,
            "object_fit": null,
            "object_position": null,
            "order": null,
            "overflow": null,
            "overflow_x": null,
            "overflow_y": null,
            "padding": null,
            "right": null,
            "top": null,
            "visibility": null,
            "width": null
          }
        }
      }
    }
  },
  "nbformat": 4,
  "nbformat_minor": 0
}
