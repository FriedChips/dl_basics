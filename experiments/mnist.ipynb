{
  "cells": [
    {
      "cell_type": "code",
      "execution_count": 1,
      "metadata": {
        "colab": {
          "base_uri": "https://localhost:8080/"
        },
        "id": "yxFdHosMSc5M",
        "outputId": "648d51e2-fb2b-4cfa-a6fb-15d17bf759e7"
      },
      "outputs": [
        {
          "output_type": "stream",
          "name": "stdout",
          "text": [
            "Running in Colab.\n",
            "Mounted at /content/gdrive\n",
            "Cloning into 'dl_basics'...\n",
            "remote: Enumerating objects: 373, done.\u001b[K\n",
            "remote: Counting objects: 100% (88/88), done.\u001b[K\n",
            "remote: Compressing objects: 100% (66/66), done.\u001b[K\n",
            "remote: Total 373 (delta 41), reused 48 (delta 22), pack-reused 285\u001b[K\n",
            "Receiving objects: 100% (373/373), 16.71 MiB | 18.26 MiB/s, done.\n",
            "Resolving deltas: 100% (174/174), done.\n",
            "Found GPU: Tesla T4.\n"
          ]
        }
      ],
      "source": [
        "import numpy as np \n",
        "import pandas as pd\n",
        "import matplotlib.pyplot as plt\n",
        "import seaborn as sns\n",
        "import os\n",
        "import sys\n",
        "import datetime\n",
        "import json\n",
        "import tensorflow as tf\n",
        "from tensorflow.keras.optimizers import Adam, SGD\n",
        "from tensorflow.keras.optimizers.experimental import AdamW\n",
        "from tensorflow.keras.losses import SparseCategoricalCrossentropy, MeanSquaredError\n",
        "from tensorflow.keras.metrics import SparseCategoricalAccuracy\n",
        "from tqdm.keras import TqdmCallback\n",
        "\n",
        "sns.set_theme()\n",
        "\n",
        "try: # are we in Colab?\n",
        "    import google.colab\n",
        "    COMPUTE_ENV = 'colab'\n",
        "    print('Running in Colab.')\n",
        "    google.colab.drive.mount('/content/gdrive')\n",
        "    OUTPUT_DIR = \"/content/gdrive/My Drive/output\"\n",
        "    !git clone https://github.com/FriedChips/dl_basics.git\n",
        "    sys.path.insert(0,'/content/dl_basics')\n",
        "except: # if not...\n",
        "    if \"kaggle\" in os.environ[\"PWD\"]: # are we in Kaggle?\n",
        "        COMPUTE_ENV = 'kaggle'\n",
        "        print('Running in Kaggle.')\n",
        "        !git clone https://github.com/FriedChips/dl_basics.git\n",
        "        sys.path.insert(0,'../working/dl_basics')    \n",
        "        OUTPUT_DIR = \"./\"\n",
        "    else: # we're local\n",
        "        COMPUTE_ENV = os.uname()[1]\n",
        "        print(f\"Running locally on {COMPUTE_ENV}.\")\n",
        "        sys.path.insert(0,'./../')\n",
        "        OUTPUT_DIR = \"../output/\"\n",
        "\n",
        "for gpu in tf.config.list_physical_devices(\"GPU\"):\n",
        "    print(f\"Found GPU: {tf.config.experimental.get_device_details(gpu)['device_name']}.\")"
      ]
    },
    {
      "cell_type": "code",
      "execution_count": 2,
      "metadata": {
        "id": "9kRbLzj4Sc5S"
      },
      "outputs": [],
      "source": [
        "import models\n",
        "import utils"
      ]
    },
    {
      "cell_type": "code",
      "execution_count": 3,
      "metadata": {
        "colab": {
          "base_uri": "https://localhost:8080/"
        },
        "id": "jazWXg9PSc5T",
        "outputId": "c0471570-e9b3-4760-d385-3d6d034c9652"
      },
      "outputs": [
        {
          "output_type": "stream",
          "name": "stdout",
          "text": [
            "Downloading data from https://storage.googleapis.com/tensorflow/tf-keras-datasets/mnist.npz\n",
            "11490434/11490434 [==============================] - 2s 0us/step\n"
          ]
        },
        {
          "output_type": "execute_result",
          "data": {
            "text/plain": [
              "((50000, 784), (50000,), (10000, 784), (10000,))"
            ]
          },
          "metadata": {},
          "execution_count": 3
        }
      ],
      "source": [
        "(x_mnist_tr, y_mnist_tr), (x_mnist_te, y_mnist_te) = tf.keras.datasets.mnist.load_data()\n",
        "#x_mnist_tr = np.expand_dims(x_mnist_tr.astype(np.float32) / 255.0, -1)\n",
        "#x_mnist_te = np.expand_dims(x_mnist_te.astype(np.float32)  / 255.0, -1)\n",
        "x_mnist_tr = (x_mnist_tr.astype(np.float32) / 255.0).reshape(-1, 28*28)\n",
        "x_mnist_te = (x_mnist_te.astype(np.float32) / 255.0).reshape(-1, 28*28)\n",
        "\n",
        "x_train = x_mnist_tr[:50000]\n",
        "y_train = y_mnist_tr[:50000]\n",
        "x_val   = x_mnist_tr[50000:]\n",
        "y_val   = y_mnist_tr[50000:]\n",
        "\n",
        "x_train.shape, y_train.shape, x_val.shape, y_val.shape"
      ]
    },
    {
      "cell_type": "code",
      "execution_count": 4,
      "metadata": {
        "id": "-HxzbuBGnUzH"
      },
      "outputs": [],
      "source": [
        "import tensorflow as tf\n",
        "from tensorflow.keras import Model, Input\n",
        "from tensorflow.keras.layers import Dense, Conv2D, Flatten\n",
        "from tensorflow.keras.regularizers import L2\n",
        "from models.transformers import transformer_block\n",
        "\n",
        "def mlp_conv2d(dummy):\n",
        "\n",
        "    inp = Input(shape=(28*28,), name=\"input\")\n",
        "    x = tf.reshape(inp, (-1,28,28,1))\n",
        "    x = Conv2D(64, 5, strides=2, use_bias=False)(x)\n",
        "    x = Conv2D(64, 5, strides=2, use_bias=False)(x)\n",
        "    x = Conv2D(10, 4, strides=1, use_bias=False)(x)\n",
        "    x = Flatten()(x)\n",
        "    out = x\n",
        "    \n",
        "    model = Model(inp, out, name=\"mlp_conv2d\")\n",
        "    return model"
      ]
    },
    {
      "cell_type": "code",
      "execution_count": 14,
      "metadata": {
        "colab": {
          "base_uri": "https://localhost:8080/"
        },
        "id": "waHGL1srSc5T",
        "outputId": "118481c8-b56d-4da0-f6a6-0e2d8fe7b42c"
      },
      "outputs": [
        {
          "output_type": "stream",
          "name": "stdout",
          "text": [
            "Model: \"mlp_conv2d\"\n",
            "_________________________________________________________________\n",
            " Layer (type)                Output Shape              Param #   \n",
            "=================================================================\n",
            " input (InputLayer)          [(None, 784)]             0         \n",
            "                                                                 \n",
            " tf.reshape (TFOpLambda)     (None, 28, 28, 1)         0         \n",
            "                                                                 \n",
            " conv2d (Conv2D)             (None, 12, 12, 64)        1600      \n",
            "                                                                 \n",
            " conv2d_1 (Conv2D)           (None, 4, 4, 64)          102400    \n",
            "                                                                 \n",
            " conv2d_2 (Conv2D)           (None, 1, 1, 10)          10240     \n",
            "                                                                 \n",
            " flatten (Flatten)           (None, 10)                0         \n",
            "                                                                 \n",
            "=================================================================\n",
            "Total params: 114,240\n",
            "Trainable params: 114,240\n",
            "Non-trainable params: 0\n",
            "_________________________________________________________________\n",
            "Log dir : /content/gdrive/My Drive/output/mlp_conv2d-230421-131559\n"
          ]
        }
      ],
      "source": [
        "# init new run\n",
        "P = { \"training_data\" : \"mnist50-10\" }\n",
        "\n",
        "'''\n",
        "P[\"model_name\"] = \"mlp_01\"\n",
        "P[\"model_build_params\"] = {\n",
        "    \"input_shape\" : (28*28,),\n",
        "    \"layer_units\" : [ 10 ],\n",
        "    \"activations\" : [ \"linear\" ],\n",
        "    \"use_bias\" : False,\n",
        "    \"regularizer\" : None, #\"L2(0.01)\"\n",
        "}\n",
        "\n",
        "P[\"model_name\"] = \"mlp_residual\"\n",
        "P[\"model_build_params\"] = {\n",
        "    \"input_shape\" : (28*28,),\n",
        "    \"layer_units\" : [ 128, 128, 10 ],\n",
        "    \"activations\" : [ \"linear\", \"relu\", \"linear\" ],\n",
        "    \"use_bias\" : False,\n",
        "    \"regularizer\" : \"L2(0.01)\"\n",
        "}\n",
        "'''\n",
        "\n",
        "P[\"model_name\"] = \"mlp_conv2d\"\n",
        "P[\"model_build_params\"] = {\n",
        "    \"dummy\" : 1,\n",
        "}\n",
        "\n",
        "P[\"random_seed\"] = 42\n",
        "utils.tf_keras_random_seed(P[\"random_seed\"])\n",
        "\n",
        "#model = eval(\"models.\" + P[\"model_name\"])(**P[\"model_build_params\"])\n",
        "model = eval(P[\"model_name\"])(**P[\"model_build_params\"])\n",
        "model.summary()\n",
        "\n",
        "P[\"loss\"] = \"SparseCategoricalCrossentropy(from_logits=True)\"\n",
        "P[\"optimizer\"] = \"AdamW(1e-3, weight_decay=1)\"\n",
        "#P[\"optimizer\"] = \"SGD(1e-3, momentum=0.9)\"\n",
        "P[\"metrics\"] = [ \"accuracy\" ]\n",
        "model.compile(loss = eval(P[\"loss\"]), optimizer = eval(P[\"optimizer\"]), metrics = P[\"metrics\"])\n",
        "\n",
        "P[\"run_dir\"] = model.name + datetime.datetime.now().strftime('-%y%m%d-%H%M%S')\n",
        "LOG_DIR = os.path.join(OUTPUT_DIR, P[\"run_dir\"])\n",
        "\n",
        "print(\"Log dir :\", LOG_DIR)\n",
        "\n",
        "run = utils.TrainingRun()\n",
        "weight_norm_logger = utils.LogWeightNorms()\n",
        "#weight_logger = utils.SaveWeightsPower2(LOG_DIR)"
      ]
    },
    {
      "cell_type": "code",
      "execution_count": 22,
      "metadata": {
        "colab": {
          "base_uri": "https://localhost:8080/",
          "height": 66,
          "referenced_widgets": [
            "26d6ea111bba407a8d01a001c6186d43",
            "61c8e04a7c82422fab22cf1cfea069e0",
            "aa6eb2707bc342a883b345ac4d7d1ef5",
            "cd6d25a2dac74445938970d8adc502eb",
            "5aef389201c04337bdf37e223f12ab09",
            "53212ae00d6041d8a051523813ff5d92",
            "1c625f2a04d34c7ab2b22f47131868f5",
            "9977c69726144cf4afb6cb87a88f2189",
            "0193172151554db695e7f82a40162c6d",
            "d4e9f14a64fb4511862eae5026fcdfd6",
            "3c06fb9621eb410d84851806f4fed0b8"
          ]
        },
        "id": "-IJSW5stSc5U",
        "outputId": "eaf13cd0-4200-4f47-e40b-6ad78fa844f1"
      },
      "outputs": [
        {
          "output_type": "display_data",
          "data": {
            "text/plain": [
              "0epoch [00:00, ?epoch/s]"
            ],
            "application/vnd.jupyter.widget-view+json": {
              "version_major": 2,
              "version_minor": 0,
              "model_id": "26d6ea111bba407a8d01a001c6186d43"
            }
          },
          "metadata": {}
        },
        {
          "output_type": "stream",
          "name": "stderr",
          "text": [
            "WARNING:tensorflow:Callback method `on_train_batch_end` is slow compared to the batch time (batch time: 0.0031s vs `on_train_batch_end` time: 0.0088s). Check your callbacks.\n"
          ]
        }
      ],
      "source": [
        "NUM_EPOCHS = 128 * 6\n",
        "#lr_sched = utils.Schedule_ExpCos_Segments([[-3,-3, NUM_EPOCHS]])\n",
        "\n",
        "history = model.fit(\n",
        "    x_train, y_train,\n",
        "    initial_epoch = run.current_epoch,\n",
        "    epochs = run.current_epoch + NUM_EPOCHS,\n",
        "    batch_size = 1000,\n",
        "    validation_data = (x_val, y_val),\n",
        "    callbacks=[\n",
        "        TqdmCallback(verbose=0),\n",
        "        #tf.keras.callbacks.LearningRateScheduler(lr_sched.scheduler),\n",
        "        weight_norm_logger,\n",
        "        #weight_logger,\n",
        "    ],        \n",
        "    verbose=0)\n",
        "\n",
        "run.update_history(history)"
      ]
    },
    {
      "cell_type": "code",
      "execution_count": 23,
      "metadata": {
        "colab": {
          "base_uri": "https://localhost:8080/",
          "height": 275
        },
        "id": "d5IcAVmMSc5V",
        "outputId": "c0b36266-422d-4660-b7d5-0af34b83462c"
      },
      "outputs": [
        {
          "output_type": "display_data",
          "data": {
            "text/plain": [
              "<Figure size 2500x300 with 3 Axes>"
            ],
            "image/png": "[encoded data removed]"
          },
          "metadata": {}
        }
      ],
      "source": [
        "fig, axs = plt.subplots(1, 3, figsize=(25,3))\n",
        "\n",
        "sns.lineplot(data=run.history[[\"loss\", \"val_loss\"]], ax=axs[0], dashes=False);\n",
        "axs[0].set_yscale(\"log\");\n",
        "\n",
        "sns.lineplot(data=run.history[[\"accuracy\", \"val_accuracy\"]], ax=axs[1], dashes=False);\n",
        "\n",
        "sns.lineplot(data=weight_norm_logger.norms_dataframe(), ax=axs[2], dashes=False);"
      ]
    },
    {
      "cell_type": "code",
      "execution_count": 26,
      "metadata": {
        "id": "orakCTxiXOdh"
      },
      "outputs": [],
      "source": [
        "run.save_state(LOG_DIR, P, model)\n",
        "weight_norm_logger.norms_to_csv(LOG_DIR)"
      ]
    },
    {
      "cell_type": "code",
      "execution_count": 18,
      "metadata": {
        "id": "vdehjCkeKBpb"
      },
      "outputs": [],
      "source": [
        "def plot_matrix(m, ax, scale=1.0):\n",
        "    mmax = np.max(np.abs(m)) / scale\n",
        "    ax.imshow(m, cmap=\"bwr\", vmin=-mmax, vmax=mmax, interpolation=\"nearest\")\n",
        "    ax.grid(False)"
      ]
    },
    {
      "cell_type": "code",
      "execution_count": 19,
      "metadata": {
        "colab": {
          "base_uri": "https://localhost:8080/",
          "height": 197
        },
        "id": "SOWBJBY9J8Ph",
        "outputId": "4d21e61d-63b9-452f-e348-894c244c572f"
      },
      "outputs": [
        {
          "output_type": "display_data",
          "data": {
            "text/plain": [
              "<Figure size 3000x500 with 10 Axes>"
            ],
            "image/png": "[encoded data removed]"
          },
          "metadata": {}
        }
      ],
      "source": [
        "fig, axs = plt.subplots(1, 10, figsize=(30,5))\n",
        "\n",
        "w = model.get_weights()[0]\n",
        "\n",
        "for i in range(10):\n",
        "    plot_matrix(w.reshape(5,5,-1)[:,:,i+0], axs[i], scale=1)"
      ]
    },
    {
      "cell_type": "code",
      "execution_count": null,
      "metadata": {
        "id": "MA2pMsVUKaXQ"
      },
      "outputs": [],
      "source": []
    }
  ],
  "metadata": {
    "accelerator": "GPU",
    "colab": {
      "provenance": []
    },
    "gpuClass": "standard",
    "kernelspec": {
      "display_name": "dl_basics",
      "language": "python",
      "name": "python3"
    },
    "language_info": {
      "codemirror_mode": {
        "name": "ipython",
        "version": 3
      },
      "file_extension": ".py",
      "mimetype": "text/x-python",
      "name": "python",
      "nbconvert_exporter": "python",
      "pygments_lexer": "ipython3",
      "version": "3.10.10"
    },
    "orig_nbformat": 4,
    "widgets": {
      "application/vnd.jupyter.widget-state+json": {
        "26d6ea111bba407a8d01a001c6186d43": {
          "model_module": "@jupyter-widgets/controls",
          "model_name": "HBoxModel",
          "model_module_version": "1.5.0",
          "state": {
            "_dom_classes": [],
            "_model_module": "@jupyter-widgets/controls",
            "_model_module_version": "1.5.0",
            "_model_name": "HBoxModel",
            "_view_count": null,
            "_view_module": "@jupyter-widgets/controls",
            "_view_module_version": "1.5.0",
            "_view_name": "HBoxView",
            "box_style": "",
            "children": [
              "IPY_MODEL_61c8e04a7c82422fab22cf1cfea069e0",
              "IPY_MODEL_aa6eb2707bc342a883b345ac4d7d1ef5",
              "IPY_MODEL_cd6d25a2dac74445938970d8adc502eb"
            ],
            "layout": "IPY_MODEL_5aef389201c04337bdf37e223f12ab09"
          }
        },
        "61c8e04a7c82422fab22cf1cfea069e0": {
          "model_module": "@jupyter-widgets/controls",
          "model_name": "HTMLModel",
          "model_module_version": "1.5.0",
          "state": {
            "_dom_classes": [],
            "_model_module": "@jupyter-widgets/controls",
            "_model_module_version": "1.5.0",
            "_model_name": "HTMLModel",
            "_view_count": null,
            "_view_module": "@jupyter-widgets/controls",
            "_view_module_version": "1.5.0",
            "_view_name": "HTMLView",
            "description": "",
            "description_tooltip": null,
            "layout": "IPY_MODEL_53212ae00d6041d8a051523813ff5d92",
            "placeholder": "​",
            "style": "IPY_MODEL_1c625f2a04d34c7ab2b22f47131868f5",
            "value": "100%"
          }
        },
        "aa6eb2707bc342a883b345ac4d7d1ef5": {
          "model_module": "@jupyter-widgets/controls",
          "model_name": "FloatProgressModel",
          "model_module_version": "1.5.0",
          "state": {
            "_dom_classes": [],
            "_model_module": "@jupyter-widgets/controls",
            "_model_module_version": "1.5.0",
            "_model_name": "FloatProgressModel",
            "_view_count": null,
            "_view_module": "@jupyter-widgets/controls",
            "_view_module_version": "1.5.0",
            "_view_name": "ProgressView",
            "bar_style": "success",
            "description": "",
            "description_tooltip": null,
            "layout": "IPY_MODEL_9977c69726144cf4afb6cb87a88f2189",
            "max": 768,
            "min": 0,
            "orientation": "horizontal",
            "style": "IPY_MODEL_0193172151554db695e7f82a40162c6d",
            "value": 768
          }
        },
        "cd6d25a2dac74445938970d8adc502eb": {
          "model_module": "@jupyter-widgets/controls",
          "model_name": "HTMLModel",
          "model_module_version": "1.5.0",
          "state": {
            "_dom_classes": [],
            "_model_module": "@jupyter-widgets/controls",
            "_model_module_version": "1.5.0",
            "_model_name": "HTMLModel",
            "_view_count": null,
            "_view_module": "@jupyter-widgets/controls",
            "_view_module_version": "1.5.0",
            "_view_name": "HTMLView",
            "description": "",
            "description_tooltip": null,
            "layout": "IPY_MODEL_d4e9f14a64fb4511862eae5026fcdfd6",
            "placeholder": "​",
            "style": "IPY_MODEL_3c06fb9621eb410d84851806f4fed0b8",
            "value": " 768/768 [05:51&lt;00:00,  2.25epoch/s, loss=0.291, accuracy=0.919, val_loss=0.278, val_accuracy=0.925]"
          }
        },
        "5aef389201c04337bdf37e223f12ab09": {
          "model_module": "@jupyter-widgets/base",
          "model_name": "LayoutModel",
          "model_module_version": "1.2.0",
          "state": {
            "_model_module": "@jupyter-widgets/base",
            "_model_module_version": "1.2.0",
            "_model_name": "LayoutModel",
            "_view_count": null,
            "_view_module": "@jupyter-widgets/base",
            "_view_module_version": "1.2.0",
            "_view_name": "LayoutView",
            "align_content": null,
            "align_items": null,
            "align_self": null,
            "border": null,
            "bottom": null,
            "display": null,
            "flex": null,
            "flex_flow": null,
            "grid_area": null,
            "grid_auto_columns": null,
            "grid_auto_flow": null,
            "grid_auto_rows": null,
            "grid_column": null,
            "grid_gap": null,
            "grid_row": null,
            "grid_template_areas": null,
            "grid_template_columns": null,
            "grid_template_rows": null,
            "height": null,
            "justify_content": null,
            "justify_items": null,
            "left": null,
            "margin": null,
            "max_height": null,
            "max_width": null,
            "min_height": null,
            "min_width": null,
            "object_fit": null,
            "object_position": null,
            "order": null,
            "overflow": null,
            "overflow_x": null,
            "overflow_y": null,
            "padding": null,
            "right": null,
            "top": null,
            "visibility": null,
            "width": null
          }
        },
        "53212ae00d6041d8a051523813ff5d92": {
          "model_module": "@jupyter-widgets/base",
          "model_name": "LayoutModel",
          "model_module_version": "1.2.0",
          "state": {
            "_model_module": "@jupyter-widgets/base",
            "_model_module_version": "1.2.0",
            "_model_name": "LayoutModel",
            "_view_count": null,
            "_view_module": "@jupyter-widgets/base",
            "_view_module_version": "1.2.0",
            "_view_name": "LayoutView",
            "align_content": null,
            "align_items": null,
            "align_self": null,
            "border": null,
            "bottom": null,
            "display": null,
            "flex": null,
            "flex_flow": null,
            "grid_area": null,
            "grid_auto_columns": null,
            "grid_auto_flow": null,
            "grid_auto_rows": null,
            "grid_column": null,
            "grid_gap": null,
            "grid_row": null,
            "grid_template_areas": null,
            "grid_template_columns": null,
            "grid_template_rows": null,
            "height": null,
            "justify_content": null,
            "justify_items": null,
            "left": null,
            "margin": null,
            "max_height": null,
            "max_width": null,
            "min_height": null,
            "min_width": null,
            "object_fit": null,
            "object_position": null,
            "order": null,
            "overflow": null,
            "overflow_x": null,
            "overflow_y": null,
            "padding": null,
            "right": null,
            "top": null,
            "visibility": null,
            "width": null
          }
        },
        "1c625f2a04d34c7ab2b22f47131868f5": {
          "model_module": "@jupyter-widgets/controls",
          "model_name": "DescriptionStyleModel",
          "model_module_version": "1.5.0",
          "state": {
            "_model_module": "@jupyter-widgets/controls",
            "_model_module_version": "1.5.0",
            "_model_name": "DescriptionStyleModel",
            "_view_count": null,
            "_view_module": "@jupyter-widgets/base",
            "_view_module_version": "1.2.0",
            "_view_name": "StyleView",
            "description_width": ""
          }
        },
        "9977c69726144cf4afb6cb87a88f2189": {
          "model_module": "@jupyter-widgets/base",
          "model_name": "LayoutModel",
          "model_module_version": "1.2.0",
          "state": {
            "_model_module": "@jupyter-widgets/base",
            "_model_module_version": "1.2.0",
            "_model_name": "LayoutModel",
            "_view_count": null,
            "_view_module": "@jupyter-widgets/base",
            "_view_module_version": "1.2.0",
            "_view_name": "LayoutView",
            "align_content": null,
            "align_items": null,
            "align_self": null,
            "border": null,
            "bottom": null,
            "display": null,
            "flex": null,
            "flex_flow": null,
            "grid_area": null,
            "grid_auto_columns": null,
            "grid_auto_flow": null,
            "grid_auto_rows": null,
            "grid_column": null,
            "grid_gap": null,
            "grid_row": null,
            "grid_template_areas": null,
            "grid_template_columns": null,
            "grid_template_rows": null,
            "height": null,
            "justify_content": null,
            "justify_items": null,
            "left": null,
            "margin": null,
            "max_height": null,
            "max_width": null,
            "min_height": null,
            "min_width": null,
            "object_fit": null,
            "object_position": null,
            "order": null,
            "overflow": null,
            "overflow_x": null,
            "overflow_y": null,
            "padding": null,
            "right": null,
            "top": null,
            "visibility": null,
            "width": null
          }
        },
        "0193172151554db695e7f82a40162c6d": {
          "model_module": "@jupyter-widgets/controls",
          "model_name": "ProgressStyleModel",
          "model_module_version": "1.5.0",
          "state": {
            "_model_module": "@jupyter-widgets/controls",
            "_model_module_version": "1.5.0",
            "_model_name": "ProgressStyleModel",
            "_view_count": null,
            "_view_module": "@jupyter-widgets/base",
            "_view_module_version": "1.2.0",
            "_view_name": "StyleView",
            "bar_color": null,
            "description_width": ""
          }
        },
        "d4e9f14a64fb4511862eae5026fcdfd6": {
          "model_module": "@jupyter-widgets/base",
          "model_name": "LayoutModel",
          "model_module_version": "1.2.0",
          "state": {
            "_model_module": "@jupyter-widgets/base",
            "_model_module_version": "1.2.0",
            "_model_name": "LayoutModel",
            "_view_count": null,
            "_view_module": "@jupyter-widgets/base",
            "_view_module_version": "1.2.0",
            "_view_name": "LayoutView",
            "align_content": null,
            "align_items": null,
            "align_self": null,
            "border": null,
            "bottom": null,
            "display": null,
            "flex": null,
            "flex_flow": null,
            "grid_area": null,
            "grid_auto_columns": null,
            "grid_auto_flow": null,
            "grid_auto_rows": null,
            "grid_column": null,
            "grid_gap": null,
            "grid_row": null,
            "grid_template_areas": null,
            "grid_template_columns": null,
            "grid_template_rows": null,
            "height": null,
            "justify_content": null,
            "justify_items": null,
            "left": null,
            "margin": null,
            "max_height": null,
            "max_width": null,
            "min_height": null,
            "min_width": null,
            "object_fit": null,
            "object_position": null,
            "order": null,
            "overflow": null,
            "overflow_x": null,
            "overflow_y": null,
            "padding": null,
            "right": null,
            "top": null,
            "visibility": null,
            "width": null
          }
        },
        "3c06fb9621eb410d84851806f4fed0b8": {
          "model_module": "@jupyter-widgets/controls",
          "model_name": "DescriptionStyleModel",
          "model_module_version": "1.5.0",
          "state": {
            "_model_module": "@jupyter-widgets/controls",
            "_model_module_version": "1.5.0",
            "_model_name": "DescriptionStyleModel",
            "_view_count": null,
            "_view_module": "@jupyter-widgets/base",
            "_view_module_version": "1.2.0",
            "_view_name": "StyleView",
            "description_width": ""
          }
        }
      }
    }
  },
  "nbformat": 4,
  "nbformat_minor": 0
}