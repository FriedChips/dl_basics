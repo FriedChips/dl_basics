{
  "cells": [
    {
      "cell_type": "code",
      "execution_count": 1,
      "metadata": {
        "colab": {
          "base_uri": "https://localhost:8080/"
        },
        "id": "yxFdHosMSc5M",
        "outputId": "2979ea0f-24f2-4632-8245-5b33f6670a93"
      },
      "outputs": [
        {
          "name": "stderr",
          "output_type": "stream",
          "text": [
            "2023-04-14 17:05:54.775401: I tensorflow/core/platform/cpu_feature_guard.cc:193] This TensorFlow binary is optimized with oneAPI Deep Neural Network Library (oneDNN) to use the following CPU instructions in performance-critical operations:  SSE4.1 SSE4.2 AVX\n",
            "To enable them in other operations, rebuild TensorFlow with the appropriate compiler flags.\n"
          ]
        },
        {
          "name": "stdout",
          "output_type": "stream",
          "text": [
            "Running locally on beta.\n"
          ]
        }
      ],
      "source": [
        "import numpy as np\n",
        "import pandas as pd\n",
        "import matplotlib.pyplot as plt\n",
        "import seaborn as sns\n",
        "import os\n",
        "import sys\n",
        "import datetime\n",
        "import json\n",
        "import tensorflow as tf\n",
        "from tqdm.keras import TqdmCallback\n",
        "\n",
        "sns.set_theme()\n",
        "\n",
        "try: # are we in Colab?\n",
        "    import google.colab\n",
        "    COMPUTE_ENV = 'colab'\n",
        "    print('Running in Colab.')\n",
        "    google.colab.drive.mount('/content/gdrive')\n",
        "    OUTPUT_DIR = \"/content/gdrive/My Drive/output\"\n",
        "    !git clone https://github.com/FriedChips/dl_basics.git\n",
        "    sys.path.insert(0,'/content/dl_basics')\n",
        "except: # if not...\n",
        "    if \"kaggle\" in os.environ[\"PWD\"]: # are we in Kaggle?\n",
        "        COMPUTE_ENV = 'kaggle'\n",
        "        print('Running in Kaggle.')\n",
        "        OUTPUT_DIR = \"./\"\n",
        "    else: # we're local\n",
        "        COMPUTE_ENV = os.uname()[1]\n",
        "        print(f\"Running locally on {COMPUTE_ENV}.\")\n",
        "        sys.path.insert(0,'./../')\n",
        "        OUTPUT_DIR = \"../output/\"\n",
        "\n",
        "for gpu in tf.config.list_physical_devices(\"GPU\"):\n",
        "    print(f\"Found GPU: {tf.config.experimental.get_device_details(gpu)['device_name']}.\")"
      ]
    },
    {
      "cell_type": "code",
      "execution_count": 5,
      "metadata": {
        "id": "9kRbLzj4Sc5S"
      },
      "outputs": [],
      "source": [
        "#from data_gen.modulo_arithmetic import addition_modulo_data\n",
        "import models\n",
        "import utils"
      ]
    },
    {
      "cell_type": "code",
      "execution_count": 2,
      "metadata": {
        "colab": {
          "base_uri": "https://localhost:8080/"
        },
        "id": "jazWXg9PSc5T",
        "outputId": "477d734d-cdfd-4e78-db02-489f67612824"
      },
      "outputs": [
        {
          "data": {
            "text/plain": [
              "((50000, 784), (50000,), (10000, 784), (10000,))"
            ]
          },
          "execution_count": 2,
          "metadata": {},
          "output_type": "execute_result"
        }
      ],
      "source": [
        "(x_mnist_tr, y_mnist_tr), (x_mnist_te, y_mnist_te) = tf.keras.datasets.mnist.load_data()\n",
        "#x_mnist_tr = np.expand_dims(x_mnist_tr.astype(np.float32) / 255.0, -1)\n",
        "#x_mnist_te = np.expand_dims(x_mnist_te.astype(np.float32)  / 255.0, -1)\n",
        "x_mnist_tr = (x_mnist_tr.astype(np.float32) / 255.0).reshape(-1, 28*28)\n",
        "x_mnist_te = (x_mnist_te.astype(np.float32) / 255.0).reshape(-1, 28*28)\n",
        "\n",
        "x_train = x_mnist_tr[:50000]\n",
        "y_train = y_mnist_tr[:50000]\n",
        "x_val   = x_mnist_tr[50000:]\n",
        "y_val   = y_mnist_tr[50000:]\n",
        "\n",
        "x_train.shape, y_train.shape, x_val.shape, y_val.shape"
      ]
    },
    {
      "cell_type": "code",
      "execution_count": 7,
      "metadata": {
        "colab": {
          "base_uri": "https://localhost:8080/"
        },
        "id": "waHGL1srSc5T",
        "outputId": "ad847416-d359-43d6-cc33-ec951f84d8f7"
      },
      "outputs": [
        {
          "name": "stdout",
          "output_type": "stream",
          "text": [
            "Model: \"mlp_01\"\n",
            "_________________________________________________________________\n",
            " Layer (type)                Output Shape              Param #   \n",
            "=================================================================\n",
            " input (InputLayer)          [(None, 784)]             0         \n",
            "                                                                 \n",
            " dense_0 (Dense)             (None, 128)               100352    \n",
            "                                                                 \n",
            " tf.nn.gelu (TFOpLambda)     (None, 128)               0         \n",
            "                                                                 \n",
            " dense_1 (Dense)             (None, 10)                1280      \n",
            "                                                                 \n",
            "=================================================================\n",
            "Total params: 101,632\n",
            "Trainable params: 101,632\n",
            "Non-trainable params: 0\n",
            "_________________________________________________________________\n",
            "Run dir : mlp_01-230414-171209\n"
          ]
        },
        {
          "name": "stderr",
          "output_type": "stream",
          "text": [
            "2023-04-14 17:12:09.049977: I tensorflow/core/platform/cpu_feature_guard.cc:193] This TensorFlow binary is optimized with oneAPI Deep Neural Network Library (oneDNN) to use the following CPU instructions in performance-critical operations:  SSE4.1 SSE4.2 AVX\n",
            "To enable them in other operations, rebuild TensorFlow with the appropriate compiler flags.\n",
            "2023-04-14 17:12:09.052439: I tensorflow/core/common_runtime/process_util.cc:146] Creating new thread pool with default inter op setting: 2. Tune using inter_op_parallelism_threads for best performance.\n"
          ]
        }
      ],
      "source": [
        "# init new run\n",
        "P = { \"training_data\" : \"mnist50-10\" }\n",
        "\n",
        "P[\"model_name\"] = \"mlp_01\"\n",
        "P[\"model_build_params\"] = {\n",
        "    \"input_shape\" : (28*28,),\n",
        "    \"layer_units\" : [ 128, 10 ],\n",
        "    \"activations\" : [ \"gelu\", \"linear\" ],\n",
        "    \"use_bias\" : False,\n",
        "}\n",
        "\n",
        "model = eval(\"models.\" + P[\"model_name\"])(**P[\"model_build_params\"])\n",
        "\n",
        "\n",
        "model.compile(\n",
        "    loss = tf.keras.losses.SparseCategoricalCrossentropy(from_logits=True),\n",
        "    #optimizer = tf.keras.optimizers.Adam(learning_rate=1e-3),\n",
        "    optimizer = tf.keras.optimizers.experimental.AdamW(learning_rate=1e-3, weight_decay=1),\n",
        "    metrics = [ \"accuracy\" ]\n",
        ")\n",
        "\n",
        "model.summary()\n",
        "\n",
        "P[\"run_dir\"] = model.name + datetime.datetime.now().strftime('-%y%m%d-%H%M%S')\n",
        "print(\"Run dir :\", P[\"run_dir\"])\n",
        "\n",
        "run = utils.TrainingRun()"
      ]
    },
    {
      "cell_type": "code",
      "execution_count": 8,
      "metadata": {
        "colab": {
          "base_uri": "https://localhost:8080/",
          "height": 49,
          "referenced_widgets": [
            "5da040f131784cd5917483ca42f54228",
            "fe004b223ff04a06afb53459ea4d859c",
            "374cdcdb83464595acaadf9d3eb24c58",
            "e843dfe97ae24203aba3a04a5446d239",
            "abe04acd9c3f4dc8925ac00dc76af288",
            "8d610a48e7f249d9ba7d0e797f51b7b3",
            "cfbc99d62eea4e62bb0ade4200efdf38",
            "e16da55edc8c43d0b34df2f47599a55f",
            "150a01a7b09e46a0b9981afdf5bf0c28",
            "0228b0c9db534985bd8ef7df8a54f815",
            "40dd9da5d9d941679283cbee199c4bde"
          ]
        },
        "id": "-IJSW5stSc5U",
        "outputId": "48e7a7c6-d37e-408e-e22c-c87efd881012"
      },
      "outputs": [
        {
          "data": {
            "application/vnd.jupyter.widget-view+json": {
              "model_id": "5da040f131784cd5917483ca42f54228",
              "version_major": 2,
              "version_minor": 0
            },
            "text/plain": [
              "0epoch [00:00, ?epoch/s]"
            ]
          },
          "metadata": {},
          "output_type": "display_data"
        }
      ],
      "source": [
        "NUM_EPOCHS = 1024 * 1\n",
        "#lr_sched = utils.Schedule_ExpCos_Segments([[-3,-3, NUM_EPOCHS]])\n",
        "\n",
        "history = model.fit(\n",
        "    x_train, y_train,\n",
        "    epochs = NUM_EPOCHS,\n",
        "    batch_size = len(x_train),\n",
        "    validation_data = (x_val, y_val),\n",
        "    callbacks=[\n",
        "        TqdmCallback(verbose=0),\n",
        "        #tf.keras.callbacks.LearningRateScheduler(lr_sched.scheduler),\n",
        "    ],        \n",
        "    verbose=0)\n",
        "\n",
        "run.update_history(history)"
      ]
    },
    {
      "cell_type": "code",
      "execution_count": 9,
      "metadata": {
        "colab": {
          "base_uri": "https://localhost:8080/",
          "height": 278
        },
        "id": "d5IcAVmMSc5V",
        "outputId": "543668f1-a9cb-402c-b76e-001d69362f61"
      },
      "outputs": [
        {
          "data": {
            "image/png": "[encoded data removed]",
            "text/plain": [
              "<Figure size 2500x300 with 2 Axes>"
            ]
          },
          "metadata": {},
          "output_type": "display_data"
        }
      ],
      "source": [
        "fig, axs = plt.subplots(1,2, figsize=(25,3))\n",
        "\n",
        "sns.lineplot(data=run.history[[\"loss\", \"val_loss\"]], ax=axs[0], dashes=False);\n",
        "axs[0].set_yscale(\"log\");\n",
        "\n",
        "sns.lineplot(data=run.history[[\"accuracy\", \"val_accuracy\"]], ax=axs[1], dashes=False);\n",
        "#axs[1].set_ylim(0,0.2);"
      ]
    },
    {
      "cell_type": "code",
      "execution_count": null,
      "metadata": {
        "id": "vLFEkFbKYZlE"
      },
      "outputs": [],
      "source": [
        "model.compile(\n",
        "    loss = tf.keras.losses.SparseCategoricalCrossentropy(from_logits=True),\n",
        "    #optimizer = tf.keras.optimizers.Adam(learning_rate=1e-3),\n",
        "    optimizer = tf.keras.optimizers.experimental.AdamW(learning_rate=1e-4, weight_decay=1),\n",
        "    metrics = [ \"accuracy\" ]\n",
        ")\n"
      ]
    },
    {
      "cell_type": "code",
      "execution_count": 10,
      "metadata": {
        "id": "orakCTxiXOdh"
      },
      "outputs": [],
      "source": [
        "run.save_state(os.path.join(OUTPUT_DIR, P[\"run_dir\"]), P, model)"
      ]
    },
    {
      "cell_type": "code",
      "execution_count": null,
      "metadata": {
        "id": "Dk6FxiyjXOdg"
      },
      "outputs": [],
      "source": [
        "#P, model = run.load_state(\"../output/gru_01-230407-220913\")"
      ]
    },
    {
      "cell_type": "code",
      "execution_count": null,
      "metadata": {
        "id": "vaLuwpB5d7yB"
      },
      "outputs": [],
      "source": []
    }
  ],
  "metadata": {
    "accelerator": "GPU",
    "colab": {
      "provenance": []
    },
    "gpuClass": "standard",
    "kernelspec": {
      "display_name": "dl_basics",
      "language": "python",
      "name": "python3"
    },
    "language_info": {
      "codemirror_mode": {
        "name": "ipython",
        "version": 3
      },
      "file_extension": ".py",
      "mimetype": "text/x-python",
      "name": "python",
      "nbconvert_exporter": "python",
      "pygments_lexer": "ipython3",
      "version": "3.10.10"
    },
    "orig_nbformat": 4,
    "widgets": {
      "application/vnd.jupyter.widget-state+json": {
        "0228b0c9db534985bd8ef7df8a54f815": {
          "model_module": "@jupyter-widgets/base",
          "model_module_version": "1.2.0",
          "model_name": "LayoutModel",
          "state": {
            "_model_module": "@jupyter-widgets/base",
            "_model_module_version": "1.2.0",
            "_model_name": "LayoutModel",
            "_view_count": null,
            "_view_module": "@jupyter-widgets/base",
            "_view_module_version": "1.2.0",
            "_view_name": "LayoutView",
            "align_content": null,
            "align_items": null,
            "align_self": null,
            "border": null,
            "bottom": null,
            "display": null,
            "flex": null,
            "flex_flow": null,
            "grid_area": null,
            "grid_auto_columns": null,
            "grid_auto_flow": null,
            "grid_auto_rows": null,
            "grid_column": null,
            "grid_gap": null,
            "grid_row": null,
            "grid_template_areas": null,
            "grid_template_columns": null,
            "grid_template_rows": null,
            "height": null,
            "justify_content": null,
            "justify_items": null,
            "left": null,
            "margin": null,
            "max_height": null,
            "max_width": null,
            "min_height": null,
            "min_width": null,
            "object_fit": null,
            "object_position": null,
            "order": null,
            "overflow": null,
            "overflow_x": null,
            "overflow_y": null,
            "padding": null,
            "right": null,
            "top": null,
            "visibility": null,
            "width": null
          }
        },
        "150a01a7b09e46a0b9981afdf5bf0c28": {
          "model_module": "@jupyter-widgets/controls",
          "model_module_version": "1.5.0",
          "model_name": "ProgressStyleModel",
          "state": {
            "_model_module": "@jupyter-widgets/controls",
            "_model_module_version": "1.5.0",
            "_model_name": "ProgressStyleModel",
            "_view_count": null,
            "_view_module": "@jupyter-widgets/base",
            "_view_module_version": "1.2.0",
            "_view_name": "StyleView",
            "bar_color": null,
            "description_width": ""
          }
        },
        "374cdcdb83464595acaadf9d3eb24c58": {
          "model_module": "@jupyter-widgets/controls",
          "model_module_version": "1.5.0",
          "model_name": "FloatProgressModel",
          "state": {
            "_dom_classes": [],
            "_model_module": "@jupyter-widgets/controls",
            "_model_module_version": "1.5.0",
            "_model_name": "FloatProgressModel",
            "_view_count": null,
            "_view_module": "@jupyter-widgets/controls",
            "_view_module_version": "1.5.0",
            "_view_name": "ProgressView",
            "bar_style": "success",
            "description": "",
            "description_tooltip": null,
            "layout": "IPY_MODEL_e16da55edc8c43d0b34df2f47599a55f",
            "max": 16384,
            "min": 0,
            "orientation": "horizontal",
            "style": "IPY_MODEL_150a01a7b09e46a0b9981afdf5bf0c28",
            "value": 16384
          }
        },
        "40dd9da5d9d941679283cbee199c4bde": {
          "model_module": "@jupyter-widgets/controls",
          "model_module_version": "1.5.0",
          "model_name": "DescriptionStyleModel",
          "state": {
            "_model_module": "@jupyter-widgets/controls",
            "_model_module_version": "1.5.0",
            "_model_name": "DescriptionStyleModel",
            "_view_count": null,
            "_view_module": "@jupyter-widgets/base",
            "_view_module_version": "1.2.0",
            "_view_name": "StyleView",
            "description_width": ""
          }
        },
        "5da040f131784cd5917483ca42f54228": {
          "model_module": "@jupyter-widgets/controls",
          "model_module_version": "1.5.0",
          "model_name": "HBoxModel",
          "state": {
            "_dom_classes": [],
            "_model_module": "@jupyter-widgets/controls",
            "_model_module_version": "1.5.0",
            "_model_name": "HBoxModel",
            "_view_count": null,
            "_view_module": "@jupyter-widgets/controls",
            "_view_module_version": "1.5.0",
            "_view_name": "HBoxView",
            "box_style": "",
            "children": [
              "IPY_MODEL_fe004b223ff04a06afb53459ea4d859c",
              "IPY_MODEL_374cdcdb83464595acaadf9d3eb24c58",
              "IPY_MODEL_e843dfe97ae24203aba3a04a5446d239"
            ],
            "layout": "IPY_MODEL_abe04acd9c3f4dc8925ac00dc76af288"
          }
        },
        "8d610a48e7f249d9ba7d0e797f51b7b3": {
          "model_module": "@jupyter-widgets/base",
          "model_module_version": "1.2.0",
          "model_name": "LayoutModel",
          "state": {
            "_model_module": "@jupyter-widgets/base",
            "_model_module_version": "1.2.0",
            "_model_name": "LayoutModel",
            "_view_count": null,
            "_view_module": "@jupyter-widgets/base",
            "_view_module_version": "1.2.0",
            "_view_name": "LayoutView",
            "align_content": null,
            "align_items": null,
            "align_self": null,
            "border": null,
            "bottom": null,
            "display": null,
            "flex": null,
            "flex_flow": null,
            "grid_area": null,
            "grid_auto_columns": null,
            "grid_auto_flow": null,
            "grid_auto_rows": null,
            "grid_column": null,
            "grid_gap": null,
            "grid_row": null,
            "grid_template_areas": null,
            "grid_template_columns": null,
            "grid_template_rows": null,
            "height": null,
            "justify_content": null,
            "justify_items": null,
            "left": null,
            "margin": null,
            "max_height": null,
            "max_width": null,
            "min_height": null,
            "min_width": null,
            "object_fit": null,
            "object_position": null,
            "order": null,
            "overflow": null,
            "overflow_x": null,
            "overflow_y": null,
            "padding": null,
            "right": null,
            "top": null,
            "visibility": null,
            "width": null
          }
        },
        "abe04acd9c3f4dc8925ac00dc76af288": {
          "model_module": "@jupyter-widgets/base",
          "model_module_version": "1.2.0",
          "model_name": "LayoutModel",
          "state": {
            "_model_module": "@jupyter-widgets/base",
            "_model_module_version": "1.2.0",
            "_model_name": "LayoutModel",
            "_view_count": null,
            "_view_module": "@jupyter-widgets/base",
            "_view_module_version": "1.2.0",
            "_view_name": "LayoutView",
            "align_content": null,
            "align_items": null,
            "align_self": null,
            "border": null,
            "bottom": null,
            "display": null,
            "flex": null,
            "flex_flow": null,
            "grid_area": null,
            "grid_auto_columns": null,
            "grid_auto_flow": null,
            "grid_auto_rows": null,
            "grid_column": null,
            "grid_gap": null,
            "grid_row": null,
            "grid_template_areas": null,
            "grid_template_columns": null,
            "grid_template_rows": null,
            "height": null,
            "justify_content": null,
            "justify_items": null,
            "left": null,
            "margin": null,
            "max_height": null,
            "max_width": null,
            "min_height": null,
            "min_width": null,
            "object_fit": null,
            "object_position": null,
            "order": null,
            "overflow": null,
            "overflow_x": null,
            "overflow_y": null,
            "padding": null,
            "right": null,
            "top": null,
            "visibility": null,
            "width": null
          }
        },
        "cfbc99d62eea4e62bb0ade4200efdf38": {
          "model_module": "@jupyter-widgets/controls",
          "model_module_version": "1.5.0",
          "model_name": "DescriptionStyleModel",
          "state": {
            "_model_module": "@jupyter-widgets/controls",
            "_model_module_version": "1.5.0",
            "_model_name": "DescriptionStyleModel",
            "_view_count": null,
            "_view_module": "@jupyter-widgets/base",
            "_view_module_version": "1.2.0",
            "_view_name": "StyleView",
            "description_width": ""
          }
        },
        "e16da55edc8c43d0b34df2f47599a55f": {
          "model_module": "@jupyter-widgets/base",
          "model_module_version": "1.2.0",
          "model_name": "LayoutModel",
          "state": {
            "_model_module": "@jupyter-widgets/base",
            "_model_module_version": "1.2.0",
            "_model_name": "LayoutModel",
            "_view_count": null,
            "_view_module": "@jupyter-widgets/base",
            "_view_module_version": "1.2.0",
            "_view_name": "LayoutView",
            "align_content": null,
            "align_items": null,
            "align_self": null,
            "border": null,
            "bottom": null,
            "display": null,
            "flex": null,
            "flex_flow": null,
            "grid_area": null,
            "grid_auto_columns": null,
            "grid_auto_flow": null,
            "grid_auto_rows": null,
            "grid_column": null,
            "grid_gap": null,
            "grid_row": null,
            "grid_template_areas": null,
            "grid_template_columns": null,
            "grid_template_rows": null,
            "height": null,
            "justify_content": null,
            "justify_items": null,
            "left": null,
            "margin": null,
            "max_height": null,
            "max_width": null,
            "min_height": null,
            "min_width": null,
            "object_fit": null,
            "object_position": null,
            "order": null,
            "overflow": null,
            "overflow_x": null,
            "overflow_y": null,
            "padding": null,
            "right": null,
            "top": null,
            "visibility": null,
            "width": null
          }
        },
        "e843dfe97ae24203aba3a04a5446d239": {
          "model_module": "@jupyter-widgets/controls",
          "model_module_version": "1.5.0",
          "model_name": "HTMLModel",
          "state": {
            "_dom_classes": [],
            "_model_module": "@jupyter-widgets/controls",
            "_model_module_version": "1.5.0",
            "_model_name": "HTMLModel",
            "_view_count": null,
            "_view_module": "@jupyter-widgets/controls",
            "_view_module_version": "1.5.0",
            "_view_name": "HTMLView",
            "description": "",
            "description_tooltip": null,
            "layout": "IPY_MODEL_0228b0c9db534985bd8ef7df8a54f815",
            "placeholder": "​",
            "style": "IPY_MODEL_40dd9da5d9d941679283cbee199c4bde",
            "value": " 16384/16384 [14:04&lt;00:00, 21.41epoch/s, loss=1.3e-5, accuracy=1, val_loss=4.55e-5, val_accuracy=1]"
          }
        },
        "fe004b223ff04a06afb53459ea4d859c": {
          "model_module": "@jupyter-widgets/controls",
          "model_module_version": "1.5.0",
          "model_name": "HTMLModel",
          "state": {
            "_dom_classes": [],
            "_model_module": "@jupyter-widgets/controls",
            "_model_module_version": "1.5.0",
            "_model_name": "HTMLModel",
            "_view_count": null,
            "_view_module": "@jupyter-widgets/controls",
            "_view_module_version": "1.5.0",
            "_view_name": "HTMLView",
            "description": "",
            "description_tooltip": null,
            "layout": "IPY_MODEL_8d610a48e7f249d9ba7d0e797f51b7b3",
            "placeholder": "​",
            "style": "IPY_MODEL_cfbc99d62eea4e62bb0ade4200efdf38",
            "value": "100%"
          }
        }
      }
    }
  },
  "nbformat": 4,
  "nbformat_minor": 0
}
