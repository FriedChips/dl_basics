{
  "cells": [
    {
      "cell_type": "code",
      "execution_count": 1,
      "metadata": {
        "colab": {
          "base_uri": "https://localhost:8080/"
        },
        "id": "yxFdHosMSc5M",
        "outputId": "1c1c00a8-cbfc-45b0-bdc3-a1f1ca9476d9"
      },
      "outputs": [
        {
          "output_type": "stream",
          "name": "stdout",
          "text": [
            "Running in Colab.\n",
            "Mounted at /content/gdrive\n",
            "Cloning into 'dl_basics'...\n",
            "remote: Enumerating objects: 273, done.\u001b[K\n",
            "remote: Counting objects: 100% (273/273), done.\u001b[K\n",
            "remote: Compressing objects: 100% (214/214), done.\u001b[K\n",
            "remote: Total 273 (delta 127), reused 163 (delta 58), pack-reused 0\u001b[K\n",
            "Receiving objects: 100% (273/273), 10.59 MiB | 16.61 MiB/s, done.\n",
            "Resolving deltas: 100% (127/127), done.\n",
            "Found GPU: Tesla T4.\n"
          ]
        }
      ],
      "source": [
        "import numpy as np\n",
        "import pandas as pd\n",
        "import matplotlib.pyplot as plt\n",
        "import seaborn as sns\n",
        "import os\n",
        "import sys\n",
        "import datetime\n",
        "import json\n",
        "import tensorflow as tf\n",
        "from tensorflow.keras.optimizers import Adam, SGD\n",
        "from tensorflow.keras.optimizers.experimental import AdamW\n",
        "from tensorflow.keras.losses import SparseCategoricalCrossentropy, MeanSquaredError\n",
        "from tensorflow.keras.metrics import SparseCategoricalAccuracy\n",
        "from tqdm.keras import TqdmCallback\n",
        "\n",
        "sns.set_theme()\n",
        "\n",
        "try: # are we in Colab?\n",
        "    import google.colab\n",
        "    COMPUTE_ENV = 'colab'\n",
        "    print('Running in Colab.')\n",
        "    google.colab.drive.mount('/content/gdrive')\n",
        "    OUTPUT_DIR = \"/content/gdrive/My Drive/output\"\n",
        "    !git clone https://github.com/FriedChips/dl_basics.git\n",
        "    sys.path.insert(0,'/content/dl_basics')\n",
        "except: # if not...\n",
        "    if \"kaggle\" in os.environ[\"PWD\"]: # are we in Kaggle?\n",
        "        COMPUTE_ENV = 'kaggle'\n",
        "        print('Running in Kaggle.')\n",
        "        !git clone https://github.com/FriedChips/dl_basics.git\n",
        "        sys.path.insert(0,'../working/dl_basics')    \n",
        "        OUTPUT_DIR = \"./\"\n",
        "    else: # we're local\n",
        "        COMPUTE_ENV = os.uname()[1]\n",
        "        print(f\"Running locally on {COMPUTE_ENV}.\")\n",
        "        sys.path.insert(0,'./../')\n",
        "        OUTPUT_DIR = \"../output/\"\n",
        "\n",
        "for gpu in tf.config.list_physical_devices(\"GPU\"):\n",
        "    print(f\"Found GPU: {tf.config.experimental.get_device_details(gpu)['device_name']}.\")"
      ]
    },
    {
      "cell_type": "code",
      "execution_count": 2,
      "metadata": {
        "id": "9kRbLzj4Sc5S"
      },
      "outputs": [],
      "source": [
        "import models\n",
        "import utils"
      ]
    },
    {
      "cell_type": "code",
      "execution_count": 3,
      "metadata": {
        "colab": {
          "base_uri": "https://localhost:8080/"
        },
        "id": "jazWXg9PSc5T",
        "outputId": "715db715-00f1-4a36-b2c2-52750a8a0057"
      },
      "outputs": [
        {
          "output_type": "stream",
          "name": "stdout",
          "text": [
            "Downloading data from https://storage.googleapis.com/tensorflow/tf-keras-datasets/mnist.npz\n",
            "11490434/11490434 [==============================] - 1s 0us/step\n"
          ]
        },
        {
          "output_type": "execute_result",
          "data": {
            "text/plain": [
              "((50000, 784), (50000,), (10000, 784), (10000,))"
            ]
          },
          "metadata": {},
          "execution_count": 3
        }
      ],
      "source": [
        "(x_mnist_tr, y_mnist_tr), (x_mnist_te, y_mnist_te) = tf.keras.datasets.mnist.load_data()\n",
        "#x_mnist_tr = np.expand_dims(x_mnist_tr.astype(np.float32) / 255.0, -1)\n",
        "#x_mnist_te = np.expand_dims(x_mnist_te.astype(np.float32)  / 255.0, -1)\n",
        "x_mnist_tr = (x_mnist_tr.astype(np.float32) / 255.0).reshape(-1, 28*28)\n",
        "x_mnist_te = (x_mnist_te.astype(np.float32) / 255.0).reshape(-1, 28*28)\n",
        "\n",
        "x_train = x_mnist_tr[:50000]\n",
        "y_train = y_mnist_tr[:50000]\n",
        "x_val   = x_mnist_tr[50000:]\n",
        "y_val   = y_mnist_tr[50000:]\n",
        "\n",
        "x_train.shape, y_train.shape, x_val.shape, y_val.shape"
      ]
    },
    {
      "cell_type": "code",
      "execution_count": 11,
      "metadata": {
        "colab": {
          "base_uri": "https://localhost:8080/"
        },
        "id": "waHGL1srSc5T",
        "outputId": "8ff6d02a-fdb0-45c7-c0e8-cadc247f3509"
      },
      "outputs": [
        {
          "output_type": "stream",
          "name": "stdout",
          "text": [
            "Model: \"mlp_01\"\n",
            "_________________________________________________________________\n",
            " Layer (type)                Output Shape              Param #   \n",
            "=================================================================\n",
            " input (InputLayer)          [(None, 784)]             0         \n",
            "                                                                 \n",
            " dense_0 (Dense)             (None, 1024)              802816    \n",
            "                                                                 \n",
            " tf.nn.relu (TFOpLambda)     (None, 1024)              0         \n",
            "                                                                 \n",
            " dense_1 (Dense)             (None, 10)                10240     \n",
            "                                                                 \n",
            "=================================================================\n",
            "Total params: 813,056\n",
            "Trainable params: 813,056\n",
            "Non-trainable params: 0\n",
            "_________________________________________________________________\n",
            "Log dir : /content/gdrive/My Drive/output/mlp_01-230417-102756\n"
          ]
        }
      ],
      "source": [
        "# init new run\n",
        "P = { \"training_data\" : \"mnist50-10\" }\n",
        "P[\"random_seed\"] = 42\n",
        "\n",
        "P[\"model_name\"] = \"mlp_01\"\n",
        "P[\"model_build_params\"] = {\n",
        "    \"input_shape\" : (28*28,),\n",
        "    \"layer_units\" : [ 1024, 10 ],\n",
        "    \"activations\" : [ \"relu\", \"linear\" ],\n",
        "    \"use_bias\" : False,\n",
        "    \"regularizer\" : \"L2(0.01)\"\n",
        "}\n",
        "\n",
        "utils.tf_keras_random_seed(P[\"random_seed\"])\n",
        "\n",
        "model = eval(\"models.\" + P[\"model_name\"])(**P[\"model_build_params\"])\n",
        "model.summary()\n",
        "\n",
        "P[\"loss\"] = \"SparseCategoricalCrossentropy(from_logits=True)\"\n",
        "#P[\"optimizer\"] = \"AdamW(1e-3, weight_decay=1)\"\n",
        "P[\"optimizer\"] = \"SGD(1e-3, momentum=0.9)\"\n",
        "P[\"metrics\"] = [ \"accuracy\" ]\n",
        "model.compile(loss = eval(P[\"loss\"]), optimizer = eval(P[\"optimizer\"]), metrics = P[\"metrics\"])\n",
        "\n",
        "P[\"run_dir\"] = model.name + datetime.datetime.now().strftime('-%y%m%d-%H%M%S')\n",
        "LOG_DIR = os.path.join(OUTPUT_DIR, P[\"run_dir\"])\n",
        "\n",
        "print(\"Log dir :\", LOG_DIR)\n",
        "\n",
        "run = utils.TrainingRun()\n",
        "weight_norm_logger = utils.LogWeightNorms()\n",
        "weight_logger = utils.SaveWeightsPower2(LOG_DIR)"
      ]
    },
    {
      "cell_type": "code",
      "execution_count": 12,
      "metadata": {
        "colab": {
          "base_uri": "https://localhost:8080/",
          "height": 49,
          "referenced_widgets": [
            "a8e2e80a3c344b86afdc788eeb9a20cf",
            "7ceb0d84faab441ca794c69b0bf21b0f",
            "13a9a26fab7f4052bd2792988c329c2a",
            "1e6e9b80675541a08d3fffaea71cc563",
            "e785a45b61bf45d2966a840ac2e59c97",
            "5e872769c23a49d69fd8a4055c264146",
            "791577764b064e92b6d74708ab876ec8",
            "70bc37bbe8c44320995392f1ae453f5e",
            "2ea9c3416ccc49579295b1154eadf494",
            "aa3d27e8cbd64b308bf9b7ddba4c9cbb",
            "4beba93d352e47e393cf6f762ec3dbd0"
          ]
        },
        "id": "-IJSW5stSc5U",
        "outputId": "0a7e1069-baab-4462-da83-24eea50cb855"
      },
      "outputs": [
        {
          "output_type": "display_data",
          "data": {
            "text/plain": [
              "0epoch [00:00, ?epoch/s]"
            ],
            "application/vnd.jupyter.widget-view+json": {
              "version_major": 2,
              "version_minor": 0,
              "model_id": "a8e2e80a3c344b86afdc788eeb9a20cf"
            }
          },
          "metadata": {}
        }
      ],
      "source": [
        "NUM_EPOCHS = 512 * 2\n",
        "#lr_sched = utils.Schedule_ExpCos_Segments([[-3,-3, NUM_EPOCHS]])\n",
        "\n",
        "history = model.fit(\n",
        "    x_train, y_train,\n",
        "    epochs = NUM_EPOCHS,\n",
        "    batch_size = 1000,\n",
        "    validation_data = (x_val, y_val),\n",
        "    callbacks=[\n",
        "        TqdmCallback(verbose=0),\n",
        "        #tf.keras.callbacks.LearningRateScheduler(lr_sched.scheduler),\n",
        "        weight_norm_logger,\n",
        "        weight_logger,\n",
        "    ],        \n",
        "    verbose=0)\n",
        "\n",
        "run.update_history(history)"
      ]
    },
    {
      "cell_type": "code",
      "execution_count": 14,
      "metadata": {
        "colab": {
          "base_uri": "https://localhost:8080/",
          "height": 279
        },
        "id": "d5IcAVmMSc5V",
        "outputId": "00490e78-a508-458c-9273-aa43de8aeefc"
      },
      "outputs": [
        {
          "output_type": "display_data",
          "data": {
            "text/plain": [
              "<Figure size 2500x300 with 3 Axes>"
            ],
            "image/png": "[encoded data removed]"
          },
          "metadata": {}
        }
      ],
      "source": [
        "fig, axs = plt.subplots(1, 3, figsize=(25,3))\n",
        "\n",
        "sns.lineplot(data=run.history[[\"loss\", \"val_loss\"]], ax=axs[0], dashes=False);\n",
        "axs[0].set_yscale(\"log\");\n",
        "\n",
        "sns.lineplot(data=run.history[[\"accuracy\", \"val_accuracy\"]], ax=axs[1], dashes=False);\n",
        "\n",
        "sns.lineplot(data=weight_norm_logger.norms_dataframe(), ax=axs[2], dashes=False);"
      ]
    },
    {
      "cell_type": "code",
      "execution_count": 15,
      "metadata": {
        "id": "orakCTxiXOdh"
      },
      "outputs": [],
      "source": [
        "run.save_state(LOG_DIR, P, model)\n",
        "weight_norm_logger.norms_to_csv(LOG_DIR)"
      ]
    },
    {
      "cell_type": "code",
      "execution_count": null,
      "metadata": {
        "id": "Dk6FxiyjXOdg"
      },
      "outputs": [],
      "source": [
        "#P, model = run.load_state(\"../output/gru_01-230407-220913\")"
      ]
    },
    {
      "cell_type": "code",
      "source": [
        "def plot_matrix(m, ax, scale=1.0):\n",
        "    mmax = np.max(np.abs(m)) / scale\n",
        "    ax.imshow(m, cmap=\"bwr\", vmin=-mmax, vmax=mmax, interpolation=\"nearest\")\n",
        "    ax.grid(False)"
      ],
      "metadata": {
        "id": "vdehjCkeKBpb"
      },
      "execution_count": 9,
      "outputs": []
    },
    {
      "cell_type": "code",
      "source": [
        "fig, axs = plt.subplots(1, 16, figsize=(30,5))\n",
        "\n",
        "w = model.get_weights()[0]\n",
        "\n",
        "for i in range(16):\n",
        "    plot_matrix(w.reshape(28,28,-1)[:,:,i+32], axs[i], scale=1)"
      ],
      "metadata": {
        "id": "SOWBJBY9J8Ph",
        "outputId": "c7f4ed7b-988a-49bf-81c1-cf1178ade35e",
        "colab": {
          "base_uri": "https://localhost:8080/",
          "height": 144
        }
      },
      "execution_count": 16,
      "outputs": [
        {
          "output_type": "display_data",
          "data": {
            "text/plain": [
              "<Figure size 3000x500 with 16 Axes>"
            ],
            "image/png": "[encoded data removed]"
          },
          "metadata": {}
        }
      ]
    },
    {
      "cell_type": "code",
      "source": [],
      "metadata": {
        "id": "MA2pMsVUKaXQ"
      },
      "execution_count": null,
      "outputs": []
    }
  ],
  "metadata": {
    "accelerator": "GPU",
    "colab": {
      "provenance": []
    },
    "gpuClass": "standard",
    "kernelspec": {
      "display_name": "dl_basics",
      "language": "python",
      "name": "python3"
    },
    "language_info": {
      "codemirror_mode": {
        "name": "ipython",
        "version": 3
      },
      "file_extension": ".py",
      "mimetype": "text/x-python",
      "name": "python",
      "nbconvert_exporter": "python",
      "pygments_lexer": "ipython3",
      "version": "3.10.10"
    },
    "orig_nbformat": 4,
    "widgets": {
      "application/vnd.jupyter.widget-state+json": {
        "a8e2e80a3c344b86afdc788eeb9a20cf": {
          "model_module": "@jupyter-widgets/controls",
          "model_name": "HBoxModel",
          "model_module_version": "1.5.0",
          "state": {
            "_dom_classes": [],
            "_model_module": "@jupyter-widgets/controls",
            "_model_module_version": "1.5.0",
            "_model_name": "HBoxModel",
            "_view_count": null,
            "_view_module": "@jupyter-widgets/controls",
            "_view_module_version": "1.5.0",
            "_view_name": "HBoxView",
            "box_style": "",
            "children": [
              "IPY_MODEL_7ceb0d84faab441ca794c69b0bf21b0f",
              "IPY_MODEL_13a9a26fab7f4052bd2792988c329c2a",
              "IPY_MODEL_1e6e9b80675541a08d3fffaea71cc563"
            ],
            "layout": "IPY_MODEL_e785a45b61bf45d2966a840ac2e59c97"
          }
        },
        "7ceb0d84faab441ca794c69b0bf21b0f": {
          "model_module": "@jupyter-widgets/controls",
          "model_name": "HTMLModel",
          "model_module_version": "1.5.0",
          "state": {
            "_dom_classes": [],
            "_model_module": "@jupyter-widgets/controls",
            "_model_module_version": "1.5.0",
            "_model_name": "HTMLModel",
            "_view_count": null,
            "_view_module": "@jupyter-widgets/controls",
            "_view_module_version": "1.5.0",
            "_view_name": "HTMLView",
            "description": "",
            "description_tooltip": null,
            "layout": "IPY_MODEL_5e872769c23a49d69fd8a4055c264146",
            "placeholder": "​",
            "style": "IPY_MODEL_791577764b064e92b6d74708ab876ec8",
            "value": "100%"
          }
        },
        "13a9a26fab7f4052bd2792988c329c2a": {
          "model_module": "@jupyter-widgets/controls",
          "model_name": "FloatProgressModel",
          "model_module_version": "1.5.0",
          "state": {
            "_dom_classes": [],
            "_model_module": "@jupyter-widgets/controls",
            "_model_module_version": "1.5.0",
            "_model_name": "FloatProgressModel",
            "_view_count": null,
            "_view_module": "@jupyter-widgets/controls",
            "_view_module_version": "1.5.0",
            "_view_name": "ProgressView",
            "bar_style": "success",
            "description": "",
            "description_tooltip": null,
            "layout": "IPY_MODEL_70bc37bbe8c44320995392f1ae453f5e",
            "max": 1024,
            "min": 0,
            "orientation": "horizontal",
            "style": "IPY_MODEL_2ea9c3416ccc49579295b1154eadf494",
            "value": 1024
          }
        },
        "1e6e9b80675541a08d3fffaea71cc563": {
          "model_module": "@jupyter-widgets/controls",
          "model_name": "HTMLModel",
          "model_module_version": "1.5.0",
          "state": {
            "_dom_classes": [],
            "_model_module": "@jupyter-widgets/controls",
            "_model_module_version": "1.5.0",
            "_model_name": "HTMLModel",
            "_view_count": null,
            "_view_module": "@jupyter-widgets/controls",
            "_view_module_version": "1.5.0",
            "_view_name": "HTMLView",
            "description": "",
            "description_tooltip": null,
            "layout": "IPY_MODEL_aa3d27e8cbd64b308bf9b7ddba4c9cbb",
            "placeholder": "​",
            "style": "IPY_MODEL_4beba93d352e47e393cf6f762ec3dbd0",
            "value": " 1024/1024 [04:41&lt;00:00,  3.99epoch/s, loss=0.707, accuracy=0.916, val_loss=0.681, val_accuracy=0.924]"
          }
        },
        "e785a45b61bf45d2966a840ac2e59c97": {
          "model_module": "@jupyter-widgets/base",
          "model_name": "LayoutModel",
          "model_module_version": "1.2.0",
          "state": {
            "_model_module": "@jupyter-widgets/base",
            "_model_module_version": "1.2.0",
            "_model_name": "LayoutModel",
            "_view_count": null,
            "_view_module": "@jupyter-widgets/base",
            "_view_module_version": "1.2.0",
            "_view_name": "LayoutView",
            "align_content": null,
            "align_items": null,
            "align_self": null,
            "border": null,
            "bottom": null,
            "display": null,
            "flex": null,
            "flex_flow": null,
            "grid_area": null,
            "grid_auto_columns": null,
            "grid_auto_flow": null,
            "grid_auto_rows": null,
            "grid_column": null,
            "grid_gap": null,
            "grid_row": null,
            "grid_template_areas": null,
            "grid_template_columns": null,
            "grid_template_rows": null,
            "height": null,
            "justify_content": null,
            "justify_items": null,
            "left": null,
            "margin": null,
            "max_height": null,
            "max_width": null,
            "min_height": null,
            "min_width": null,
            "object_fit": null,
            "object_position": null,
            "order": null,
            "overflow": null,
            "overflow_x": null,
            "overflow_y": null,
            "padding": null,
            "right": null,
            "top": null,
            "visibility": null,
            "width": null
          }
        },
        "5e872769c23a49d69fd8a4055c264146": {
          "model_module": "@jupyter-widgets/base",
          "model_name": "LayoutModel",
          "model_module_version": "1.2.0",
          "state": {
            "_model_module": "@jupyter-widgets/base",
            "_model_module_version": "1.2.0",
            "_model_name": "LayoutModel",
            "_view_count": null,
            "_view_module": "@jupyter-widgets/base",
            "_view_module_version": "1.2.0",
            "_view_name": "LayoutView",
            "align_content": null,
            "align_items": null,
            "align_self": null,
            "border": null,
            "bottom": null,
            "display": null,
            "flex": null,
            "flex_flow": null,
            "grid_area": null,
            "grid_auto_columns": null,
            "grid_auto_flow": null,
            "grid_auto_rows": null,
            "grid_column": null,
            "grid_gap": null,
            "grid_row": null,
            "grid_template_areas": null,
            "grid_template_columns": null,
            "grid_template_rows": null,
            "height": null,
            "justify_content": null,
            "justify_items": null,
            "left": null,
            "margin": null,
            "max_height": null,
            "max_width": null,
            "min_height": null,
            "min_width": null,
            "object_fit": null,
            "object_position": null,
            "order": null,
            "overflow": null,
            "overflow_x": null,
            "overflow_y": null,
            "padding": null,
            "right": null,
            "top": null,
            "visibility": null,
            "width": null
          }
        },
        "791577764b064e92b6d74708ab876ec8": {
          "model_module": "@jupyter-widgets/controls",
          "model_name": "DescriptionStyleModel",
          "model_module_version": "1.5.0",
          "state": {
            "_model_module": "@jupyter-widgets/controls",
            "_model_module_version": "1.5.0",
            "_model_name": "DescriptionStyleModel",
            "_view_count": null,
            "_view_module": "@jupyter-widgets/base",
            "_view_module_version": "1.2.0",
            "_view_name": "StyleView",
            "description_width": ""
          }
        },
        "70bc37bbe8c44320995392f1ae453f5e": {
          "model_module": "@jupyter-widgets/base",
          "model_name": "LayoutModel",
          "model_module_version": "1.2.0",
          "state": {
            "_model_module": "@jupyter-widgets/base",
            "_model_module_version": "1.2.0",
            "_model_name": "LayoutModel",
            "_view_count": null,
            "_view_module": "@jupyter-widgets/base",
            "_view_module_version": "1.2.0",
            "_view_name": "LayoutView",
            "align_content": null,
            "align_items": null,
            "align_self": null,
            "border": null,
            "bottom": null,
            "display": null,
            "flex": null,
            "flex_flow": null,
            "grid_area": null,
            "grid_auto_columns": null,
            "grid_auto_flow": null,
            "grid_auto_rows": null,
            "grid_column": null,
            "grid_gap": null,
            "grid_row": null,
            "grid_template_areas": null,
            "grid_template_columns": null,
            "grid_template_rows": null,
            "height": null,
            "justify_content": null,
            "justify_items": null,
            "left": null,
            "margin": null,
            "max_height": null,
            "max_width": null,
            "min_height": null,
            "min_width": null,
            "object_fit": null,
            "object_position": null,
            "order": null,
            "overflow": null,
            "overflow_x": null,
            "overflow_y": null,
            "padding": null,
            "right": null,
            "top": null,
            "visibility": null,
            "width": null
          }
        },
        "2ea9c3416ccc49579295b1154eadf494": {
          "model_module": "@jupyter-widgets/controls",
          "model_name": "ProgressStyleModel",
          "model_module_version": "1.5.0",
          "state": {
            "_model_module": "@jupyter-widgets/controls",
            "_model_module_version": "1.5.0",
            "_model_name": "ProgressStyleModel",
            "_view_count": null,
            "_view_module": "@jupyter-widgets/base",
            "_view_module_version": "1.2.0",
            "_view_name": "StyleView",
            "bar_color": null,
            "description_width": ""
          }
        },
        "aa3d27e8cbd64b308bf9b7ddba4c9cbb": {
          "model_module": "@jupyter-widgets/base",
          "model_name": "LayoutModel",
          "model_module_version": "1.2.0",
          "state": {
            "_model_module": "@jupyter-widgets/base",
            "_model_module_version": "1.2.0",
            "_model_name": "LayoutModel",
            "_view_count": null,
            "_view_module": "@jupyter-widgets/base",
            "_view_module_version": "1.2.0",
            "_view_name": "LayoutView",
            "align_content": null,
            "align_items": null,
            "align_self": null,
            "border": null,
            "bottom": null,
            "display": null,
            "flex": null,
            "flex_flow": null,
            "grid_area": null,
            "grid_auto_columns": null,
            "grid_auto_flow": null,
            "grid_auto_rows": null,
            "grid_column": null,
            "grid_gap": null,
            "grid_row": null,
            "grid_template_areas": null,
            "grid_template_columns": null,
            "grid_template_rows": null,
            "height": null,
            "justify_content": null,
            "justify_items": null,
            "left": null,
            "margin": null,
            "max_height": null,
            "max_width": null,
            "min_height": null,
            "min_width": null,
            "object_fit": null,
            "object_position": null,
            "order": null,
            "overflow": null,
            "overflow_x": null,
            "overflow_y": null,
            "padding": null,
            "right": null,
            "top": null,
            "visibility": null,
            "width": null
          }
        },
        "4beba93d352e47e393cf6f762ec3dbd0": {
          "model_module": "@jupyter-widgets/controls",
          "model_name": "DescriptionStyleModel",
          "model_module_version": "1.5.0",
          "state": {
            "_model_module": "@jupyter-widgets/controls",
            "_model_module_version": "1.5.0",
            "_model_name": "DescriptionStyleModel",
            "_view_count": null,
            "_view_module": "@jupyter-widgets/base",
            "_view_module_version": "1.2.0",
            "_view_name": "StyleView",
            "description_width": ""
          }
        }
      }
    }
  },
  "nbformat": 4,
  "nbformat_minor": 0
}