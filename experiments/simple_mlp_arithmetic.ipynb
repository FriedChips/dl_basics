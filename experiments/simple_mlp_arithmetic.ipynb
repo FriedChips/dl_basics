{
  "cells": [
    {
      "cell_type": "code",
      "execution_count": 1,
      "metadata": {
        "colab": {
          "base_uri": "https://localhost:8080/"
        },
        "id": "yxFdHosMSc5M",
        "outputId": "1b4257e5-bd5c-4498-9057-b43ec120ee28"
      },
      "outputs": [
        {
          "name": "stderr",
          "output_type": "stream",
          "text": [
            "2023-04-09 16:38:43.636230: I tensorflow/core/platform/cpu_feature_guard.cc:193] This TensorFlow binary is optimized with oneAPI Deep Neural Network Library (oneDNN) to use the following CPU instructions in performance-critical operations:  SSE4.1 SSE4.2 AVX\n",
            "To enable them in other operations, rebuild TensorFlow with the appropriate compiler flags.\n"
          ]
        },
        {
          "name": "stdout",
          "output_type": "stream",
          "text": [
            "Running locally on beta.\n"
          ]
        }
      ],
      "source": [
        "import numpy as np\n",
        "import pandas as pd\n",
        "import matplotlib.pyplot as plt\n",
        "import seaborn as sns\n",
        "import os\n",
        "import sys\n",
        "import datetime\n",
        "import json\n",
        "import tensorflow as tf\n",
        "from tqdm.keras import TqdmCallback\n",
        "\n",
        "sns.set_theme()\n",
        "\n",
        "try: # are we in Colab?\n",
        "    import google.colab\n",
        "    COMPUTE_ENV = 'colab'\n",
        "    print('Running in Colab.')\n",
        "    OUTPUT_DIR = \"./output/\"\n",
        "    #google.colab.drive.mount('/content/gdrive')\n",
        "    #os.chdir('/content/gdrive/My Drive/projects/xxx')\n",
        "    !git clone https://github.com/FriedChips/dl_basics.git\n",
        "    sys.path.insert(0,'/content/dl_basics')\n",
        "except: # if not...\n",
        "    if \"kaggle\" in os.environ[\"PWD\"]: # are we in Kaggle?\n",
        "        COMPUTE_ENV = 'kaggle'\n",
        "        print('Running in Kaggle.')\n",
        "        OUTPUT_DIR = \"./\"\n",
        "    else: # we're local\n",
        "        COMPUTE_ENV = os.uname()[1]\n",
        "        print(f\"Running locally on {COMPUTE_ENV}.\")\n",
        "        sys.path.insert(0,'./../')\n",
        "        OUTPUT_DIR = \"../output/\"\n",
        "\n",
        "for gpu in tf.config.list_physical_devices(\"GPU\"):\n",
        "    print(f\"Found GPU: {tf.config.experimental.get_device_details(gpu)['device_name']}.\")"
      ]
    },
    {
      "cell_type": "code",
      "execution_count": 2,
      "metadata": {
        "id": "9kRbLzj4Sc5S"
      },
      "outputs": [],
      "source": [
        "from data_gen.synth_sequences import SynthNNumbers\n",
        "import models\n",
        "import utils"
      ]
    },
    {
      "cell_type": "code",
      "execution_count": 56,
      "metadata": {
        "colab": {
          "base_uri": "https://localhost:8080/"
        },
        "id": "jazWXg9PSc5T",
        "outputId": "abd4d525-bde0-4c70-aefd-6fdb467d1b5f"
      },
      "outputs": [
        {
          "name": "stdout",
          "output_type": "stream",
          "text": [
            "(32, 2) float32 (32,) float32\n"
          ]
        }
      ],
      "source": [
        "P = {}\n",
        "\n",
        "P[\"SynthNNumbers\"] = {\n",
        "    \"batch_size\" : 32,\n",
        "    \"n\" : 2,\n",
        "    \"operation\" : \"multiply\",\n",
        "    \"limit\" : 1,\n",
        "    \"distribution\" : \"normal\",\n",
        "    \"seed\" : 42,\n",
        "}\n",
        "\n",
        "data_gen = SynthNNumbers(**P[\"SynthNNumbers\"])\n",
        "x, y = data_gen.__getitem__(1)\n",
        "print(x.shape, x.dtype, y.shape, y.dtype)"
      ]
    },
    {
      "cell_type": "code",
      "execution_count": 41,
      "metadata": {},
      "outputs": [],
      "source": [
        "class Quadratic(tf.keras.layers.Layer):\n",
        "    \n",
        "    def __init__(self, units=32):\n",
        "        super().__init__()\n",
        "        self.units = units\n",
        "\n",
        "    def build(self, input_shape):\n",
        "        self.b = self.add_weight(\n",
        "            shape=(self.units,), initializer=\"zeros\", trainable=True\n",
        "        )\n",
        "        self.w = self.add_weight(\n",
        "            shape=(self.units, input_shape[-1]),\n",
        "            initializer=\"glorot_uniform\",\n",
        "            trainable=True,\n",
        "        )\n",
        "        self.u = self.add_weight(\n",
        "            shape=(self.units, input_shape[-1], input_shape[-1]),\n",
        "            initializer=\"glorot_uniform\",\n",
        "            trainable=True,\n",
        "        )\n",
        "\n",
        "    def call(self, x):\n",
        "        y = self.b\n",
        "        y = y + tf.einsum(\"...ij,...j -> ...i\", self.w, x)\n",
        "        y = y + tf.einsum(\"...ijk,...j,...k ->...i\", self.u, x, x)\n",
        "        #y = tf.matmul(inputs, self.w) + self.b\n",
        "        return y\n"
      ]
    },
    {
      "cell_type": "code",
      "execution_count": 42,
      "metadata": {},
      "outputs": [
        {
          "data": {
            "text/plain": [
              "<tf.Tensor: shape=(1,), dtype=float32, numpy=array([-1.1809622], dtype=float32)>"
            ]
          },
          "execution_count": 42,
          "metadata": {},
          "output_type": "execute_result"
        }
      ],
      "source": [
        "ll = Quadratic(1)\n",
        "ll(tf.random.uniform([2]))"
      ]
    },
    {
      "cell_type": "code",
      "execution_count": 43,
      "metadata": {},
      "outputs": [
        {
          "data": {
            "text/plain": [
              "[(1,), (1, 2), (1, 2, 2)]"
            ]
          },
          "execution_count": 43,
          "metadata": {},
          "output_type": "execute_result"
        }
      ],
      "source": [
        "[ w.shape for w in ll.get_weights() ]"
      ]
    },
    {
      "cell_type": "code",
      "execution_count": 57,
      "metadata": {
        "colab": {
          "base_uri": "https://localhost:8080/"
        },
        "id": "waHGL1srSc5T",
        "outputId": "aa841e33-8db8-4510-fe47-f85c89c9fbd9"
      },
      "outputs": [
        {
          "name": "stdout",
          "output_type": "stream",
          "text": [
            "Model: \"sequential_3\"\n",
            "_________________________________________________________________\n",
            " Layer (type)                Output Shape              Param #   \n",
            "=================================================================\n",
            " quadratic_6 (Quadratic)     (None, 1)                 7         \n",
            "                                                                 \n",
            "=================================================================\n",
            "Total params: 7\n",
            "Trainable params: 7\n",
            "Non-trainable params: 0\n",
            "_________________________________________________________________\n",
            "Run dir : sequential_3-230409-170844\n"
          ]
        }
      ],
      "source": [
        "# init new run\n",
        "\n",
        "'''\n",
        "P[\"model_name\"] = \"gru_01\"\n",
        "P[\"model_build_params\"] = {\n",
        "    \"gru_units\" : 32,\n",
        "    \"num_outputs\" : 1,\n",
        "    \"input_shape\" : (P[\"SynthMathData\"][\"seq_len\"], 2),\n",
        "    \"num_hidden_gru\" : 3,\n",
        "    \"use_embedding\" : False,\n",
        "    \"return_final_hidden\" : True,\n",
        "}\n",
        "\n",
        "P[\"model_name\"] = \"mlp_01\"\n",
        "P[\"model_build_params\"] = {\n",
        "    \"input_shape\" : (P[\"SynthNNumbers\"][\"n\"],),\n",
        "    \"layer_units\" : [ 1 ],\n",
        "    \"activations\" : [ \"linear\" ],\n",
        "}\n",
        "\n",
        "\n",
        "model = eval(\"models.\" + P[\"model_name\"])(**P[\"model_build_params\"])\n",
        "'''\n",
        "\n",
        "model = tf.keras.Sequential([\n",
        "    tf.keras.Input(shape=(P[\"SynthNNumbers\"][\"n\"],)),\n",
        "    Quadratic(1)\n",
        "])\n",
        "\n",
        "model.compile(\n",
        "    loss = \"mse\",\n",
        "    optimizer = tf.keras.optimizers.Adam(learning_rate=1e-2),\n",
        "    metrics = [ \"mae\" ]\n",
        ")\n",
        "\n",
        "model.summary()\n",
        "\n",
        "P[\"run_dir\"] = model.name + datetime.datetime.now().strftime('-%y%m%d-%H%M%S')\n",
        "print(\"Run dir :\", P[\"run_dir\"])\n",
        "\n",
        "run = utils.TrainingRun()"
      ]
    },
    {
      "cell_type": "code",
      "execution_count": 58,
      "metadata": {
        "colab": {
          "base_uri": "https://localhost:8080/",
          "height": 49,
          "referenced_widgets": [
            "56b37e1be97848138073b2fe88b434c5",
            "f19266f0695f47edb2fff7b6df860845",
            "0f50bf4567b64e9f8055ede771dbfa5c",
            "41a7170a32964cc1bc2c2b48ee4b0958",
            "6ac46ea9363b4d17983a716c5666e1ea",
            "4e06176bbccd4be99bef3b8e50c6df6b",
            "4887c8f8b5c348c685b76e1f06b2946f",
            "77372ed936f6459aa75dde0ed22a8a54",
            "ea031814282e4af59237051978d026f6",
            "1e3d09a8e5f74691bb8952c1859ef473",
            "9a74bd82e7ef407f8dec24f9c30f80f2"
          ]
        },
        "id": "-IJSW5stSc5U",
        "outputId": "da585c24-3733-491e-e821-19c26dce297d"
      },
      "outputs": [
        {
          "data": {
            "application/vnd.jupyter.widget-view+json": {
              "model_id": "24836534a7a646ba8a49000938d9bb8e",
              "version_major": 2,
              "version_minor": 0
            },
            "text/plain": [
              "0epoch [00:00, ?epoch/s]"
            ]
          },
          "metadata": {},
          "output_type": "display_data"
        }
      ],
      "source": [
        "NUM_EPOCHS = 1024\n",
        "#lr_sched = utils.Schedule_ExpCos_Segments([[-3,-3, NUM_EPOCHS]])\n",
        "\n",
        "history = model.fit(\n",
        "    data_gen,\n",
        "    epochs = NUM_EPOCHS,\n",
        "    callbacks=[\n",
        "        TqdmCallback(verbose=0),\n",
        "        #tf.keras.callbacks.LearningRateScheduler(lr_sched.scheduler),\n",
        "    ],        \n",
        "    verbose=0)\n",
        "\n",
        "run.update_history(history)"
      ]
    },
    {
      "cell_type": "code",
      "execution_count": 59,
      "metadata": {
        "colab": {
          "base_uri": "https://localhost:8080/",
          "height": 325
        },
        "id": "d5IcAVmMSc5V",
        "outputId": "8a781215-f719-4703-970e-52a8c54d771c"
      },
      "outputs": [
        {
          "data": {
            "image/png": "[encoded data removed]",
            "text/plain": [
              "<Figure size 1500x300 with 3 Axes>"
            ]
          },
          "metadata": {},
          "output_type": "display_data"
        }
      ],
      "source": [
        "fig, axs = plt.subplots(1,3, figsize=(15,3))\n",
        "\n",
        "sns.lineplot(data=run.history[[\"loss\"]], ax=axs[0], dashes=False);\n",
        "axs[0].set_yscale(\"log\");\n",
        "\n",
        "sns.lineplot(data=run.history[[\"mae\"]], ax=axs[1], dashes=False);\n",
        "axs[1].set_ylim(0,0.2);\n",
        "\n",
        "#sns.lineplot(data=run.history[[\"lr\"]], ax=axs[2], dashes=False);"
      ]
    },
    {
      "cell_type": "code",
      "execution_count": 13,
      "metadata": {
        "id": "vLFEkFbKYZlE"
      },
      "outputs": [],
      "source": [
        "model.compile(\n",
        "    loss = \"mse\",\n",
        "    optimizer = tf.keras.optimizers.Adam(learning_rate=1e-5),\n",
        "    metrics = [ \"mae\" ]\n",
        ")"
      ]
    },
    {
      "cell_type": "code",
      "execution_count": null,
      "metadata": {
        "id": "orakCTxiXOdh"
      },
      "outputs": [],
      "source": [
        "run.save_state(os.path.join(OUTPUT_DIR, P[\"run_dir\"]), P, model)"
      ]
    },
    {
      "cell_type": "code",
      "execution_count": 60,
      "metadata": {
        "colab": {
          "base_uri": "https://localhost:8080/",
          "height": 451
        },
        "id": "UDrfcMhdZZHw",
        "outputId": "41042768-6148-4ebe-9216-f7a63d4fe4d5"
      },
      "outputs": [
        {
          "name": "stdout",
          "output_type": "stream",
          "text": [
            "1/1 [==============================] - 0s 69ms/step\n"
          ]
        },
        {
          "data": {
            "text/plain": [
              "[<matplotlib.lines.Line2D at 0x7f53ca688f10>]"
            ]
          },
          "execution_count": 60,
          "metadata": {},
          "output_type": "execute_result"
        },
        {
          "data": {
            "image/png": "[encoded data removed]",
            "text/plain": [
              "<Figure size 640x480 with 1 Axes>"
            ]
          },
          "metadata": {},
          "output_type": "display_data"
        }
      ],
      "source": [
        "y_pred = model.predict(x)\n",
        "plt.plot(y_pred)\n",
        "plt.plot(y)"
      ]
    },
    {
      "cell_type": "code",
      "execution_count": 61,
      "metadata": {
        "id": "eCB1PWCiZjgX"
      },
      "outputs": [
        {
          "data": {
            "text/plain": [
              "[array([1.5542525e-08], dtype=float32),\n",
              " array([[1.0697528e-08, 4.7958362e-09]], dtype=float32),\n",
              " array([[[-1.03959135e-08,  5.24945498e-01],\n",
              "         [ 4.75054324e-01,  1.39913492e-09]]], dtype=float32)]"
            ]
          },
          "execution_count": 61,
          "metadata": {},
          "output_type": "execute_result"
        }
      ],
      "source": [
        "model.get_weights()"
      ]
    },
    {
      "cell_type": "code",
      "execution_count": null,
      "metadata": {},
      "outputs": [],
      "source": []
    }
  ],
  "metadata": {
    "accelerator": "GPU",
    "colab": {
      "provenance": []
    },
    "gpuClass": "standard",
    "kernelspec": {
      "display_name": "dl_basics",
      "language": "python",
      "name": "python3"
    },
    "language_info": {
      "codemirror_mode": {
        "name": "ipython",
        "version": 3
      },
      "file_extension": ".py",
      "mimetype": "text/x-python",
      "name": "python",
      "nbconvert_exporter": "python",
      "pygments_lexer": "ipython3",
      "version": "3.10.10"
    },
    "orig_nbformat": 4,
    "widgets": {
      "application/vnd.jupyter.widget-state+json": {
        "0f50bf4567b64e9f8055ede771dbfa5c": {
          "model_module": "@jupyter-widgets/controls",
          "model_module_version": "1.5.0",
          "model_name": "FloatProgressModel",
          "state": {
            "_dom_classes": [],
            "_model_module": "@jupyter-widgets/controls",
            "_model_module_version": "1.5.0",
            "_model_name": "FloatProgressModel",
            "_view_count": null,
            "_view_module": "@jupyter-widgets/controls",
            "_view_module_version": "1.5.0",
            "_view_name": "ProgressView",
            "bar_style": "success",
            "description": "",
            "description_tooltip": null,
            "layout": "IPY_MODEL_77372ed936f6459aa75dde0ed22a8a54",
            "max": 6144,
            "min": 0,
            "orientation": "horizontal",
            "style": "IPY_MODEL_ea031814282e4af59237051978d026f6",
            "value": 6144
          }
        },
        "1e3d09a8e5f74691bb8952c1859ef473": {
          "model_module": "@jupyter-widgets/base",
          "model_module_version": "1.2.0",
          "model_name": "LayoutModel",
          "state": {
            "_model_module": "@jupyter-widgets/base",
            "_model_module_version": "1.2.0",
            "_model_name": "LayoutModel",
            "_view_count": null,
            "_view_module": "@jupyter-widgets/base",
            "_view_module_version": "1.2.0",
            "_view_name": "LayoutView",
            "align_content": null,
            "align_items": null,
            "align_self": null,
            "border": null,
            "bottom": null,
            "display": null,
            "flex": null,
            "flex_flow": null,
            "grid_area": null,
            "grid_auto_columns": null,
            "grid_auto_flow": null,
            "grid_auto_rows": null,
            "grid_column": null,
            "grid_gap": null,
            "grid_row": null,
            "grid_template_areas": null,
            "grid_template_columns": null,
            "grid_template_rows": null,
            "height": null,
            "justify_content": null,
            "justify_items": null,
            "left": null,
            "margin": null,
            "max_height": null,
            "max_width": null,
            "min_height": null,
            "min_width": null,
            "object_fit": null,
            "object_position": null,
            "order": null,
            "overflow": null,
            "overflow_x": null,
            "overflow_y": null,
            "padding": null,
            "right": null,
            "top": null,
            "visibility": null,
            "width": null
          }
        },
        "41a7170a32964cc1bc2c2b48ee4b0958": {
          "model_module": "@jupyter-widgets/controls",
          "model_module_version": "1.5.0",
          "model_name": "HTMLModel",
          "state": {
            "_dom_classes": [],
            "_model_module": "@jupyter-widgets/controls",
            "_model_module_version": "1.5.0",
            "_model_name": "HTMLModel",
            "_view_count": null,
            "_view_module": "@jupyter-widgets/controls",
            "_view_module_version": "1.5.0",
            "_view_name": "HTMLView",
            "description": "",
            "description_tooltip": null,
            "layout": "IPY_MODEL_1e3d09a8e5f74691bb8952c1859ef473",
            "placeholder": "​",
            "style": "IPY_MODEL_9a74bd82e7ef407f8dec24f9c30f80f2",
            "value": " 6144/6144 [03:30&lt;00:00, 32.49epoch/s, loss=0.0114, mae=0.0875]"
          }
        },
        "4887c8f8b5c348c685b76e1f06b2946f": {
          "model_module": "@jupyter-widgets/controls",
          "model_module_version": "1.5.0",
          "model_name": "DescriptionStyleModel",
          "state": {
            "_model_module": "@jupyter-widgets/controls",
            "_model_module_version": "1.5.0",
            "_model_name": "DescriptionStyleModel",
            "_view_count": null,
            "_view_module": "@jupyter-widgets/base",
            "_view_module_version": "1.2.0",
            "_view_name": "StyleView",
            "description_width": ""
          }
        },
        "4e06176bbccd4be99bef3b8e50c6df6b": {
          "model_module": "@jupyter-widgets/base",
          "model_module_version": "1.2.0",
          "model_name": "LayoutModel",
          "state": {
            "_model_module": "@jupyter-widgets/base",
            "_model_module_version": "1.2.0",
            "_model_name": "LayoutModel",
            "_view_count": null,
            "_view_module": "@jupyter-widgets/base",
            "_view_module_version": "1.2.0",
            "_view_name": "LayoutView",
            "align_content": null,
            "align_items": null,
            "align_self": null,
            "border": null,
            "bottom": null,
            "display": null,
            "flex": null,
            "flex_flow": null,
            "grid_area": null,
            "grid_auto_columns": null,
            "grid_auto_flow": null,
            "grid_auto_rows": null,
            "grid_column": null,
            "grid_gap": null,
            "grid_row": null,
            "grid_template_areas": null,
            "grid_template_columns": null,
            "grid_template_rows": null,
            "height": null,
            "justify_content": null,
            "justify_items": null,
            "left": null,
            "margin": null,
            "max_height": null,
            "max_width": null,
            "min_height": null,
            "min_width": null,
            "object_fit": null,
            "object_position": null,
            "order": null,
            "overflow": null,
            "overflow_x": null,
            "overflow_y": null,
            "padding": null,
            "right": null,
            "top": null,
            "visibility": null,
            "width": null
          }
        },
        "56b37e1be97848138073b2fe88b434c5": {
          "model_module": "@jupyter-widgets/controls",
          "model_module_version": "1.5.0",
          "model_name": "HBoxModel",
          "state": {
            "_dom_classes": [],
            "_model_module": "@jupyter-widgets/controls",
            "_model_module_version": "1.5.0",
            "_model_name": "HBoxModel",
            "_view_count": null,
            "_view_module": "@jupyter-widgets/controls",
            "_view_module_version": "1.5.0",
            "_view_name": "HBoxView",
            "box_style": "",
            "children": [
              "IPY_MODEL_f19266f0695f47edb2fff7b6df860845",
              "IPY_MODEL_0f50bf4567b64e9f8055ede771dbfa5c",
              "IPY_MODEL_41a7170a32964cc1bc2c2b48ee4b0958"
            ],
            "layout": "IPY_MODEL_6ac46ea9363b4d17983a716c5666e1ea"
          }
        },
        "6ac46ea9363b4d17983a716c5666e1ea": {
          "model_module": "@jupyter-widgets/base",
          "model_module_version": "1.2.0",
          "model_name": "LayoutModel",
          "state": {
            "_model_module": "@jupyter-widgets/base",
            "_model_module_version": "1.2.0",
            "_model_name": "LayoutModel",
            "_view_count": null,
            "_view_module": "@jupyter-widgets/base",
            "_view_module_version": "1.2.0",
            "_view_name": "LayoutView",
            "align_content": null,
            "align_items": null,
            "align_self": null,
            "border": null,
            "bottom": null,
            "display": null,
            "flex": null,
            "flex_flow": null,
            "grid_area": null,
            "grid_auto_columns": null,
            "grid_auto_flow": null,
            "grid_auto_rows": null,
            "grid_column": null,
            "grid_gap": null,
            "grid_row": null,
            "grid_template_areas": null,
            "grid_template_columns": null,
            "grid_template_rows": null,
            "height": null,
            "justify_content": null,
            "justify_items": null,
            "left": null,
            "margin": null,
            "max_height": null,
            "max_width": null,
            "min_height": null,
            "min_width": null,
            "object_fit": null,
            "object_position": null,
            "order": null,
            "overflow": null,
            "overflow_x": null,
            "overflow_y": null,
            "padding": null,
            "right": null,
            "top": null,
            "visibility": null,
            "width": null
          }
        },
        "77372ed936f6459aa75dde0ed22a8a54": {
          "model_module": "@jupyter-widgets/base",
          "model_module_version": "1.2.0",
          "model_name": "LayoutModel",
          "state": {
            "_model_module": "@jupyter-widgets/base",
            "_model_module_version": "1.2.0",
            "_model_name": "LayoutModel",
            "_view_count": null,
            "_view_module": "@jupyter-widgets/base",
            "_view_module_version": "1.2.0",
            "_view_name": "LayoutView",
            "align_content": null,
            "align_items": null,
            "align_self": null,
            "border": null,
            "bottom": null,
            "display": null,
            "flex": null,
            "flex_flow": null,
            "grid_area": null,
            "grid_auto_columns": null,
            "grid_auto_flow": null,
            "grid_auto_rows": null,
            "grid_column": null,
            "grid_gap": null,
            "grid_row": null,
            "grid_template_areas": null,
            "grid_template_columns": null,
            "grid_template_rows": null,
            "height": null,
            "justify_content": null,
            "justify_items": null,
            "left": null,
            "margin": null,
            "max_height": null,
            "max_width": null,
            "min_height": null,
            "min_width": null,
            "object_fit": null,
            "object_position": null,
            "order": null,
            "overflow": null,
            "overflow_x": null,
            "overflow_y": null,
            "padding": null,
            "right": null,
            "top": null,
            "visibility": null,
            "width": null
          }
        },
        "9a74bd82e7ef407f8dec24f9c30f80f2": {
          "model_module": "@jupyter-widgets/controls",
          "model_module_version": "1.5.0",
          "model_name": "DescriptionStyleModel",
          "state": {
            "_model_module": "@jupyter-widgets/controls",
            "_model_module_version": "1.5.0",
            "_model_name": "DescriptionStyleModel",
            "_view_count": null,
            "_view_module": "@jupyter-widgets/base",
            "_view_module_version": "1.2.0",
            "_view_name": "StyleView",
            "description_width": ""
          }
        },
        "ea031814282e4af59237051978d026f6": {
          "model_module": "@jupyter-widgets/controls",
          "model_module_version": "1.5.0",
          "model_name": "ProgressStyleModel",
          "state": {
            "_model_module": "@jupyter-widgets/controls",
            "_model_module_version": "1.5.0",
            "_model_name": "ProgressStyleModel",
            "_view_count": null,
            "_view_module": "@jupyter-widgets/base",
            "_view_module_version": "1.2.0",
            "_view_name": "StyleView",
            "bar_color": null,
            "description_width": ""
          }
        },
        "f19266f0695f47edb2fff7b6df860845": {
          "model_module": "@jupyter-widgets/controls",
          "model_module_version": "1.5.0",
          "model_name": "HTMLModel",
          "state": {
            "_dom_classes": [],
            "_model_module": "@jupyter-widgets/controls",
            "_model_module_version": "1.5.0",
            "_model_name": "HTMLModel",
            "_view_count": null,
            "_view_module": "@jupyter-widgets/controls",
            "_view_module_version": "1.5.0",
            "_view_name": "HTMLView",
            "description": "",
            "description_tooltip": null,
            "layout": "IPY_MODEL_4e06176bbccd4be99bef3b8e50c6df6b",
            "placeholder": "​",
            "style": "IPY_MODEL_4887c8f8b5c348c685b76e1f06b2946f",
            "value": "100%"
          }
        }
      }
    }
  },
  "nbformat": 4,
  "nbformat_minor": 0
}
