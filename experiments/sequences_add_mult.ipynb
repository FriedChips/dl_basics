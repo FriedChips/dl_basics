{
  "cells": [
    {
      "cell_type": "code",
      "execution_count": 1,
      "metadata": {
        "colab": {
          "base_uri": "https://localhost:8080/"
        },
        "id": "yxFdHosMSc5M",
        "outputId": "1b4257e5-bd5c-4498-9057-b43ec120ee28"
      },
      "outputs": [
        {
          "output_type": "stream",
          "name": "stdout",
          "text": [
            "Running in Colab.\n",
            "Cloning into 'dl_basics'...\n",
            "remote: Enumerating objects: 52, done.\u001b[K\n",
            "remote: Counting objects: 100% (52/52), done.\u001b[K\n",
            "remote: Compressing objects: 100% (44/44), done.\u001b[K\n",
            "remote: Total 52 (delta 12), reused 38 (delta 8), pack-reused 0\u001b[K\n",
            "Unpacking objects: 100% (52/52), 578.94 KiB | 7.72 MiB/s, done.\n",
            "Found GPU: Tesla T4.\n"
          ]
        }
      ],
      "source": [
        "import numpy as np\n",
        "import pandas as pd\n",
        "import matplotlib.pyplot as plt\n",
        "import seaborn as sns\n",
        "import os\n",
        "import sys\n",
        "import datetime\n",
        "import json\n",
        "import tensorflow as tf\n",
        "from tqdm.keras import TqdmCallback\n",
        "\n",
        "sns.set_theme()\n",
        "\n",
        "try: # are we in Colab?\n",
        "    import google.colab\n",
        "    COMPUTE_ENV = 'colab'\n",
        "    print('Running in Colab.')\n",
        "    OUTPUT_DIR = \"./output/\"\n",
        "    #google.colab.drive.mount('/content/gdrive')\n",
        "    #os.chdir('/content/gdrive/My Drive/projects/xxx')\n",
        "    !git clone https://github.com/FriedChips/dl_basics.git\n",
        "    sys.path.insert(0,'/content/dl_basics')\n",
        "except: # if not...\n",
        "    if \"kaggle\" in os.environ[\"PWD\"]: # are we in Kaggle?\n",
        "        COMPUTE_ENV = 'kaggle'\n",
        "        print('Running in Kaggle.')\n",
        "        OUTPUT_DIR = \"./\"\n",
        "    else: # we're local\n",
        "        COMPUTE_ENV = os.uname()[1]\n",
        "        print(f\"Running locally on {COMPUTE_ENV}.\")\n",
        "        sys.path.insert(0,'./../')\n",
        "        OUTPUT_DIR = \"../output/\"\n",
        "\n",
        "for gpu in tf.config.list_physical_devices(\"GPU\"):\n",
        "    print(f\"Found GPU: {tf.config.experimental.get_device_details(gpu)['device_name']}.\")"
      ]
    },
    {
      "cell_type": "code",
      "execution_count": 2,
      "metadata": {
        "id": "9kRbLzj4Sc5S"
      },
      "outputs": [],
      "source": [
        "from data_gen.synth_sequences import SynthMathData\n",
        "import models\n",
        "import utils"
      ]
    },
    {
      "cell_type": "code",
      "execution_count": 59,
      "metadata": {
        "colab": {
          "base_uri": "https://localhost:8080/"
        },
        "id": "jazWXg9PSc5T",
        "outputId": "abd4d525-bde0-4c70-aefd-6fdb467d1b5f"
      },
      "outputs": [
        {
          "output_type": "stream",
          "name": "stdout",
          "text": [
            "(32, 32, 2) float32 (32,) float32\n"
          ]
        }
      ],
      "source": [
        "P = {}\n",
        "\n",
        "P[\"SynthMathData\"] = {\n",
        "    \"batch_size\" : 32,\n",
        "    \"seq_len\" : 32,\n",
        "    \"operation\" : \"add\",\n",
        "    \"distribution\" : \"normal\",\n",
        "    \"seed\" : 42,\n",
        "}\n",
        "\n",
        "data_gen = SynthMathData(**P[\"SynthMathData\"])\n",
        "x, y = data_gen.__getitem__(1)\n",
        "print(x.shape, x.dtype, y.shape, y.dtype)"
      ]
    },
    {
      "cell_type": "code",
      "execution_count": 60,
      "metadata": {
        "colab": {
          "base_uri": "https://localhost:8080/"
        },
        "id": "waHGL1srSc5T",
        "outputId": "aa841e33-8db8-4510-fe47-f85c89c9fbd9"
      },
      "outputs": [
        {
          "output_type": "stream",
          "name": "stdout",
          "text": [
            "Model: \"mlp_2d_01\"\n",
            "_________________________________________________________________\n",
            " Layer (type)                Output Shape              Param #   \n",
            "=================================================================\n",
            " input (InputLayer)          [(None, 32, 2)]           0         \n",
            "                                                                 \n",
            " tf.expand_dims_1 (TFOpLambd  (None, 32, 2, 1)         0         \n",
            " a)                                                              \n",
            "                                                                 \n",
            " dense_0 (Conv2D)            (None, 1, 1, 128)         8320      \n",
            "                                                                 \n",
            " flatten (Flatten)           (None, 128)               0         \n",
            "                                                                 \n",
            " tf.nn.relu_2 (TFOpLambda)   (None, 128)               0         \n",
            "                                                                 \n",
            " dense_1 (Dense)             (None, 128)               16512     \n",
            "                                                                 \n",
            " tf.nn.relu_3 (TFOpLambda)   (None, 128)               0         \n",
            "                                                                 \n",
            " dense_2 (Dense)             (None, 1)                 129       \n",
            "                                                                 \n",
            "=================================================================\n",
            "Total params: 24,961\n",
            "Trainable params: 24,961\n",
            "Non-trainable params: 0\n",
            "_________________________________________________________________\n",
            "Run dir : mlp_2d_01-230407-205528\n"
          ]
        }
      ],
      "source": [
        "# init new run\n",
        "\n",
        "'''\n",
        "P[\"model_name\"] = \"gru_01\"\n",
        "P[\"model_build_params\"] = {\n",
        "    \"gru_units\" : 32,\n",
        "    \"num_outputs\" : 1,\n",
        "    \"input_shape\" : (P[\"SynthMathData\"][\"seq_len\"], 2),\n",
        "    \"num_hidden_gru\" : 3,\n",
        "    \"use_embedding\" : False,\n",
        "    \"return_final_hidden\" : True,\n",
        "}\n",
        "'''\n",
        "\n",
        "P[\"model_name\"] = \"mlp_2d_01\"\n",
        "P[\"model_build_params\"] = {\n",
        "    \"input_shape\" : (P[\"SynthMathData\"][\"seq_len\"], 2),\n",
        "    \"layer_units\" : [128,128,1],\n",
        "    \"activation\" : \"relu\",\n",
        "}\n",
        "\n",
        "\n",
        "model = eval(\"models.\" + P[\"model_name\"])(**P[\"model_build_params\"])\n",
        "\n",
        "model.compile(\n",
        "    loss = \"mse\",\n",
        "    optimizer = \"adam\",\n",
        "    metrics = [ \"mae\" ]\n",
        ")\n",
        "\n",
        "model.summary()\n",
        "\n",
        "P[\"run_dir\"] = model.name + datetime.datetime.now().strftime('-%y%m%d-%H%M%S')\n",
        "print(\"Run dir :\", P[\"run_dir\"])\n",
        "\n",
        "run = utils.TrainingRun()"
      ]
    },
    {
      "cell_type": "code",
      "execution_count": 63,
      "metadata": {
        "colab": {
          "base_uri": "https://localhost:8080/",
          "height": 49,
          "referenced_widgets": [
            "56b37e1be97848138073b2fe88b434c5",
            "f19266f0695f47edb2fff7b6df860845",
            "0f50bf4567b64e9f8055ede771dbfa5c",
            "41a7170a32964cc1bc2c2b48ee4b0958",
            "6ac46ea9363b4d17983a716c5666e1ea",
            "4e06176bbccd4be99bef3b8e50c6df6b",
            "4887c8f8b5c348c685b76e1f06b2946f",
            "77372ed936f6459aa75dde0ed22a8a54",
            "ea031814282e4af59237051978d026f6",
            "1e3d09a8e5f74691bb8952c1859ef473",
            "9a74bd82e7ef407f8dec24f9c30f80f2"
          ]
        },
        "id": "-IJSW5stSc5U",
        "outputId": "da585c24-3733-491e-e821-19c26dce297d"
      },
      "outputs": [
        {
          "output_type": "display_data",
          "data": {
            "text/plain": [
              "0epoch [00:00, ?epoch/s]"
            ],
            "application/vnd.jupyter.widget-view+json": {
              "version_major": 2,
              "version_minor": 0,
              "model_id": "56b37e1be97848138073b2fe88b434c5"
            }
          },
          "metadata": {}
        }
      ],
      "source": [
        "NUM_EPOCHS = 1024*6\n",
        "#lr_sched = utils.Schedule_ExpCos_Segments([[-3,-3, NUM_EPOCHS]])\n",
        "\n",
        "history = model.fit(\n",
        "    data_gen,\n",
        "    epochs = NUM_EPOCHS,\n",
        "    callbacks=[\n",
        "        TqdmCallback(verbose=0),\n",
        "        #tf.keras.callbacks.LearningRateScheduler(lr_sched.scheduler),\n",
        "    ],        \n",
        "    verbose=0)\n",
        "\n",
        "run.update_history(history)"
      ]
    },
    {
      "cell_type": "code",
      "execution_count": 64,
      "metadata": {
        "colab": {
          "base_uri": "https://localhost:8080/",
          "height": 325
        },
        "id": "d5IcAVmMSc5V",
        "outputId": "8a781215-f719-4703-970e-52a8c54d771c"
      },
      "outputs": [
        {
          "output_type": "display_data",
          "data": {
            "text/plain": [
              "<Figure size 1500x300 with 3 Axes>"
            ],
            "image/png": "[encoded data removed]"
          },
          "metadata": {}
        }
      ],
      "source": [
        "fig, axs = plt.subplots(1,3, figsize=(15,3))\n",
        "\n",
        "sns.lineplot(data=run.history[[\"loss\"]], ax=axs[0], dashes=False);\n",
        "axs[0].set_yscale(\"log\");\n",
        "\n",
        "sns.lineplot(data=run.history[[\"mae\"]], ax=axs[1], dashes=False);\n",
        "axs[1].set_ylim(0,0.2);\n",
        "\n",
        "#sns.lineplot(data=run.history[[\"lr\"]], ax=axs[2], dashes=False);"
      ]
    },
    {
      "cell_type": "code",
      "source": [
        "model.compile(\n",
        "    loss = \"mse\",\n",
        "    optimizer = tf.keras.optimizers.Adam(learning_rate=1e-5),\n",
        "    metrics = [ \"mae\" ]\n",
        ")"
      ],
      "metadata": {
        "id": "vLFEkFbKYZlE"
      },
      "execution_count": 13,
      "outputs": []
    },
    {
      "cell_type": "code",
      "execution_count": null,
      "metadata": {
        "id": "orakCTxiXOdh"
      },
      "outputs": [],
      "source": [
        "run.save_state(os.path.join(OUTPUT_DIR, P[\"run_dir\"]), P, model)"
      ]
    },
    {
      "cell_type": "code",
      "execution_count": null,
      "metadata": {
        "id": "Dk6FxiyjXOdg"
      },
      "outputs": [],
      "source": [
        "P, model = run.load_state(\"../output/gru_01-230407-220913\")"
      ]
    },
    {
      "cell_type": "code",
      "execution_count": 54,
      "metadata": {
        "id": "aVaV6jJNXOdi",
        "outputId": "68b19876-592c-4480-dc20-30d42177c226",
        "colab": {
          "base_uri": "https://localhost:8080/"
        }
      },
      "outputs": [
        {
          "output_type": "stream",
          "name": "stdout",
          "text": [
            "1/1 [==============================] - 1s 1s/step\n"
          ]
        }
      ],
      "source": [
        "y_pred = model.predict(x)"
      ]
    },
    {
      "cell_type": "code",
      "source": [
        "plt.plot(y_pred)\n",
        "plt.plot(y)"
      ],
      "metadata": {
        "id": "UDrfcMhdZZHw",
        "outputId": "41042768-6148-4ebe-9216-f7a63d4fe4d5",
        "colab": {
          "base_uri": "https://localhost:8080/",
          "height": 451
        }
      },
      "execution_count": 55,
      "outputs": [
        {
          "output_type": "execute_result",
          "data": {
            "text/plain": [
              "[<matplotlib.lines.Line2D at 0x7f58c559ddc0>]"
            ]
          },
          "metadata": {},
          "execution_count": 55
        },
        {
          "output_type": "display_data",
          "data": {
            "text/plain": [
              "<Figure size 640x480 with 1 Axes>"
            ],
            "image/png": "[encoded data removed]"
          },
          "metadata": {}
        }
      ]
    },
    {
      "cell_type": "code",
      "source": [],
      "metadata": {
        "id": "eCB1PWCiZjgX"
      },
      "execution_count": null,
      "outputs": []
    }
  ],
  "metadata": {
    "accelerator": "GPU",
    "colab": {
      "provenance": []
    },
    "gpuClass": "standard",
    "kernelspec": {
      "display_name": "dl_basics",
      "language": "python",
      "name": "python3"
    },
    "language_info": {
      "codemirror_mode": {
        "name": "ipython",
        "version": 3
      },
      "file_extension": ".py",
      "mimetype": "text/x-python",
      "name": "python",
      "nbconvert_exporter": "python",
      "pygments_lexer": "ipython3",
      "version": "3.10.10"
    },
    "orig_nbformat": 4,
    "widgets": {
      "application/vnd.jupyter.widget-state+json": {
        "56b37e1be97848138073b2fe88b434c5": {
          "model_module": "@jupyter-widgets/controls",
          "model_name": "HBoxModel",
          "model_module_version": "1.5.0",
          "state": {
            "_dom_classes": [],
            "_model_module": "@jupyter-widgets/controls",
            "_model_module_version": "1.5.0",
            "_model_name": "HBoxModel",
            "_view_count": null,
            "_view_module": "@jupyter-widgets/controls",
            "_view_module_version": "1.5.0",
            "_view_name": "HBoxView",
            "box_style": "",
            "children": [
              "IPY_MODEL_f19266f0695f47edb2fff7b6df860845",
              "IPY_MODEL_0f50bf4567b64e9f8055ede771dbfa5c",
              "IPY_MODEL_41a7170a32964cc1bc2c2b48ee4b0958"
            ],
            "layout": "IPY_MODEL_6ac46ea9363b4d17983a716c5666e1ea"
          }
        },
        "f19266f0695f47edb2fff7b6df860845": {
          "model_module": "@jupyter-widgets/controls",
          "model_name": "HTMLModel",
          "model_module_version": "1.5.0",
          "state": {
            "_dom_classes": [],
            "_model_module": "@jupyter-widgets/controls",
            "_model_module_version": "1.5.0",
            "_model_name": "HTMLModel",
            "_view_count": null,
            "_view_module": "@jupyter-widgets/controls",
            "_view_module_version": "1.5.0",
            "_view_name": "HTMLView",
            "description": "",
            "description_tooltip": null,
            "layout": "IPY_MODEL_4e06176bbccd4be99bef3b8e50c6df6b",
            "placeholder": "​",
            "style": "IPY_MODEL_4887c8f8b5c348c685b76e1f06b2946f",
            "value": "100%"
          }
        },
        "0f50bf4567b64e9f8055ede771dbfa5c": {
          "model_module": "@jupyter-widgets/controls",
          "model_name": "FloatProgressModel",
          "model_module_version": "1.5.0",
          "state": {
            "_dom_classes": [],
            "_model_module": "@jupyter-widgets/controls",
            "_model_module_version": "1.5.0",
            "_model_name": "FloatProgressModel",
            "_view_count": null,
            "_view_module": "@jupyter-widgets/controls",
            "_view_module_version": "1.5.0",
            "_view_name": "ProgressView",
            "bar_style": "success",
            "description": "",
            "description_tooltip": null,
            "layout": "IPY_MODEL_77372ed936f6459aa75dde0ed22a8a54",
            "max": 6144,
            "min": 0,
            "orientation": "horizontal",
            "style": "IPY_MODEL_ea031814282e4af59237051978d026f6",
            "value": 6144
          }
        },
        "41a7170a32964cc1bc2c2b48ee4b0958": {
          "model_module": "@jupyter-widgets/controls",
          "model_name": "HTMLModel",
          "model_module_version": "1.5.0",
          "state": {
            "_dom_classes": [],
            "_model_module": "@jupyter-widgets/controls",
            "_model_module_version": "1.5.0",
            "_model_name": "HTMLModel",
            "_view_count": null,
            "_view_module": "@jupyter-widgets/controls",
            "_view_module_version": "1.5.0",
            "_view_name": "HTMLView",
            "description": "",
            "description_tooltip": null,
            "layout": "IPY_MODEL_1e3d09a8e5f74691bb8952c1859ef473",
            "placeholder": "​",
            "style": "IPY_MODEL_9a74bd82e7ef407f8dec24f9c30f80f2",
            "value": " 6144/6144 [03:30&lt;00:00, 32.49epoch/s, loss=0.0114, mae=0.0875]"
          }
        },
        "6ac46ea9363b4d17983a716c5666e1ea": {
          "model_module": "@jupyter-widgets/base",
          "model_name": "LayoutModel",
          "model_module_version": "1.2.0",
          "state": {
            "_model_module": "@jupyter-widgets/base",
            "_model_module_version": "1.2.0",
            "_model_name": "LayoutModel",
            "_view_count": null,
            "_view_module": "@jupyter-widgets/base",
            "_view_module_version": "1.2.0",
            "_view_name": "LayoutView",
            "align_content": null,
            "align_items": null,
            "align_self": null,
            "border": null,
            "bottom": null,
            "display": null,
            "flex": null,
            "flex_flow": null,
            "grid_area": null,
            "grid_auto_columns": null,
            "grid_auto_flow": null,
            "grid_auto_rows": null,
            "grid_column": null,
            "grid_gap": null,
            "grid_row": null,
            "grid_template_areas": null,
            "grid_template_columns": null,
            "grid_template_rows": null,
            "height": null,
            "justify_content": null,
            "justify_items": null,
            "left": null,
            "margin": null,
            "max_height": null,
            "max_width": null,
            "min_height": null,
            "min_width": null,
            "object_fit": null,
            "object_position": null,
            "order": null,
            "overflow": null,
            "overflow_x": null,
            "overflow_y": null,
            "padding": null,
            "right": null,
            "top": null,
            "visibility": null,
            "width": null
          }
        },
        "4e06176bbccd4be99bef3b8e50c6df6b": {
          "model_module": "@jupyter-widgets/base",
          "model_name": "LayoutModel",
          "model_module_version": "1.2.0",
          "state": {
            "_model_module": "@jupyter-widgets/base",
            "_model_module_version": "1.2.0",
            "_model_name": "LayoutModel",
            "_view_count": null,
            "_view_module": "@jupyter-widgets/base",
            "_view_module_version": "1.2.0",
            "_view_name": "LayoutView",
            "align_content": null,
            "align_items": null,
            "align_self": null,
            "border": null,
            "bottom": null,
            "display": null,
            "flex": null,
            "flex_flow": null,
            "grid_area": null,
            "grid_auto_columns": null,
            "grid_auto_flow": null,
            "grid_auto_rows": null,
            "grid_column": null,
            "grid_gap": null,
            "grid_row": null,
            "grid_template_areas": null,
            "grid_template_columns": null,
            "grid_template_rows": null,
            "height": null,
            "justify_content": null,
            "justify_items": null,
            "left": null,
            "margin": null,
            "max_height": null,
            "max_width": null,
            "min_height": null,
            "min_width": null,
            "object_fit": null,
            "object_position": null,
            "order": null,
            "overflow": null,
            "overflow_x": null,
            "overflow_y": null,
            "padding": null,
            "right": null,
            "top": null,
            "visibility": null,
            "width": null
          }
        },
        "4887c8f8b5c348c685b76e1f06b2946f": {
          "model_module": "@jupyter-widgets/controls",
          "model_name": "DescriptionStyleModel",
          "model_module_version": "1.5.0",
          "state": {
            "_model_module": "@jupyter-widgets/controls",
            "_model_module_version": "1.5.0",
            "_model_name": "DescriptionStyleModel",
            "_view_count": null,
            "_view_module": "@jupyter-widgets/base",
            "_view_module_version": "1.2.0",
            "_view_name": "StyleView",
            "description_width": ""
          }
        },
        "77372ed936f6459aa75dde0ed22a8a54": {
          "model_module": "@jupyter-widgets/base",
          "model_name": "LayoutModel",
          "model_module_version": "1.2.0",
          "state": {
            "_model_module": "@jupyter-widgets/base",
            "_model_module_version": "1.2.0",
            "_model_name": "LayoutModel",
            "_view_count": null,
            "_view_module": "@jupyter-widgets/base",
            "_view_module_version": "1.2.0",
            "_view_name": "LayoutView",
            "align_content": null,
            "align_items": null,
            "align_self": null,
            "border": null,
            "bottom": null,
            "display": null,
            "flex": null,
            "flex_flow": null,
            "grid_area": null,
            "grid_auto_columns": null,
            "grid_auto_flow": null,
            "grid_auto_rows": null,
            "grid_column": null,
            "grid_gap": null,
            "grid_row": null,
            "grid_template_areas": null,
            "grid_template_columns": null,
            "grid_template_rows": null,
            "height": null,
            "justify_content": null,
            "justify_items": null,
            "left": null,
            "margin": null,
            "max_height": null,
            "max_width": null,
            "min_height": null,
            "min_width": null,
            "object_fit": null,
            "object_position": null,
            "order": null,
            "overflow": null,
            "overflow_x": null,
            "overflow_y": null,
            "padding": null,
            "right": null,
            "top": null,
            "visibility": null,
            "width": null
          }
        },
        "ea031814282e4af59237051978d026f6": {
          "model_module": "@jupyter-widgets/controls",
          "model_name": "ProgressStyleModel",
          "model_module_version": "1.5.0",
          "state": {
            "_model_module": "@jupyter-widgets/controls",
            "_model_module_version": "1.5.0",
            "_model_name": "ProgressStyleModel",
            "_view_count": null,
            "_view_module": "@jupyter-widgets/base",
            "_view_module_version": "1.2.0",
            "_view_name": "StyleView",
            "bar_color": null,
            "description_width": ""
          }
        },
        "1e3d09a8e5f74691bb8952c1859ef473": {
          "model_module": "@jupyter-widgets/base",
          "model_name": "LayoutModel",
          "model_module_version": "1.2.0",
          "state": {
            "_model_module": "@jupyter-widgets/base",
            "_model_module_version": "1.2.0",
            "_model_name": "LayoutModel",
            "_view_count": null,
            "_view_module": "@jupyter-widgets/base",
            "_view_module_version": "1.2.0",
            "_view_name": "LayoutView",
            "align_content": null,
            "align_items": null,
            "align_self": null,
            "border": null,
            "bottom": null,
            "display": null,
            "flex": null,
            "flex_flow": null,
            "grid_area": null,
            "grid_auto_columns": null,
            "grid_auto_flow": null,
            "grid_auto_rows": null,
            "grid_column": null,
            "grid_gap": null,
            "grid_row": null,
            "grid_template_areas": null,
            "grid_template_columns": null,
            "grid_template_rows": null,
            "height": null,
            "justify_content": null,
            "justify_items": null,
            "left": null,
            "margin": null,
            "max_height": null,
            "max_width": null,
            "min_height": null,
            "min_width": null,
            "object_fit": null,
            "object_position": null,
            "order": null,
            "overflow": null,
            "overflow_x": null,
            "overflow_y": null,
            "padding": null,
            "right": null,
            "top": null,
            "visibility": null,
            "width": null
          }
        },
        "9a74bd82e7ef407f8dec24f9c30f80f2": {
          "model_module": "@jupyter-widgets/controls",
          "model_name": "DescriptionStyleModel",
          "model_module_version": "1.5.0",
          "state": {
            "_model_module": "@jupyter-widgets/controls",
            "_model_module_version": "1.5.0",
            "_model_name": "DescriptionStyleModel",
            "_view_count": null,
            "_view_module": "@jupyter-widgets/base",
            "_view_module_version": "1.2.0",
            "_view_name": "StyleView",
            "description_width": ""
          }
        }
      }
    }
  },
  "nbformat": 4,
  "nbformat_minor": 0
}