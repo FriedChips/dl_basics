{
  "cells": [
    {
      "cell_type": "code",
      "execution_count": 1,
      "metadata": {
        "colab": {
          "base_uri": "https://localhost:8080/"
        },
        "id": "yxFdHosMSc5M",
        "outputId": "800bb797-7ae2-4bd8-9eb4-cffd45fa7d11"
      },
      "outputs": [
        {
          "name": "stderr",
          "output_type": "stream",
          "text": [
            "2023-04-06 17:47:30.180670: I tensorflow/core/platform/cpu_feature_guard.cc:193] This TensorFlow binary is optimized with oneAPI Deep Neural Network Library (oneDNN) to use the following CPU instructions in performance-critical operations:  SSE4.1 SSE4.2 AVX\n",
            "To enable them in other operations, rebuild TensorFlow with the appropriate compiler flags.\n"
          ]
        },
        {
          "name": "stdout",
          "output_type": "stream",
          "text": [
            "Running locally on beta.\n"
          ]
        }
      ],
      "source": [
        "import numpy as np\n",
        "import pandas as pd\n",
        "import matplotlib.pyplot as plt\n",
        "import seaborn as sns\n",
        "import os\n",
        "import sys\n",
        "import datetime\n",
        "import tensorflow as tf\n",
        "from tqdm.keras import TqdmCallback\n",
        "\n",
        "sns.set_theme()\n",
        "\n",
        "try: # are we in Colab?\n",
        "    import google.colab\n",
        "    COMPUTE_ENV = 'colab'\n",
        "    print('Running in Colab.')\n",
        "    OUTPUT_DIR = \"./output/\"\n",
        "    #google.colab.drive.mount('/content/gdrive')\n",
        "    #os.chdir('/content/gdrive/My Drive/projects/xxx')\n",
        "    !git clone https://github.com/FriedChips/dl_basics.git\n",
        "    sys.path.insert(0,'/content/dl_basics')\n",
        "except: # if not...\n",
        "    if \"kaggle\" in os.environ[\"PWD\"]: # are we in Kaggle?\n",
        "        COMPUTE_ENV = 'kaggle'\n",
        "        print('Running in Kaggle.')\n",
        "    else: # we're local\n",
        "        COMPUTE_ENV = os.uname()[1]\n",
        "        print(f\"Running locally on {COMPUTE_ENV}.\")\n",
        "        sys.path.insert(0,'./../')\n",
        "        OUTPUT_DIR = \"../output/\"\n",
        "\n",
        "for gpu in tf.config.list_physical_devices(\"GPU\"):\n",
        "    print(f\"Found GPU: {tf.config.experimental.get_device_details(gpu)['device_name']}.\")"
      ]
    },
    {
      "cell_type": "code",
      "execution_count": 2,
      "metadata": {
        "id": "9kRbLzj4Sc5S"
      },
      "outputs": [],
      "source": [
        "from data_gen.synth_sequences import SynthMathData\n",
        "from models.rnn import build_model_gru_01\n",
        "from models.mlp import build_model_mlp_2d_01"
      ]
    },
    {
      "cell_type": "code",
      "execution_count": 3,
      "metadata": {
        "colab": {
          "base_uri": "https://localhost:8080/"
        },
        "id": "jazWXg9PSc5T",
        "outputId": "b22b83d4-76b6-454a-b2e9-53d2dc06c04c"
      },
      "outputs": [
        {
          "name": "stdout",
          "output_type": "stream",
          "text": [
            "(32, 32, 2) float32 (32,) float32\n"
          ]
        }
      ],
      "source": [
        "P = {\n",
        "    \"batch_size\" : 32,\n",
        "    \"seq_len\" : 32,\n",
        "    \"operation\" : \"add\",\n",
        "    \"distribution\" : \"normal\",\n",
        "}\n",
        "\n",
        "data_gen = SynthMathData(P[\"batch_size\"], P[\"seq_len\"], P[\"operation\"], P[\"distribution\"], seed=42)\n",
        "x, y = data_gen.__getitem__(1)\n",
        "print(x.shape, x.dtype, y.shape, y.dtype)"
      ]
    },
    {
      "cell_type": "code",
      "execution_count": 4,
      "metadata": {
        "colab": {
          "base_uri": "https://localhost:8080/",
          "height": 243
        },
        "id": "dRgIy66f4Gta",
        "outputId": "f7d8d23b-4d3f-4fcd-8c46-114102fc4001"
      },
      "outputs": [
        {
          "data": {
            "image/png": "[encoded data removed]",
            "text/plain": [
              "<Figure size 500x200 with 1 Axes>"
            ]
          },
          "metadata": {},
          "output_type": "display_data"
        }
      ],
      "source": [
        "class Schedule_ExpCos_Segments:\n",
        "    \n",
        "\n",
        "    def __init__(self, segment_list):\n",
        "        \n",
        "        self.schedule = []\n",
        "        \n",
        "        for segment in segment_list:\n",
        "            exp_start, exp_end, length = segment\n",
        "            cos_ampl = (exp_start - exp_end) / 2\n",
        "            cos_offset = exp_start - cos_ampl\n",
        "            exp = cos_ampl * np.cos(np.pi * np.arange(length) / length) + cos_offset\n",
        "            self.schedule.extend(10 ** exp)\n",
        "            \n",
        "        self.schedule = np.array(self.schedule)\n",
        "        self.len_schedule = len(self.schedule)\n",
        "\n",
        "        \n",
        "    def scheduler(self, epoch, lr):\n",
        "    \n",
        "        if epoch < self.len_schedule:\n",
        "            return self.schedule[epoch]\n",
        "        else: # fallback if training continues longer than schedule length\n",
        "            return self.schedule[-1]\n",
        "\n",
        "\n",
        "    def plot_schedule(self):\n",
        "\n",
        "        fig, ax = plt.subplots(1,1, figsize=(5,2))\n",
        "        ax.plot(self.schedule);\n",
        "        ax.set_yscale(\"log\")\n",
        "        ax.set_xlabel(\"epoch\");\n",
        "        ax.set_ylabel(\"learning rate\");\n",
        "\n",
        "    \n",
        "lr_sched = Schedule_ExpCos_Segments([[-4,-4,512], [-4,-6,512]])\n",
        "lr_sched.plot_schedule()"
      ]
    },
    {
      "cell_type": "code",
      "execution_count": 6,
      "metadata": {
        "colab": {
          "base_uri": "https://localhost:8080/"
        },
        "id": "waHGL1srSc5T",
        "outputId": "dd69e982-0975-4dfd-dceb-856805ac1b6d"
      },
      "outputs": [
        {
          "name": "stdout",
          "output_type": "stream",
          "text": [
            "Model: \"mlp_2d_01\"\n",
            "_________________________________________________________________\n",
            " Layer (type)                Output Shape              Param #   \n",
            "=================================================================\n",
            " input (InputLayer)          [(None, 32, 2)]           0         \n",
            "                                                                 \n",
            " tf.expand_dims_1 (TFOpLambd  (None, 32, 2, 1)         0         \n",
            " a)                                                              \n",
            "                                                                 \n",
            " dense_0 (Conv2D)            (None, 1, 1, 1)           65        \n",
            "                                                                 \n",
            " flatten_0 (Flatten)         (None, 1)                 0         \n",
            "                                                                 \n",
            "=================================================================\n",
            "Total params: 65\n",
            "Trainable params: 65\n",
            "Non-trainable params: 0\n",
            "_________________________________________________________________\n",
            "Run dir : mlp_2d_01-230406-174921\n"
          ]
        }
      ],
      "source": [
        "# init new run\n",
        "\n",
        "'''\n",
        "model = build_model_gru_01(\n",
        "    gru_units=128,\n",
        "    num_outputs=1,\n",
        "    input_shape=(P[\"seq_len\"], 2),\n",
        "    num_hidden_gru=5,\n",
        "    use_embedding=False,\n",
        "    #vocab_size=256,\n",
        "    #embedding_dim=64\n",
        ")\n",
        "'''\n",
        "\n",
        "model = build_model_mlp_2d_01(\n",
        "    input_shape=(P[\"seq_len\"], 2),\n",
        "    layer_units=[1]\n",
        ")\n",
        "\n",
        "def max_abs_error(y_true, y_pred):\n",
        "    return tf.reduce_max(tf.abs(y_true - y_pred), axis=-1)\n",
        "\n",
        "model.compile(\n",
        "    loss = \"mse\",\n",
        "    optimizer = \"adam\",\n",
        "    metrics = [max_abs_error]\n",
        ")\n",
        "\n",
        "model.summary()\n",
        "\n",
        "P[\"current_epoch\"] = 0\n",
        "train_history = None\n",
        "P[\"run_dir\"] = model.name + datetime.datetime.now().strftime('-%y%m%d-%H%M%S')\n",
        "print(\"Run dir :\", P[\"run_dir\"])"
      ]
    },
    {
      "cell_type": "code",
      "execution_count": 23,
      "metadata": {
        "id": "p2Kewz544Gtd"
      },
      "outputs": [],
      "source": [
        "def save_run_state():\n",
        "\n",
        "    dest_dir = os.path.join(OUTPUT_DIR, P[\"run_dir\"])\n",
        "    os.makedirs(dest_dir, exist_ok=True)\n",
        "    pd.DataFrame([P]).to_csv(os.path.join(dest_dir, \"P.csv\"), index=False)\n",
        "    if train_history is not None:\n",
        "        train_history.to_csv(os.path.join(dest_dir, \"train_history.csv\"), index=True)\n",
        "    model_filename = os.path.join(dest_dir, f\"model-e{P['current_epoch']:06d}.hdf5\")\n",
        "    model.save(model_filename)"
      ]
    },
    {
      "cell_type": "code",
      "execution_count": 28,
      "metadata": {
        "id": "SwUfpYaz4Gte"
      },
      "outputs": [],
      "source": [
        "save_run_state()"
      ]
    },
    {
      "cell_type": "code",
      "execution_count": 8,
      "metadata": {
        "colab": {
          "base_uri": "https://localhost:8080/",
          "height": 49,
          "referenced_widgets": [
            "3b3a278cdd104883b34eff69cb63ab5d",
            "7fe5d898910b4011bc95b3a015738aaa",
            "2e860fdfcc8a492fb1dabd0d318c0e27",
            "424a2a057366405485a3567b4429124c",
            "620e834dc11b4bf9b8590c8197751b9f",
            "655b1079fb3b4ee8abe52905f28f85ce",
            "f9e542d4b0a645a7b5632f55b9586078",
            "bbf3d8a98b064414a91db0e75ee6d5a0",
            "b633604f93a84f5a94eda720cf0c4173",
            "6dae61a6c67042f3b8dd72c143a5d930",
            "6f5673ec0c9344f0a5aa44ff598c7e21"
          ]
        },
        "id": "-IJSW5stSc5U",
        "outputId": "3642d5ee-9637-4054-a6a5-9f824f69b530"
      },
      "outputs": [
        {
          "data": {
            "application/vnd.jupyter.widget-view+json": {
              "model_id": "a80e156b235c424cb0c9780fac309328",
              "version_major": 2,
              "version_minor": 0
            },
            "text/plain": [
              "0epoch [00:00, ?epoch/s]"
            ]
          },
          "metadata": {},
          "output_type": "display_data"
        }
      ],
      "source": [
        "NUM_EPOCHS = 128\n",
        "lr_sched = Schedule_ExpCos_Segments([[-3,-3, NUM_EPOCHS]])\n",
        "\n",
        "\n",
        "history = model.fit(\n",
        "    data_gen,\n",
        "    initial_epoch = P[\"current_epoch\"],\n",
        "    epochs = P[\"current_epoch\"] + NUM_EPOCHS,\n",
        "    callbacks=[\n",
        "        TqdmCallback(verbose=0),\n",
        "        tf.keras.callbacks.LearningRateScheduler(lr_sched.scheduler),\n",
        "\n",
        "    ],        \n",
        "    verbose=0)\n",
        "\n",
        "P[\"current_epoch\"] += NUM_EPOCHS\n",
        "\n",
        "train_history = pd.concat([train_history, pd.DataFrame(history.history)], ignore_index=True)\n",
        "train_history[\"epoch\"] = train_history.index + 1\n",
        "train_history = train_history.set_index(\"epoch\")"
      ]
    },
    {
      "cell_type": "code",
      "execution_count": 9,
      "metadata": {
        "colab": {
          "base_uri": "https://localhost:8080/",
          "height": 319
        },
        "id": "d5IcAVmMSc5V",
        "outputId": "18bb0d10-c23a-40ed-850a-5f183cb824d2"
      },
      "outputs": [
        {
          "data": {
            "image/png": "[encoded data removed]",
            "text/plain": [
              "<Figure size 1500x300 with 3 Axes>"
            ]
          },
          "metadata": {},
          "output_type": "display_data"
        }
      ],
      "source": [
        "fig, axs = plt.subplots(1,3, figsize=(15,3))\n",
        "\n",
        "sns.lineplot(data=train_history[[\"loss\"]], ax=axs[0], dashes=False);\n",
        "axs[0].set_yscale(\"log\")\n",
        "\n",
        "sns.lineplot(data=train_history[[\"max_abs_error\"]], ax=axs[1], dashes=False);\n",
        "\n",
        "sns.lineplot(data=train_history[[\"lr\"]], ax=axs[2], dashes=False);"
      ]
    },
    {
      "cell_type": "code",
      "execution_count": null,
      "metadata": {
        "id": "VVxF_cgw5JLB"
      },
      "outputs": [],
      "source": []
    }
  ],
  "metadata": {
    "accelerator": "GPU",
    "colab": {
      "provenance": []
    },
    "gpuClass": "standard",
    "kernelspec": {
      "display_name": "dl_basics",
      "language": "python",
      "name": "python3"
    },
    "language_info": {
      "codemirror_mode": {
        "name": "ipython",
        "version": 3
      },
      "file_extension": ".py",
      "mimetype": "text/x-python",
      "name": "python",
      "nbconvert_exporter": "python",
      "pygments_lexer": "ipython3",
      "version": "3.10.10"
    },
    "orig_nbformat": 4,
    "widgets": {
      "application/vnd.jupyter.widget-state+json": {
        "2e860fdfcc8a492fb1dabd0d318c0e27": {
          "model_module": "@jupyter-widgets/controls",
          "model_module_version": "1.5.0",
          "model_name": "FloatProgressModel",
          "state": {
            "_dom_classes": [],
            "_model_module": "@jupyter-widgets/controls",
            "_model_module_version": "1.5.0",
            "_model_name": "FloatProgressModel",
            "_view_count": null,
            "_view_module": "@jupyter-widgets/controls",
            "_view_module_version": "1.5.0",
            "_view_name": "ProgressView",
            "bar_style": "success",
            "description": "",
            "description_tooltip": null,
            "layout": "IPY_MODEL_bbf3d8a98b064414a91db0e75ee6d5a0",
            "max": 6144,
            "min": 0,
            "orientation": "horizontal",
            "style": "IPY_MODEL_b633604f93a84f5a94eda720cf0c4173",
            "value": 6144
          }
        },
        "3b3a278cdd104883b34eff69cb63ab5d": {
          "model_module": "@jupyter-widgets/controls",
          "model_module_version": "1.5.0",
          "model_name": "HBoxModel",
          "state": {
            "_dom_classes": [],
            "_model_module": "@jupyter-widgets/controls",
            "_model_module_version": "1.5.0",
            "_model_name": "HBoxModel",
            "_view_count": null,
            "_view_module": "@jupyter-widgets/controls",
            "_view_module_version": "1.5.0",
            "_view_name": "HBoxView",
            "box_style": "",
            "children": [
              "IPY_MODEL_7fe5d898910b4011bc95b3a015738aaa",
              "IPY_MODEL_2e860fdfcc8a492fb1dabd0d318c0e27",
              "IPY_MODEL_424a2a057366405485a3567b4429124c"
            ],
            "layout": "IPY_MODEL_620e834dc11b4bf9b8590c8197751b9f"
          }
        },
        "424a2a057366405485a3567b4429124c": {
          "model_module": "@jupyter-widgets/controls",
          "model_module_version": "1.5.0",
          "model_name": "HTMLModel",
          "state": {
            "_dom_classes": [],
            "_model_module": "@jupyter-widgets/controls",
            "_model_module_version": "1.5.0",
            "_model_name": "HTMLModel",
            "_view_count": null,
            "_view_module": "@jupyter-widgets/controls",
            "_view_module_version": "1.5.0",
            "_view_name": "HTMLView",
            "description": "",
            "description_tooltip": null,
            "layout": "IPY_MODEL_6dae61a6c67042f3b8dd72c143a5d930",
            "placeholder": "​",
            "style": "IPY_MODEL_6f5673ec0c9344f0a5aa44ff598c7e21",
            "value": " 6144/6144 [03:49&lt;00:00, 17.78epoch/s, loss=0.523, max_abs_error=0.626]"
          }
        },
        "620e834dc11b4bf9b8590c8197751b9f": {
          "model_module": "@jupyter-widgets/base",
          "model_module_version": "1.2.0",
          "model_name": "LayoutModel",
          "state": {
            "_model_module": "@jupyter-widgets/base",
            "_model_module_version": "1.2.0",
            "_model_name": "LayoutModel",
            "_view_count": null,
            "_view_module": "@jupyter-widgets/base",
            "_view_module_version": "1.2.0",
            "_view_name": "LayoutView",
            "align_content": null,
            "align_items": null,
            "align_self": null,
            "border": null,
            "bottom": null,
            "display": null,
            "flex": null,
            "flex_flow": null,
            "grid_area": null,
            "grid_auto_columns": null,
            "grid_auto_flow": null,
            "grid_auto_rows": null,
            "grid_column": null,
            "grid_gap": null,
            "grid_row": null,
            "grid_template_areas": null,
            "grid_template_columns": null,
            "grid_template_rows": null,
            "height": null,
            "justify_content": null,
            "justify_items": null,
            "left": null,
            "margin": null,
            "max_height": null,
            "max_width": null,
            "min_height": null,
            "min_width": null,
            "object_fit": null,
            "object_position": null,
            "order": null,
            "overflow": null,
            "overflow_x": null,
            "overflow_y": null,
            "padding": null,
            "right": null,
            "top": null,
            "visibility": null,
            "width": null
          }
        },
        "655b1079fb3b4ee8abe52905f28f85ce": {
          "model_module": "@jupyter-widgets/base",
          "model_module_version": "1.2.0",
          "model_name": "LayoutModel",
          "state": {
            "_model_module": "@jupyter-widgets/base",
            "_model_module_version": "1.2.0",
            "_model_name": "LayoutModel",
            "_view_count": null,
            "_view_module": "@jupyter-widgets/base",
            "_view_module_version": "1.2.0",
            "_view_name": "LayoutView",
            "align_content": null,
            "align_items": null,
            "align_self": null,
            "border": null,
            "bottom": null,
            "display": null,
            "flex": null,
            "flex_flow": null,
            "grid_area": null,
            "grid_auto_columns": null,
            "grid_auto_flow": null,
            "grid_auto_rows": null,
            "grid_column": null,
            "grid_gap": null,
            "grid_row": null,
            "grid_template_areas": null,
            "grid_template_columns": null,
            "grid_template_rows": null,
            "height": null,
            "justify_content": null,
            "justify_items": null,
            "left": null,
            "margin": null,
            "max_height": null,
            "max_width": null,
            "min_height": null,
            "min_width": null,
            "object_fit": null,
            "object_position": null,
            "order": null,
            "overflow": null,
            "overflow_x": null,
            "overflow_y": null,
            "padding": null,
            "right": null,
            "top": null,
            "visibility": null,
            "width": null
          }
        },
        "6dae61a6c67042f3b8dd72c143a5d930": {
          "model_module": "@jupyter-widgets/base",
          "model_module_version": "1.2.0",
          "model_name": "LayoutModel",
          "state": {
            "_model_module": "@jupyter-widgets/base",
            "_model_module_version": "1.2.0",
            "_model_name": "LayoutModel",
            "_view_count": null,
            "_view_module": "@jupyter-widgets/base",
            "_view_module_version": "1.2.0",
            "_view_name": "LayoutView",
            "align_content": null,
            "align_items": null,
            "align_self": null,
            "border": null,
            "bottom": null,
            "display": null,
            "flex": null,
            "flex_flow": null,
            "grid_area": null,
            "grid_auto_columns": null,
            "grid_auto_flow": null,
            "grid_auto_rows": null,
            "grid_column": null,
            "grid_gap": null,
            "grid_row": null,
            "grid_template_areas": null,
            "grid_template_columns": null,
            "grid_template_rows": null,
            "height": null,
            "justify_content": null,
            "justify_items": null,
            "left": null,
            "margin": null,
            "max_height": null,
            "max_width": null,
            "min_height": null,
            "min_width": null,
            "object_fit": null,
            "object_position": null,
            "order": null,
            "overflow": null,
            "overflow_x": null,
            "overflow_y": null,
            "padding": null,
            "right": null,
            "top": null,
            "visibility": null,
            "width": null
          }
        },
        "6f5673ec0c9344f0a5aa44ff598c7e21": {
          "model_module": "@jupyter-widgets/controls",
          "model_module_version": "1.5.0",
          "model_name": "DescriptionStyleModel",
          "state": {
            "_model_module": "@jupyter-widgets/controls",
            "_model_module_version": "1.5.0",
            "_model_name": "DescriptionStyleModel",
            "_view_count": null,
            "_view_module": "@jupyter-widgets/base",
            "_view_module_version": "1.2.0",
            "_view_name": "StyleView",
            "description_width": ""
          }
        },
        "7fe5d898910b4011bc95b3a015738aaa": {
          "model_module": "@jupyter-widgets/controls",
          "model_module_version": "1.5.0",
          "model_name": "HTMLModel",
          "state": {
            "_dom_classes": [],
            "_model_module": "@jupyter-widgets/controls",
            "_model_module_version": "1.5.0",
            "_model_name": "HTMLModel",
            "_view_count": null,
            "_view_module": "@jupyter-widgets/controls",
            "_view_module_version": "1.5.0",
            "_view_name": "HTMLView",
            "description": "",
            "description_tooltip": null,
            "layout": "IPY_MODEL_655b1079fb3b4ee8abe52905f28f85ce",
            "placeholder": "​",
            "style": "IPY_MODEL_f9e542d4b0a645a7b5632f55b9586078",
            "value": "100%"
          }
        },
        "b633604f93a84f5a94eda720cf0c4173": {
          "model_module": "@jupyter-widgets/controls",
          "model_module_version": "1.5.0",
          "model_name": "ProgressStyleModel",
          "state": {
            "_model_module": "@jupyter-widgets/controls",
            "_model_module_version": "1.5.0",
            "_model_name": "ProgressStyleModel",
            "_view_count": null,
            "_view_module": "@jupyter-widgets/base",
            "_view_module_version": "1.2.0",
            "_view_name": "StyleView",
            "bar_color": null,
            "description_width": ""
          }
        },
        "bbf3d8a98b064414a91db0e75ee6d5a0": {
          "model_module": "@jupyter-widgets/base",
          "model_module_version": "1.2.0",
          "model_name": "LayoutModel",
          "state": {
            "_model_module": "@jupyter-widgets/base",
            "_model_module_version": "1.2.0",
            "_model_name": "LayoutModel",
            "_view_count": null,
            "_view_module": "@jupyter-widgets/base",
            "_view_module_version": "1.2.0",
            "_view_name": "LayoutView",
            "align_content": null,
            "align_items": null,
            "align_self": null,
            "border": null,
            "bottom": null,
            "display": null,
            "flex": null,
            "flex_flow": null,
            "grid_area": null,
            "grid_auto_columns": null,
            "grid_auto_flow": null,
            "grid_auto_rows": null,
            "grid_column": null,
            "grid_gap": null,
            "grid_row": null,
            "grid_template_areas": null,
            "grid_template_columns": null,
            "grid_template_rows": null,
            "height": null,
            "justify_content": null,
            "justify_items": null,
            "left": null,
            "margin": null,
            "max_height": null,
            "max_width": null,
            "min_height": null,
            "min_width": null,
            "object_fit": null,
            "object_position": null,
            "order": null,
            "overflow": null,
            "overflow_x": null,
            "overflow_y": null,
            "padding": null,
            "right": null,
            "top": null,
            "visibility": null,
            "width": null
          }
        },
        "f9e542d4b0a645a7b5632f55b9586078": {
          "model_module": "@jupyter-widgets/controls",
          "model_module_version": "1.5.0",
          "model_name": "DescriptionStyleModel",
          "state": {
            "_model_module": "@jupyter-widgets/controls",
            "_model_module_version": "1.5.0",
            "_model_name": "DescriptionStyleModel",
            "_view_count": null,
            "_view_module": "@jupyter-widgets/base",
            "_view_module_version": "1.2.0",
            "_view_name": "StyleView",
            "description_width": ""
          }
        }
      }
    }
  },
  "nbformat": 4,
  "nbformat_minor": 0
}
