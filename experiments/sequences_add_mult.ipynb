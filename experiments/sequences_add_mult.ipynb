{
 "cells": [
  {
   "cell_type": "code",
   "execution_count": 16,
   "metadata": {},
   "outputs": [
    {
     "name": "stdout",
     "output_type": "stream",
     "text": [
      "Running locally on beta.\n"
     ]
    }
   ],
   "source": [
    "import numpy as np\n",
    "import pandas as pd\n",
    "import matplotlib.pyplot as plt\n",
    "import seaborn as sns\n",
    "import os\n",
    "import sys\n",
    "import tensorflow as tf\n",
    "from tqdm.keras import TqdmCallback\n",
    "\n",
    "sns.set_theme()\n",
    "\n",
    "try: # are we in Colab?\n",
    "    import google.colab\n",
    "    COMPUTE_ENV = 'colab'\n",
    "    print('Running in Colab.')\n",
    "    #google.colab.drive.mount('/content/gdrive')\n",
    "    #os.chdir('/content/gdrive/My Drive/projects/xxx')\n",
    "    #!git clone https://github.com/maltanar/qnn-inference-examples.git\n",
    "    #sys.path.insert(0,'/content/qnn-inference-examples')\n",
    "except: # if not...\n",
    "    if \"kaggle\" in os.environ[\"PWD\"]: # are we in Kaggle?\n",
    "        COMPUTE_ENV = 'kaggle'\n",
    "        print('Running in Kaggle.')\n",
    "    else: # we're local\n",
    "        COMPUTE_ENV = os.uname()[1]\n",
    "        print(f\"Running locally on {COMPUTE_ENV}.\")\n",
    "        sys.path.insert(0,'./../')\n",
    "\n",
    "for gpu in tf.config.list_physical_devices(\"GPU\"):\n",
    "    print(f\"Found GPU: {tf.config.experimental.get_device_details(gpu)['device_name']}.\")"
   ]
  },
  {
   "cell_type": "code",
   "execution_count": 2,
   "metadata": {},
   "outputs": [],
   "source": [
    "from data_gen.synth_sequences import SynthMathData\n",
    "from models.rnn import build_model_gru_01"
   ]
  },
  {
   "cell_type": "code",
   "execution_count": 8,
   "metadata": {},
   "outputs": [
    {
     "name": "stdout",
     "output_type": "stream",
     "text": [
      "(32, 32, 2) float32 (32,) float32\n"
     ]
    }
   ],
   "source": [
    "P = {\n",
    "    \"batch_size\" : 32,\n",
    "    \"seq_len\" : 32,\n",
    "    \"operation\" : \"add\",\n",
    "    \"distribution\" : \"normal\",\n",
    "}\n",
    "\n",
    "data_gen = SynthMathData(P[\"batch_size\"], P[\"seq_len\"], P[\"operation\"], P[\"distribution\"], seed=42)\n",
    "x, y = data_gen.__getitem__(1)\n",
    "print(x.shape, x.dtype, y.shape, y.dtype)"
   ]
  },
  {
   "cell_type": "code",
   "execution_count": 27,
   "metadata": {},
   "outputs": [
    {
     "name": "stdout",
     "output_type": "stream",
     "text": [
      "Model: \"gru_01\"\n",
      "_________________________________________________________________\n",
      " Layer (type)                Output Shape              Param #   \n",
      "=================================================================\n",
      " input (InputLayer)          [(None, 32, 2)]           0         \n",
      "                                                                 \n",
      " gru_final (GRU)             (None, 32)                3456      \n",
      "                                                                 \n",
      " linear_final (Dense)        (None, 1)                 33        \n",
      "                                                                 \n",
      "=================================================================\n",
      "Total params: 3,489\n",
      "Trainable params: 3,489\n",
      "Non-trainable params: 0\n",
      "_________________________________________________________________\n"
     ]
    }
   ],
   "source": [
    "# init new run\n",
    "\n",
    "model = build_model_gru_01(\n",
    "    gru_units=32,\n",
    "    num_outputs=1,\n",
    "    input_shape=(P[\"seq_len\"], 2),\n",
    "    num_hidden_gru=0,\n",
    "    use_embedding=False,\n",
    "    #vocab_size=256,\n",
    "    #embedding_dim=64\n",
    ")\n",
    "\n",
    "model.compile(\n",
    "    loss = \"mse\",\n",
    "    optimizer = \"adam\",\n",
    ")\n",
    "\n",
    "model.summary()\n",
    "\n",
    "P[\"current_epoch\"] = 0\n",
    "train_history = None"
   ]
  },
  {
   "cell_type": "code",
   "execution_count": 37,
   "metadata": {},
   "outputs": [
    {
     "data": {
      "application/vnd.jupyter.widget-view+json": {
       "model_id": "8753e5b98422421f89bc50dc3e970ef2",
       "version_major": 2,
       "version_minor": 0
      },
      "text/plain": [
       "0epoch [00:00, ?epoch/s]"
      ]
     },
     "metadata": {},
     "output_type": "display_data"
    }
   ],
   "source": [
    "NUM_EPOCHS = 64\n",
    "\n",
    "history = model.fit(\n",
    "    data_gen,\n",
    "    initial_epoch = P[\"current_epoch\"],\n",
    "    epochs = P[\"current_epoch\"] + NUM_EPOCHS,\n",
    "    callbacks=[\n",
    "        TqdmCallback(verbose=0),\n",
    "    ],        \n",
    "    verbose=0)\n",
    "\n",
    "P[\"current_epoch\"] += NUM_EPOCHS\n",
    "\n",
    "train_history = pd.concat([train_history, pd.DataFrame(history.history)], ignore_index=True)\n",
    "train_history[\"epoch\"] = train_history.index + 1\n",
    "train_history = train_history.set_index(\"epoch\")\n",
    "#train_history.to_csv(f\"./train_history_fold_{fold}.csv\")\n"
   ]
  },
  {
   "cell_type": "code",
   "execution_count": 33,
   "metadata": {},
   "outputs": [
    {
     "data": {
      "text/html": [
       "<div>\n",
       "<style scoped>\n",
       "    .dataframe tbody tr th:only-of-type {\n",
       "        vertical-align: middle;\n",
       "    }\n",
       "\n",
       "    .dataframe tbody tr th {\n",
       "        vertical-align: top;\n",
       "    }\n",
       "\n",
       "    .dataframe thead th {\n",
       "        text-align: right;\n",
       "    }\n",
       "</style>\n",
       "<table border=\"1\" class=\"dataframe\">\n",
       "  <thead>\n",
       "    <tr style=\"text-align: right;\">\n",
       "      <th></th>\n",
       "      <th>loss</th>\n",
       "    </tr>\n",
       "    <tr>\n",
       "      <th>epoch</th>\n",
       "      <th></th>\n",
       "    </tr>\n",
       "  </thead>\n",
       "  <tbody>\n",
       "    <tr>\n",
       "      <th>1</th>\n",
       "      <td>0.531069</td>\n",
       "    </tr>\n",
       "    <tr>\n",
       "      <th>2</th>\n",
       "      <td>0.498047</td>\n",
       "    </tr>\n",
       "    <tr>\n",
       "      <th>3</th>\n",
       "      <td>0.519423</td>\n",
       "    </tr>\n",
       "    <tr>\n",
       "      <th>4</th>\n",
       "      <td>0.552298</td>\n",
       "    </tr>\n",
       "    <tr>\n",
       "      <th>5</th>\n",
       "      <td>0.887100</td>\n",
       "    </tr>\n",
       "    <tr>\n",
       "      <th>6</th>\n",
       "      <td>0.559680</td>\n",
       "    </tr>\n",
       "    <tr>\n",
       "      <th>7</th>\n",
       "      <td>0.431016</td>\n",
       "    </tr>\n",
       "    <tr>\n",
       "      <th>8</th>\n",
       "      <td>0.622232</td>\n",
       "    </tr>\n",
       "    <tr>\n",
       "      <th>9</th>\n",
       "      <td>0.545344</td>\n",
       "    </tr>\n",
       "    <tr>\n",
       "      <th>10</th>\n",
       "      <td>0.579086</td>\n",
       "    </tr>\n",
       "    <tr>\n",
       "      <th>11</th>\n",
       "      <td>0.340686</td>\n",
       "    </tr>\n",
       "    <tr>\n",
       "      <th>12</th>\n",
       "      <td>0.589417</td>\n",
       "    </tr>\n",
       "  </tbody>\n",
       "</table>\n",
       "</div>"
      ],
      "text/plain": [
       "           loss\n",
       "epoch          \n",
       "1      0.531069\n",
       "2      0.498047\n",
       "3      0.519423\n",
       "4      0.552298\n",
       "5      0.887100\n",
       "6      0.559680\n",
       "7      0.431016\n",
       "8      0.622232\n",
       "9      0.545344\n",
       "10     0.579086\n",
       "11     0.340686\n",
       "12     0.589417"
      ]
     },
     "execution_count": 33,
     "metadata": {},
     "output_type": "execute_result"
    }
   ],
   "source": [
    "train_history"
   ]
  },
  {
   "cell_type": "code",
   "execution_count": 38,
   "metadata": {},
   "outputs": [
    {
     "data": {
      "image/png": "[encoded data removed]",
      "text/plain": [
       "<Figure size 500x300 with 1 Axes>"
      ]
     },
     "metadata": {},
     "output_type": "display_data"
    }
   ],
   "source": [
    "fig, ax = plt.subplots(1,1, figsize=(5,3))\n",
    "\n",
    "#ax.set_title(f\"fold {fold}\")\n",
    "\n",
    "sns.lineplot(data=train_history[[\"loss\"]], ax=ax, dashes=False);\n",
    "ax.set_yscale(\"log\")\n",
    "\n",
    "    #sns.lineplot(data=hist[[\"accuracy\", \"val_accuracy\"]], ax=axs[1,fold], dashes=False);"
   ]
  },
  {
   "cell_type": "code",
   "execution_count": null,
   "metadata": {},
   "outputs": [],
   "source": []
  }
 ],
 "metadata": {
  "kernelspec": {
   "display_name": "dl_basics",
   "language": "python",
   "name": "python3"
  },
  "language_info": {
   "codemirror_mode": {
    "name": "ipython",
    "version": 3
   },
   "file_extension": ".py",
   "mimetype": "text/x-python",
   "name": "python",
   "nbconvert_exporter": "python",
   "pygments_lexer": "ipython3",
   "version": "3.10.10"
  },
  "orig_nbformat": 4
 },
 "nbformat": 4,
 "nbformat_minor": 2
}
